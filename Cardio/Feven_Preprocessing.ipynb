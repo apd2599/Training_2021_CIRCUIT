{
 "cells": [
  {
   "cell_type": "markdown",
   "id": "dec071c0",
   "metadata": {},
   "source": [
    "# Imports"
   ]
  },
  {
   "cell_type": "code",
   "execution_count": 27,
   "id": "04de5da4",
   "metadata": {},
   "outputs": [],
   "source": [
    "import pandas as pd\n",
    "import numpy as np\n",
    "import matplotlib.pyplot as plt \n",
    "from sklearn.preprocessing import StandardScaler,MinMaxScaler"
   ]
  },
  {
   "cell_type": "markdown",
   "id": "299a1805",
   "metadata": {},
   "source": [
    "# Data Import & Preprocessing"
   ]
  },
  {
   "cell_type": "markdown",
   "id": "c3ef135f",
   "metadata": {},
   "source": [
    "Importing Data & Dropping Duplicates"
   ]
  },
  {
   "cell_type": "code",
   "execution_count": 28,
   "id": "dd0ec51d",
   "metadata": {},
   "outputs": [],
   "source": [
    "raw_df = pd.read_csv(\"cardio_train.csv\", sep=';', index_col='id')"
   ]
  },
  {
   "cell_type": "code",
   "execution_count": 29,
   "id": "30de3187",
   "metadata": {},
   "outputs": [],
   "source": [
    "data = raw_df.drop_duplicates()"
   ]
  },
  {
   "cell_type": "code",
   "execution_count": 30,
   "id": "cf410282",
   "metadata": {},
   "outputs": [],
   "source": [
    "data = data\n",
    "target = data['cardio']\n",
    "features = data[['age','gender','height','weight','ap_hi','ap_lo','cholesterol','gluc','smoke','alco','active']]"
   ]
  },
  {
   "cell_type": "code",
   "execution_count": 31,
   "id": "e19d894c",
   "metadata": {},
   "outputs": [],
   "source": [
    "xa = pd.DataFrame(data=data)\n",
    "ya = pd.Series(data=target)"
   ]
  },
  {
   "cell_type": "code",
   "execution_count": 32,
   "id": "4a9b291b",
   "metadata": {},
   "outputs": [],
   "source": [
    "df_cont = data[['age', 'height', 'weight', 'ap_hi', 'ap_lo']]"
   ]
  },
  {
   "cell_type": "code",
   "execution_count": 33,
   "id": "3bac7302",
   "metadata": {},
   "outputs": [],
   "source": [
    "data_ss = MinMaxScaler().fit_transform(df_cont)"
   ]
  },
  {
   "cell_type": "code",
   "execution_count": 34,
   "id": "3898c6c5",
   "metadata": {},
   "outputs": [],
   "source": [
    "data_scaled = pd.DataFrame(data_ss, columns = ['age', 'height', 'weight', 'ap_hi', 'ap_lo'])"
   ]
  },
  {
   "cell_type": "code",
   "execution_count": 35,
   "id": "372b0fe2",
   "metadata": {},
   "outputs": [
    {
     "data": {
      "text/plain": [
       "<AxesSubplot:>"
      ]
     },
     "execution_count": 35,
     "metadata": {},
     "output_type": "execute_result"
    },
    {
     "data": {
      "image/png": "[encoded data removed]",
      "text/plain": [
       "<Figure size 432x288 with 1 Axes>"
      ]
     },
     "metadata": {
      "needs_background": "light"
     },
     "output_type": "display_data"
    }
   ],
   "source": [
    "data_scaled.boxplot(column = ['age', 'height', 'weight', 'ap_hi', 'ap_lo'])"
   ]
  },
  {
   "cell_type": "markdown",
   "id": "d8e81dc1",
   "metadata": {},
   "source": [
    "Creating Outlier Filters using Record Blood Pressures"
   ]
  },
  {
   "cell_type": "code",
   "execution_count": 17,
   "id": "4a72468b",
   "metadata": {},
   "outputs": [],
   "source": [
    "lo_ap_hi_filter = (data[\"ap_hi\"] < 0)\n",
    "hi_ap_hi_filter = (data[\"ap_hi\"] > 370)\n",
    "lo_ap_lo_filter = (data[\"ap_lo\"] < 0)\n",
    "hi_ap_lo_filter = (data[\"ap_lo\"] > 360)"
   ]
  },
  {
   "cell_type": "code",
   "execution_count": 18,
   "id": "19eb3815",
   "metadata": {},
   "outputs": [],
   "source": [
    "outlier_filter = (lo_ap_hi_filter | hi_ap_hi_filter | lo_ap_lo_filter | hi_ap_lo_filter)\n",
    "outliers = data[~outlier_filter]"
   ]
  },
  {
   "cell_type": "markdown",
   "id": "c34e8b4a",
   "metadata": {},
   "source": [
    "Rescaling Continuous Data after Outlier Filtering & Boxplot of Scaled Data"
   ]
  },
  {
   "cell_type": "code",
   "execution_count": 20,
   "id": "873ebb03",
   "metadata": {},
   "outputs": [],
   "source": [
    "data_s = MinMaxScaler().fit_transform(outliers[['age', 'height', 'weight', 'ap_hi', 'ap_lo']])"
   ]
  },
  {
   "cell_type": "code",
   "execution_count": 21,
   "id": "062731f1",
   "metadata": {},
   "outputs": [],
   "source": [
    "data_ = pd.DataFrame(data_s, columns = ['age', 'height', 'weight', 'ap_hi', 'ap_lo'])"
   ]
  },
  {
   "cell_type": "code",
   "execution_count": 22,
   "id": "1a084857",
   "metadata": {},
   "outputs": [
    {
     "data": {
      "text/plain": [
       "<AxesSubplot:>"
      ]
     },
     "execution_count": 22,
     "metadata": {},
     "output_type": "execute_result"
    },
    {
     "data": {
      "image/png": "[encoded data removed]",
      "text/plain": [
       "<Figure size 432x288 with 1 Axes>"
      ]
     },
     "metadata": {
      "needs_background": "light"
     },
     "output_type": "display_data"
    }
   ],
   "source": [
    "data_.boxplot(column = ['age', 'height', 'weight', 'ap_hi', 'ap_lo'])"
   ]
  },
  {
   "cell_type": "code",
   "execution_count": 39,
   "id": "44ce7676",
   "metadata": {},
   "outputs": [
    {
     "data": {
      "text/html": [
       "<div>\n",
       "<style scoped>\n",
       "    .dataframe tbody tr th:only-of-type {\n",
       "        vertical-align: middle;\n",
       "    }\n",
       "\n",
       "    .dataframe tbody tr th {\n",
       "        vertical-align: top;\n",
       "    }\n",
       "\n",
       "    .dataframe thead th {\n",
       "        text-align: right;\n",
       "    }\n",
       "</style>\n",
       "<table border=\"1\" class=\"dataframe\">\n",
       "  <thead>\n",
       "    <tr style=\"text-align: right;\">\n",
       "      <th></th>\n",
       "      <th>age</th>\n",
       "      <th>height</th>\n",
       "      <th>weight</th>\n",
       "      <th>ap_hi</th>\n",
       "      <th>ap_lo</th>\n",
       "    </tr>\n",
       "  </thead>\n",
       "  <tbody>\n",
       "    <tr>\n",
       "      <th>count</th>\n",
       "      <td>69976.000000</td>\n",
       "      <td>69976.000000</td>\n",
       "      <td>69976.000000</td>\n",
       "      <td>69976.000000</td>\n",
       "      <td>69976.000000</td>\n",
       "    </tr>\n",
       "    <tr>\n",
       "      <th>mean</th>\n",
       "      <td>0.671386</td>\n",
       "      <td>0.560816</td>\n",
       "      <td>0.337940</td>\n",
       "      <td>0.017243</td>\n",
       "      <td>0.015053</td>\n",
       "    </tr>\n",
       "    <tr>\n",
       "      <th>std</th>\n",
       "      <td>0.191047</td>\n",
       "      <td>0.042109</td>\n",
       "      <td>0.075775</td>\n",
       "      <td>0.009526</td>\n",
       "      <td>0.017028</td>\n",
       "    </tr>\n",
       "    <tr>\n",
       "      <th>min</th>\n",
       "      <td>0.000000</td>\n",
       "      <td>0.000000</td>\n",
       "      <td>0.000000</td>\n",
       "      <td>0.000000</td>\n",
       "      <td>0.000000</td>\n",
       "    </tr>\n",
       "    <tr>\n",
       "      <th>25%</th>\n",
       "      <td>0.531630</td>\n",
       "      <td>0.533333</td>\n",
       "      <td>0.289474</td>\n",
       "      <td>0.016698</td>\n",
       "      <td>0.013550</td>\n",
       "    </tr>\n",
       "    <tr>\n",
       "      <th>50%</th>\n",
       "      <td>0.689508</td>\n",
       "      <td>0.564103</td>\n",
       "      <td>0.326316</td>\n",
       "      <td>0.016698</td>\n",
       "      <td>0.013550</td>\n",
       "    </tr>\n",
       "    <tr>\n",
       "      <th>75%</th>\n",
       "      <td>0.815254</td>\n",
       "      <td>0.589744</td>\n",
       "      <td>0.378947</td>\n",
       "      <td>0.017934</td>\n",
       "      <td>0.014453</td>\n",
       "    </tr>\n",
       "    <tr>\n",
       "      <th>max</th>\n",
       "      <td>1.000000</td>\n",
       "      <td>1.000000</td>\n",
       "      <td>1.000000</td>\n",
       "      <td>1.000000</td>\n",
       "      <td>1.000000</td>\n",
       "    </tr>\n",
       "  </tbody>\n",
       "</table>\n",
       "</div>"
      ],
      "text/plain": [
       "                age        height        weight         ap_hi         ap_lo\n",
       "count  69976.000000  69976.000000  69976.000000  69976.000000  69976.000000\n",
       "mean       0.671386      0.560816      0.337940      0.017243      0.015053\n",
       "std        0.191047      0.042109      0.075775      0.009526      0.017028\n",
       "min        0.000000      0.000000      0.000000      0.000000      0.000000\n",
       "25%        0.531630      0.533333      0.289474      0.016698      0.013550\n",
       "50%        0.689508      0.564103      0.326316      0.016698      0.013550\n",
       "75%        0.815254      0.589744      0.378947      0.017934      0.014453\n",
       "max        1.000000      1.000000      1.000000      1.000000      1.000000"
      ]
     },
     "execution_count": 39,
     "metadata": {},
     "output_type": "execute_result"
    }
   ],
   "source": [
    "data_scaled.describe()"
   ]
  },
  {
   "cell_type": "code",
   "execution_count": 23,
   "id": "ce5b7248",
   "metadata": {},
   "outputs": [
    {
     "data": {
      "text/html": [
       "<div>\n",
       "<style scoped>\n",
       "    .dataframe tbody tr th:only-of-type {\n",
       "        vertical-align: middle;\n",
       "    }\n",
       "\n",
       "    .dataframe tbody tr th {\n",
       "        vertical-align: top;\n",
       "    }\n",
       "\n",
       "    .dataframe thead th {\n",
       "        text-align: right;\n",
       "    }\n",
       "</style>\n",
       "<table border=\"1\" class=\"dataframe\">\n",
       "  <thead>\n",
       "    <tr style=\"text-align: right;\">\n",
       "      <th></th>\n",
       "      <th>age</th>\n",
       "      <th>gender</th>\n",
       "      <th>height</th>\n",
       "      <th>weight</th>\n",
       "      <th>ap_hi</th>\n",
       "      <th>ap_lo</th>\n",
       "      <th>cholesterol</th>\n",
       "      <th>gluc</th>\n",
       "      <th>smoke</th>\n",
       "      <th>alco</th>\n",
       "      <th>active</th>\n",
       "      <th>cardio</th>\n",
       "    </tr>\n",
       "  </thead>\n",
       "  <tbody>\n",
       "    <tr>\n",
       "      <th>count</th>\n",
       "      <td>68976.000000</td>\n",
       "      <td>68976.000000</td>\n",
       "      <td>68976.000000</td>\n",
       "      <td>68976.000000</td>\n",
       "      <td>68976.000000</td>\n",
       "      <td>68976.000000</td>\n",
       "      <td>68976.000000</td>\n",
       "      <td>68976.000000</td>\n",
       "      <td>68976.000000</td>\n",
       "      <td>68976.000000</td>\n",
       "      <td>68976.000000</td>\n",
       "      <td>68976.000000</td>\n",
       "    </tr>\n",
       "    <tr>\n",
       "      <th>mean</th>\n",
       "      <td>19463.886874</td>\n",
       "      <td>1.348788</td>\n",
       "      <td>164.359647</td>\n",
       "      <td>74.121064</td>\n",
       "      <td>126.327491</td>\n",
       "      <td>81.333406</td>\n",
       "      <td>1.364504</td>\n",
       "      <td>1.225934</td>\n",
       "      <td>0.087900</td>\n",
       "      <td>0.053613</td>\n",
       "      <td>0.803279</td>\n",
       "      <td>0.494940</td>\n",
       "    </tr>\n",
       "    <tr>\n",
       "      <th>std</th>\n",
       "      <td>2468.373574</td>\n",
       "      <td>0.476590</td>\n",
       "      <td>8.205327</td>\n",
       "      <td>14.330106</td>\n",
       "      <td>17.724443</td>\n",
       "      <td>9.879274</td>\n",
       "      <td>0.678779</td>\n",
       "      <td>0.571893</td>\n",
       "      <td>0.283152</td>\n",
       "      <td>0.225254</td>\n",
       "      <td>0.397522</td>\n",
       "      <td>0.499978</td>\n",
       "    </tr>\n",
       "    <tr>\n",
       "      <th>min</th>\n",
       "      <td>10798.000000</td>\n",
       "      <td>1.000000</td>\n",
       "      <td>55.000000</td>\n",
       "      <td>11.000000</td>\n",
       "      <td>7.000000</td>\n",
       "      <td>0.000000</td>\n",
       "      <td>1.000000</td>\n",
       "      <td>1.000000</td>\n",
       "      <td>0.000000</td>\n",
       "      <td>0.000000</td>\n",
       "      <td>0.000000</td>\n",
       "      <td>0.000000</td>\n",
       "    </tr>\n",
       "    <tr>\n",
       "      <th>25%</th>\n",
       "      <td>17657.000000</td>\n",
       "      <td>1.000000</td>\n",
       "      <td>159.000000</td>\n",
       "      <td>65.000000</td>\n",
       "      <td>120.000000</td>\n",
       "      <td>80.000000</td>\n",
       "      <td>1.000000</td>\n",
       "      <td>1.000000</td>\n",
       "      <td>0.000000</td>\n",
       "      <td>0.000000</td>\n",
       "      <td>1.000000</td>\n",
       "      <td>0.000000</td>\n",
       "    </tr>\n",
       "    <tr>\n",
       "      <th>50%</th>\n",
       "      <td>19701.000000</td>\n",
       "      <td>1.000000</td>\n",
       "      <td>165.000000</td>\n",
       "      <td>72.000000</td>\n",
       "      <td>120.000000</td>\n",
       "      <td>80.000000</td>\n",
       "      <td>1.000000</td>\n",
       "      <td>1.000000</td>\n",
       "      <td>0.000000</td>\n",
       "      <td>0.000000</td>\n",
       "      <td>1.000000</td>\n",
       "      <td>0.000000</td>\n",
       "    </tr>\n",
       "    <tr>\n",
       "      <th>75%</th>\n",
       "      <td>21323.000000</td>\n",
       "      <td>2.000000</td>\n",
       "      <td>170.000000</td>\n",
       "      <td>82.000000</td>\n",
       "      <td>140.000000</td>\n",
       "      <td>90.000000</td>\n",
       "      <td>1.000000</td>\n",
       "      <td>1.000000</td>\n",
       "      <td>0.000000</td>\n",
       "      <td>0.000000</td>\n",
       "      <td>1.000000</td>\n",
       "      <td>1.000000</td>\n",
       "    </tr>\n",
       "    <tr>\n",
       "      <th>max</th>\n",
       "      <td>23713.000000</td>\n",
       "      <td>2.000000</td>\n",
       "      <td>250.000000</td>\n",
       "      <td>200.000000</td>\n",
       "      <td>309.000000</td>\n",
       "      <td>190.000000</td>\n",
       "      <td>3.000000</td>\n",
       "      <td>3.000000</td>\n",
       "      <td>1.000000</td>\n",
       "      <td>1.000000</td>\n",
       "      <td>1.000000</td>\n",
       "      <td>1.000000</td>\n",
       "    </tr>\n",
       "  </tbody>\n",
       "</table>\n",
       "</div>"
      ],
      "text/plain": [
       "                age        gender        height        weight         ap_hi  \\\n",
       "count  68976.000000  68976.000000  68976.000000  68976.000000  68976.000000   \n",
       "mean   19463.886874      1.348788    164.359647     74.121064    126.327491   \n",
       "std     2468.373574      0.476590      8.205327     14.330106     17.724443   \n",
       "min    10798.000000      1.000000     55.000000     11.000000      7.000000   \n",
       "25%    17657.000000      1.000000    159.000000     65.000000    120.000000   \n",
       "50%    19701.000000      1.000000    165.000000     72.000000    120.000000   \n",
       "75%    21323.000000      2.000000    170.000000     82.000000    140.000000   \n",
       "max    23713.000000      2.000000    250.000000    200.000000    309.000000   \n",
       "\n",
       "              ap_lo   cholesterol          gluc         smoke          alco  \\\n",
       "count  68976.000000  68976.000000  68976.000000  68976.000000  68976.000000   \n",
       "mean      81.333406      1.364504      1.225934      0.087900      0.053613   \n",
       "std        9.879274      0.678779      0.571893      0.283152      0.225254   \n",
       "min        0.000000      1.000000      1.000000      0.000000      0.000000   \n",
       "25%       80.000000      1.000000      1.000000      0.000000      0.000000   \n",
       "50%       80.000000      1.000000      1.000000      0.000000      0.000000   \n",
       "75%       90.000000      1.000000      1.000000      0.000000      0.000000   \n",
       "max      190.000000      3.000000      3.000000      1.000000      1.000000   \n",
       "\n",
       "             active        cardio  \n",
       "count  68976.000000  68976.000000  \n",
       "mean       0.803279      0.494940  \n",
       "std        0.397522      0.499978  \n",
       "min        0.000000      0.000000  \n",
       "25%        1.000000      0.000000  \n",
       "50%        1.000000      0.000000  \n",
       "75%        1.000000      1.000000  \n",
       "max        1.000000      1.000000  "
      ]
     },
     "execution_count": 23,
     "metadata": {},
     "output_type": "execute_result"
    }
   ],
   "source": [
    "outliers.describe()"
   ]
  },
  {
   "cell_type": "markdown",
   "id": "baea1f49",
   "metadata": {},
   "source": [
    "Scaling the Entire Dataset including Continuous and Binary/Multiclass Variables"
   ]
  },
  {
   "cell_type": "code",
   "execution_count": 24,
   "id": "84ecd06c",
   "metadata": {},
   "outputs": [],
   "source": [
    "data_full_scaled = MinMaxScaler().fit_transform(outliers)\n",
    "data_full_scaled = pd.DataFrame(data_full_scaled, columns = data.columns)"
   ]
  },
  {
   "cell_type": "code",
   "execution_count": 25,
   "id": "fc0c6881",
   "metadata": {},
   "outputs": [],
   "source": [
    "xs = pd.DataFrame(data=data_full_scaled).drop('cardio', axis = 1)\n",
    "ys = pd.Series(data=data_full_scaled[\"cardio\"])"
   ]
  },
  {
   "cell_type": "markdown",
   "id": "5a1e29c9",
   "metadata": {},
   "source": [
    "Distribution of Target"
   ]
  },
  {
   "cell_type": "code",
   "execution_count": 26,
   "id": "99b9128a",
   "metadata": {},
   "outputs": [
    {
     "data": {
      "text/plain": [
       "array([[<AxesSubplot:title={'center':'cardio'}>]], dtype=object)"
      ]
     },
     "execution_count": 26,
     "metadata": {},
     "output_type": "execute_result"
    },
    {
     "data": {
      "image/png": "[encoded data removed]",
      "text/plain": [
       "<Figure size 432x288 with 1 Axes>"
      ]
     },
     "metadata": {
      "needs_background": "light"
     },
     "output_type": "display_data"
    }
   ],
   "source": [
    "data_full_scaled.hist(column='cardio')"
   ]
  },
  {
   "cell_type": "code",
   "execution_count": 38,
   "id": "e2d30786",
   "metadata": {},
   "outputs": [
    {
     "data": {
      "text/html": [
       "<div>\n",
       "<style scoped>\n",
       "    .dataframe tbody tr th:only-of-type {\n",
       "        vertical-align: middle;\n",
       "    }\n",
       "\n",
       "    .dataframe tbody tr th {\n",
       "        vertical-align: top;\n",
       "    }\n",
       "\n",
       "    .dataframe thead th {\n",
       "        text-align: right;\n",
       "    }\n",
       "</style>\n",
       "<table border=\"1\" class=\"dataframe\">\n",
       "  <thead>\n",
       "    <tr style=\"text-align: right;\">\n",
       "      <th></th>\n",
       "      <th>age</th>\n",
       "      <th>gender</th>\n",
       "      <th>height</th>\n",
       "      <th>weight</th>\n",
       "      <th>ap_hi</th>\n",
       "      <th>ap_lo</th>\n",
       "      <th>cholesterol</th>\n",
       "      <th>gluc</th>\n",
       "      <th>smoke</th>\n",
       "      <th>alco</th>\n",
       "      <th>active</th>\n",
       "      <th>cardio</th>\n",
       "    </tr>\n",
       "  </thead>\n",
       "  <tbody>\n",
       "    <tr>\n",
       "      <th>0</th>\n",
       "      <td>0.588076</td>\n",
       "      <td>1.0</td>\n",
       "      <td>0.579487</td>\n",
       "      <td>0.269841</td>\n",
       "      <td>0.341060</td>\n",
       "      <td>0.421053</td>\n",
       "      <td>0.0</td>\n",
       "      <td>0.0</td>\n",
       "      <td>0.0</td>\n",
       "      <td>0.0</td>\n",
       "      <td>1.0</td>\n",
       "      <td>0.0</td>\n",
       "    </tr>\n",
       "    <tr>\n",
       "      <th>1</th>\n",
       "      <td>0.730159</td>\n",
       "      <td>0.0</td>\n",
       "      <td>0.517949</td>\n",
       "      <td>0.391534</td>\n",
       "      <td>0.440397</td>\n",
       "      <td>0.473684</td>\n",
       "      <td>1.0</td>\n",
       "      <td>0.0</td>\n",
       "      <td>0.0</td>\n",
       "      <td>0.0</td>\n",
       "      <td>1.0</td>\n",
       "      <td>1.0</td>\n",
       "    </tr>\n",
       "    <tr>\n",
       "      <th>2</th>\n",
       "      <td>0.624003</td>\n",
       "      <td>0.0</td>\n",
       "      <td>0.564103</td>\n",
       "      <td>0.280423</td>\n",
       "      <td>0.407285</td>\n",
       "      <td>0.368421</td>\n",
       "      <td>1.0</td>\n",
       "      <td>0.0</td>\n",
       "      <td>0.0</td>\n",
       "      <td>0.0</td>\n",
       "      <td>0.0</td>\n",
       "      <td>1.0</td>\n",
       "    </tr>\n",
       "    <tr>\n",
       "      <th>3</th>\n",
       "      <td>0.528455</td>\n",
       "      <td>1.0</td>\n",
       "      <td>0.584615</td>\n",
       "      <td>0.375661</td>\n",
       "      <td>0.473510</td>\n",
       "      <td>0.526316</td>\n",
       "      <td>0.0</td>\n",
       "      <td>0.0</td>\n",
       "      <td>0.0</td>\n",
       "      <td>0.0</td>\n",
       "      <td>1.0</td>\n",
       "      <td>1.0</td>\n",
       "    </tr>\n",
       "    <tr>\n",
       "      <th>4</th>\n",
       "      <td>0.516918</td>\n",
       "      <td>0.0</td>\n",
       "      <td>0.517949</td>\n",
       "      <td>0.238095</td>\n",
       "      <td>0.307947</td>\n",
       "      <td>0.315789</td>\n",
       "      <td>0.0</td>\n",
       "      <td>0.0</td>\n",
       "      <td>0.0</td>\n",
       "      <td>0.0</td>\n",
       "      <td>0.0</td>\n",
       "      <td>0.0</td>\n",
       "    </tr>\n",
       "  </tbody>\n",
       "</table>\n",
       "</div>"
      ],
      "text/plain": [
       "        age  gender    height    weight     ap_hi     ap_lo  cholesterol  \\\n",
       "0  0.588076     1.0  0.579487  0.269841  0.341060  0.421053          0.0   \n",
       "1  0.730159     0.0  0.517949  0.391534  0.440397  0.473684          1.0   \n",
       "2  0.624003     0.0  0.564103  0.280423  0.407285  0.368421          1.0   \n",
       "3  0.528455     1.0  0.584615  0.375661  0.473510  0.526316          0.0   \n",
       "4  0.516918     0.0  0.517949  0.238095  0.307947  0.315789          0.0   \n",
       "\n",
       "   gluc  smoke  alco  active  cardio  \n",
       "0   0.0    0.0   0.0     1.0     0.0  \n",
       "1   0.0    0.0   0.0     1.0     1.0  \n",
       "2   0.0    0.0   0.0     0.0     1.0  \n",
       "3   0.0    0.0   0.0     1.0     1.0  \n",
       "4   0.0    0.0   0.0     0.0     0.0  "
      ]
     },
     "execution_count": 38,
     "metadata": {},
     "output_type": "execute_result"
    }
   ],
   "source": [
    "data_full_scaled.head()"
   ]
  },
  {
   "cell_type": "code",
   "execution_count": null,
   "id": "dd2e298a",
   "metadata": {},
   "outputs": [],
   "source": []
  }
 ],
 "metadata": {
  "kernelspec": {
   "display_name": "Python 3",
   "language": "python",
   "name": "python3"
  },
  "language_info": {
   "codemirror_mode": {
    "name": "ipython",
    "version": 3
   },
   "file_extension": ".py",
   "mimetype": "text/x-python",
   "name": "python",
   "nbconvert_exporter": "python",
   "pygments_lexer": "ipython3",
   "version": "3.7.6"
  }
 },
 "nbformat": 4,
 "nbformat_minor": 5
}
