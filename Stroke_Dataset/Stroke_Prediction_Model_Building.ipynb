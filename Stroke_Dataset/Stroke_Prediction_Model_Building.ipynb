{
 "cells": [
  {
   "cell_type": "code",
   "execution_count": 1,
   "id": "16feddcb",
   "metadata": {},
   "outputs": [],
   "source": [
    "import pandas as pd \n",
    "import matplotlib.pyplot as plt \n",
    "import numpy as np "
   ]
  },
  {
   "cell_type": "code",
   "execution_count": 2,
   "id": "bf41a496",
   "metadata": {},
   "outputs": [
    {
     "data": {
      "text/plain": [
       "Index(['id', 'gender', 'age', 'hypertension', 'heart_disease', 'ever_married',\n",
       "       'work_type', 'Residence_type', 'avg_glucose_level', 'bmi',\n",
       "       'smoking_status', 'stroke'],\n",
       "      dtype='object')"
      ]
     },
     "execution_count": 2,
     "metadata": {},
     "output_type": "execute_result"
    }
   ],
   "source": [
    "df = pd.read_csv('healthcare-dataset-stroke-data.csv')\n",
    "\n",
    "# choose relevant columns \n",
    "df.columns"
   ]
  },
  {
   "cell_type": "code",
   "execution_count": 11,
   "id": "7ef199a5",
   "metadata": {},
   "outputs": [],
   "source": [
    "df_model = df[['gender', 'age', 'hypertension', 'heart_disease', 'ever_married', 'work_type', 'Residence_type', 'avg_glucose_level', 'smoking_status', 'stroke']]"
   ]
  },
  {
   "cell_type": "code",
   "execution_count": 12,
   "id": "6e770c26",
   "metadata": {},
   "outputs": [],
   "source": [
    "# get dummy data \n",
    "df_dum = pd.get_dummies(df_model)"
   ]
  },
  {
   "cell_type": "code",
   "execution_count": 13,
   "id": "9c553e68",
   "metadata": {},
   "outputs": [],
   "source": [
    "# train test split \n",
    "from sklearn.model_selection import train_test_split"
   ]
  },
  {
   "cell_type": "code",
   "execution_count": 14,
   "id": "24be5b70",
   "metadata": {},
   "outputs": [],
   "source": [
    "X = df_dum.drop('stroke', axis =1)\n",
    "y = df_dum.stroke.values"
   ]
  },
  {
   "cell_type": "code",
   "execution_count": 15,
   "id": "83c38b3a",
   "metadata": {},
   "outputs": [],
   "source": [
    "X_train, X_test, y_train, y_test = train_test_split(X, y, test_size=0.2, random_state=42)"
   ]
  },
  {
   "cell_type": "code",
   "execution_count": 16,
   "id": "6b94de5b",
   "metadata": {},
   "outputs": [],
   "source": [
    "# multiple linear regression \n",
    "import statsmodels.api as sm"
   ]
  },
  {
   "cell_type": "code",
   "execution_count": 17,
   "id": "44b7cfb4",
   "metadata": {},
   "outputs": [
    {
     "data": {
      "text/html": [
       "<table class=\"simpletable\">\n",
       "<caption>OLS Regression Results</caption>\n",
       "<tr>\n",
       "  <th>Dep. Variable:</th>            <td>y</td>        <th>  R-squared:         </th> <td>   0.084</td>\n",
       "</tr>\n",
       "<tr>\n",
       "  <th>Model:</th>                   <td>OLS</td>       <th>  Adj. R-squared:    </th> <td>   0.081</td>\n",
       "</tr>\n",
       "<tr>\n",
       "  <th>Method:</th>             <td>Least Squares</td>  <th>  F-statistic:       </th> <td>   31.18</td>\n",
       "</tr>\n",
       "<tr>\n",
       "  <th>Date:</th>             <td>Mon, 31 May 2021</td> <th>  Prob (F-statistic):</th> <td>5.28e-86</td>\n",
       "</tr>\n",
       "<tr>\n",
       "  <th>Time:</th>                 <td>12:18:47</td>     <th>  Log-Likelihood:    </th> <td>  821.25</td>\n",
       "</tr>\n",
       "<tr>\n",
       "  <th>No. Observations:</th>      <td>  5110</td>      <th>  AIC:               </th> <td>  -1610.</td>\n",
       "</tr>\n",
       "<tr>\n",
       "  <th>Df Residuals:</th>          <td>  5094</td>      <th>  BIC:               </th> <td>  -1506.</td>\n",
       "</tr>\n",
       "<tr>\n",
       "  <th>Df Model:</th>              <td>    15</td>      <th>                     </th>     <td> </td>   \n",
       "</tr>\n",
       "<tr>\n",
       "  <th>Covariance Type:</th>      <td>nonrobust</td>    <th>                     </th>     <td> </td>   \n",
       "</tr>\n",
       "</table>\n",
       "<table class=\"simpletable\">\n",
       "<tr>\n",
       "                 <td></td>                   <th>coef</th>     <th>std err</th>      <th>t</th>      <th>P>|t|</th>  <th>[0.025</th>    <th>0.975]</th>  \n",
       "</tr>\n",
       "<tr>\n",
       "  <th>const</th>                          <td>   -0.0421</td> <td>    0.025</td> <td>   -1.669</td> <td> 0.095</td> <td>   -0.091</td> <td>    0.007</td>\n",
       "</tr>\n",
       "<tr>\n",
       "  <th>age</th>                            <td>    0.0031</td> <td>    0.000</td> <td>   14.363</td> <td> 0.000</td> <td>    0.003</td> <td>    0.004</td>\n",
       "</tr>\n",
       "<tr>\n",
       "  <th>hypertension</th>                   <td>    0.0370</td> <td>    0.010</td> <td>    3.611</td> <td> 0.000</td> <td>    0.017</td> <td>    0.057</td>\n",
       "</tr>\n",
       "<tr>\n",
       "  <th>heart_disease</th>                  <td>    0.0508</td> <td>    0.013</td> <td>    3.766</td> <td> 0.000</td> <td>    0.024</td> <td>    0.077</td>\n",
       "</tr>\n",
       "<tr>\n",
       "  <th>avg_glucose_level</th>              <td>    0.0003</td> <td> 6.67e-05</td> <td>    4.339</td> <td> 0.000</td> <td>    0.000</td> <td>    0.000</td>\n",
       "</tr>\n",
       "<tr>\n",
       "  <th>gender_Female</th>                  <td>   -0.0059</td> <td>    0.061</td> <td>   -0.098</td> <td> 0.922</td> <td>   -0.125</td> <td>    0.113</td>\n",
       "</tr>\n",
       "<tr>\n",
       "  <th>gender_Male</th>                    <td>   -0.0076</td> <td>    0.061</td> <td>   -0.125</td> <td> 0.901</td> <td>   -0.127</td> <td>    0.112</td>\n",
       "</tr>\n",
       "<tr>\n",
       "  <th>gender_Other</th>                   <td>   -0.0286</td> <td>    0.146</td> <td>   -0.196</td> <td> 0.845</td> <td>   -0.315</td> <td>    0.258</td>\n",
       "</tr>\n",
       "<tr>\n",
       "  <th>ever_married_No</th>                <td>   -0.0030</td> <td>    0.013</td> <td>   -0.234</td> <td> 0.815</td> <td>   -0.029</td> <td>    0.022</td>\n",
       "</tr>\n",
       "<tr>\n",
       "  <th>ever_married_Yes</th>               <td>   -0.0390</td> <td>    0.014</td> <td>   -2.868</td> <td> 0.004</td> <td>   -0.066</td> <td>   -0.012</td>\n",
       "</tr>\n",
       "<tr>\n",
       "  <th>work_type_Govt_job</th>             <td>   -0.0319</td> <td>    0.012</td> <td>   -2.597</td> <td> 0.009</td> <td>   -0.056</td> <td>   -0.008</td>\n",
       "</tr>\n",
       "<tr>\n",
       "  <th>work_type_Never_worked</th>         <td>    0.0072</td> <td>    0.037</td> <td>    0.197</td> <td> 0.844</td> <td>   -0.064</td> <td>    0.079</td>\n",
       "</tr>\n",
       "<tr>\n",
       "  <th>work_type_Private</th>              <td>   -0.0172</td> <td>    0.011</td> <td>   -1.623</td> <td> 0.105</td> <td>   -0.038</td> <td>    0.004</td>\n",
       "</tr>\n",
       "<tr>\n",
       "  <th>work_type_Self-employed</th>        <td>   -0.0364</td> <td>    0.012</td> <td>   -2.937</td> <td> 0.003</td> <td>   -0.061</td> <td>   -0.012</td>\n",
       "</tr>\n",
       "<tr>\n",
       "  <th>work_type_children</th>             <td>    0.0363</td> <td>    0.013</td> <td>    2.728</td> <td> 0.006</td> <td>    0.010</td> <td>    0.062</td>\n",
       "</tr>\n",
       "<tr>\n",
       "  <th>Residence_type_Rural</th>           <td>   -0.0236</td> <td>    0.013</td> <td>   -1.833</td> <td> 0.067</td> <td>   -0.049</td> <td>    0.002</td>\n",
       "</tr>\n",
       "<tr>\n",
       "  <th>Residence_type_Urban</th>           <td>   -0.0184</td> <td>    0.013</td> <td>   -1.421</td> <td> 0.155</td> <td>   -0.044</td> <td>    0.007</td>\n",
       "</tr>\n",
       "<tr>\n",
       "  <th>smoking_status_Unknown</th>         <td>   -0.0085</td> <td>    0.008</td> <td>   -1.012</td> <td> 0.312</td> <td>   -0.025</td> <td>    0.008</td>\n",
       "</tr>\n",
       "<tr>\n",
       "  <th>smoking_status_formerly smoked</th> <td>   -0.0076</td> <td>    0.009</td> <td>   -0.883</td> <td> 0.377</td> <td>   -0.025</td> <td>    0.009</td>\n",
       "</tr>\n",
       "<tr>\n",
       "  <th>smoking_status_never smoked</th>    <td>   -0.0160</td> <td>    0.008</td> <td>   -2.044</td> <td> 0.041</td> <td>   -0.031</td> <td>   -0.001</td>\n",
       "</tr>\n",
       "<tr>\n",
       "  <th>smoking_status_smokes</th>          <td>   -0.0099</td> <td>    0.009</td> <td>   -1.111</td> <td> 0.266</td> <td>   -0.027</td> <td>    0.008</td>\n",
       "</tr>\n",
       "</table>\n",
       "<table class=\"simpletable\">\n",
       "<tr>\n",
       "  <th>Omnibus:</th>       <td>3805.258</td> <th>  Durbin-Watson:     </th> <td>   0.171</td> \n",
       "</tr>\n",
       "<tr>\n",
       "  <th>Prob(Omnibus):</th>  <td> 0.000</td>  <th>  Jarque-Bera (JB):  </th> <td>47536.667</td>\n",
       "</tr>\n",
       "<tr>\n",
       "  <th>Skew:</th>           <td> 3.650</td>  <th>  Prob(JB):          </th> <td>    0.00</td> \n",
       "</tr>\n",
       "<tr>\n",
       "  <th>Kurtosis:</th>       <td>16.038</td>  <th>  Cond. No.          </th> <td>5.51e+17</td> \n",
       "</tr>\n",
       "</table><br/><br/>Warnings:<br/>[1] Standard Errors assume that the covariance matrix of the errors is correctly specified.<br/>[2] The smallest eigenvalue is 2.55e-28. This might indicate that there are<br/>strong multicollinearity problems or that the design matrix is singular."
      ],
      "text/plain": [
       "<class 'statsmodels.iolib.summary.Summary'>\n",
       "\"\"\"\n",
       "                            OLS Regression Results                            \n",
       "==============================================================================\n",
       "Dep. Variable:                      y   R-squared:                       0.084\n",
       "Model:                            OLS   Adj. R-squared:                  0.081\n",
       "Method:                 Least Squares   F-statistic:                     31.18\n",
       "Date:                Mon, 31 May 2021   Prob (F-statistic):           5.28e-86\n",
       "Time:                        12:18:47   Log-Likelihood:                 821.25\n",
       "No. Observations:                5110   AIC:                            -1610.\n",
       "Df Residuals:                    5094   BIC:                            -1506.\n",
       "Df Model:                          15                                         \n",
       "Covariance Type:            nonrobust                                         \n",
       "==================================================================================================\n",
       "                                     coef    std err          t      P>|t|      [0.025      0.975]\n",
       "--------------------------------------------------------------------------------------------------\n",
       "const                             -0.0421      0.025     -1.669      0.095      -0.091       0.007\n",
       "age                                0.0031      0.000     14.363      0.000       0.003       0.004\n",
       "hypertension                       0.0370      0.010      3.611      0.000       0.017       0.057\n",
       "heart_disease                      0.0508      0.013      3.766      0.000       0.024       0.077\n",
       "avg_glucose_level                  0.0003   6.67e-05      4.339      0.000       0.000       0.000\n",
       "gender_Female                     -0.0059      0.061     -0.098      0.922      -0.125       0.113\n",
       "gender_Male                       -0.0076      0.061     -0.125      0.901      -0.127       0.112\n",
       "gender_Other                      -0.0286      0.146     -0.196      0.845      -0.315       0.258\n",
       "ever_married_No                   -0.0030      0.013     -0.234      0.815      -0.029       0.022\n",
       "ever_married_Yes                  -0.0390      0.014     -2.868      0.004      -0.066      -0.012\n",
       "work_type_Govt_job                -0.0319      0.012     -2.597      0.009      -0.056      -0.008\n",
       "work_type_Never_worked             0.0072      0.037      0.197      0.844      -0.064       0.079\n",
       "work_type_Private                 -0.0172      0.011     -1.623      0.105      -0.038       0.004\n",
       "work_type_Self-employed           -0.0364      0.012     -2.937      0.003      -0.061      -0.012\n",
       "work_type_children                 0.0363      0.013      2.728      0.006       0.010       0.062\n",
       "Residence_type_Rural              -0.0236      0.013     -1.833      0.067      -0.049       0.002\n",
       "Residence_type_Urban              -0.0184      0.013     -1.421      0.155      -0.044       0.007\n",
       "smoking_status_Unknown            -0.0085      0.008     -1.012      0.312      -0.025       0.008\n",
       "smoking_status_formerly smoked    -0.0076      0.009     -0.883      0.377      -0.025       0.009\n",
       "smoking_status_never smoked       -0.0160      0.008     -2.044      0.041      -0.031      -0.001\n",
       "smoking_status_smokes             -0.0099      0.009     -1.111      0.266      -0.027       0.008\n",
       "==============================================================================\n",
       "Omnibus:                     3805.258   Durbin-Watson:                   0.171\n",
       "Prob(Omnibus):                  0.000   Jarque-Bera (JB):            47536.667\n",
       "Skew:                           3.650   Prob(JB):                         0.00\n",
       "Kurtosis:                      16.038   Cond. No.                     5.51e+17\n",
       "==============================================================================\n",
       "\n",
       "Warnings:\n",
       "[1] Standard Errors assume that the covariance matrix of the errors is correctly specified.\n",
       "[2] The smallest eigenvalue is 2.55e-28. This might indicate that there are\n",
       "strong multicollinearity problems or that the design matrix is singular.\n",
       "\"\"\""
      ]
     },
     "execution_count": 17,
     "metadata": {},
     "output_type": "execute_result"
    }
   ],
   "source": [
    "X_sm = X = sm.add_constant(X)\n",
    "model = sm.OLS(y,X_sm)\n",
    "model.fit().summary()"
   ]
  },
  {
   "cell_type": "code",
   "execution_count": null,
   "id": "43b41f6c",
   "metadata": {},
   "outputs": [],
   "source": [
    "from sklearn.linear_model import LinearRegression\n"
   ]
  }
 ],
 "metadata": {
  "kernelspec": {
   "display_name": "Python 3",
   "language": "python",
   "name": "python3"
  },
  "language_info": {
   "codemirror_mode": {
    "name": "ipython",
    "version": 3
   },
   "file_extension": ".py",
   "mimetype": "text/x-python",
   "name": "python",
   "nbconvert_exporter": "python",
   "pygments_lexer": "ipython3",
   "version": "3.7.6"
  }
 },
 "nbformat": 4,
 "nbformat_minor": 5
}
