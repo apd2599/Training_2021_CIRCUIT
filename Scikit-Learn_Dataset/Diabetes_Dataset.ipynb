{
  "nbformat": 4,
  "nbformat_minor": 5,
  "metadata": {
    "kernelspec": {
      "display_name": "Python 3",
      "language": "python",
      "name": "python3"
    },
    "language_info": {
      "codemirror_mode": {
        "name": "ipython",
        "version": 3
      },
      "file_extension": ".py",
      "mimetype": "text/x-python",
      "name": "python",
      "nbconvert_exporter": "python",
      "pygments_lexer": "ipython3",
      "version": "3.7.6"
    },
    "colab": {
      "name": "Diabetes_Dataset.ipynb",
      "provenance": [],
      "include_colab_link": true
    }
  },
  "cells": [
    {
      "cell_type": "markdown",
      "metadata": {
        "id": "view-in-github",
        "colab_type": "text"
      },
      "source": [
        "<a href=\"https://colab.research.google.com/github/apd2599/Training_2021_CIRCUIT/blob/main/Scikit-Learn_Dataset/Diabetes_Dataset.ipynb\" target=\"_parent\"><img src=\"https://colab.research.google.com/assets/colab-badge.svg\" alt=\"Open In Colab\"/></a>"
      ]
    },
    {
      "cell_type": "code",
      "metadata": {
        "id": "666c831c"
      },
      "source": [
        ""
      ],
      "id": "666c831c",
      "execution_count": 65,
      "outputs": []
    },
    {
      "cell_type": "code",
      "metadata": {
        "id": "1deb30c6"
      },
      "source": [
        "import numpy as np\n",
        "import pandas as pd\n",
        "import graphviz\n",
        "import matplotlib.pyplot as plt\n",
        "import statsmodels.formula.api as smf\n",
        "import seaborn as sns\n",
        "from sklearn import random_projection\n",
        "from sklearn.preprocessing import StandardScaler\n",
        "from sklearn import datasets\n",
        "from sklearn.metrics import r2_score\n",
        "from sklearn.linear_model import LinearRegression\n",
        "from sklearn.svm import SVC\n",
        "from sklearn.model_selection import train_test_split\n",
        "from sklearn.ensemble import RandomForestClassifier\n",
        "from sklearn.metrics import accuracy_score, precision_score, recall_score, mean_squared_error\n",
        "from sklearn import tree"
      ],
      "id": "1deb30c6",
      "execution_count": 66,
      "outputs": []
    },
    {
      "cell_type": "code",
      "metadata": {
        "id": "409bdbd3"
      },
      "source": [
        "db_data = datasets.load_diabetes()"
      ],
      "id": "409bdbd3",
      "execution_count": 67,
      "outputs": []
    },
    {
      "cell_type": "code",
      "metadata": {
        "colab": {
          "base_uri": "https://localhost:8080/"
        },
        "id": "dc23bcfa",
        "outputId": "6ae8999b-cf04-40f0-b393-edc1909a9483"
      },
      "source": [
        "print(db_data['DESCR'])"
      ],
      "id": "dc23bcfa",
      "execution_count": 68,
      "outputs": [
        {
          "output_type": "stream",
          "text": [
            ".. _diabetes_dataset:\n",
            "\n",
            "Diabetes dataset\n",
            "----------------\n",
            "\n",
            "Ten baseline variables, age, sex, body mass index, average blood\n",
            "pressure, and six blood serum measurements were obtained for each of n =\n",
            "442 diabetes patients, as well as the response of interest, a\n",
            "quantitative measure of disease progression one year after baseline.\n",
            "\n",
            "**Data Set Characteristics:**\n",
            "\n",
            "  :Number of Instances: 442\n",
            "\n",
            "  :Number of Attributes: First 10 columns are numeric predictive values\n",
            "\n",
            "  :Target: Column 11 is a quantitative measure of disease progression one year after baseline\n",
            "\n",
            "  :Attribute Information:\n",
            "      - Age\n",
            "      - Sex\n",
            "      - Body mass index\n",
            "      - Average blood pressure\n",
            "      - S1\n",
            "      - S2\n",
            "      - S3\n",
            "      - S4\n",
            "      - S5\n",
            "      - S6\n",
            "\n",
            "Note: Each of these 10 feature variables have been mean centered and scaled by the standard deviation times `n_samples` (i.e. the sum of squares of each column totals 1).\n",
            "\n",
            "Source URL:\n",
            "https://www4.stat.ncsu.edu/~boos/var.select/diabetes.html\n",
            "\n",
            "For more information see:\n",
            "Bradley Efron, Trevor Hastie, Iain Johnstone and Robert Tibshirani (2004) \"Least Angle Regression,\" Annals of Statistics (with discussion), 407-499.\n",
            "(https://web.stanford.edu/~hastie/Papers/LARS/LeastAngle_2002.pdf)\n"
          ],
          "name": "stdout"
        }
      ]
    },
    {
      "cell_type": "markdown",
      "metadata": {
        "id": "12b45f7c"
      },
      "source": [
        "# Data Preprocessing"
      ],
      "id": "12b45f7c"
    },
    {
      "cell_type": "code",
      "metadata": {
        "id": "bd739b53"
      },
      "source": [
        "data = db_data['data']\n",
        "target = db_data['target']\n",
        "features = db_data['feature_names']"
      ],
      "id": "bd739b53",
      "execution_count": 69,
      "outputs": []
    },
    {
      "cell_type": "code",
      "metadata": {
        "colab": {
          "base_uri": "https://localhost:8080/"
        },
        "id": "9edbedbe",
        "outputId": "e9d86ff3-eb77-47e4-a557-2973c5af12bf"
      },
      "source": [
        "data"
      ],
      "id": "9edbedbe",
      "execution_count": 70,
      "outputs": [
        {
          "output_type": "execute_result",
          "data": {
            "text/plain": [
              "array([[ 0.03807591,  0.05068012,  0.06169621, ..., -0.00259226,\n",
              "         0.01990842, -0.01764613],\n",
              "       [-0.00188202, -0.04464164, -0.05147406, ..., -0.03949338,\n",
              "        -0.06832974, -0.09220405],\n",
              "       [ 0.08529891,  0.05068012,  0.04445121, ..., -0.00259226,\n",
              "         0.00286377, -0.02593034],\n",
              "       ...,\n",
              "       [ 0.04170844,  0.05068012, -0.01590626, ..., -0.01107952,\n",
              "        -0.04687948,  0.01549073],\n",
              "       [-0.04547248, -0.04464164,  0.03906215, ...,  0.02655962,\n",
              "         0.04452837, -0.02593034],\n",
              "       [-0.04547248, -0.04464164, -0.0730303 , ..., -0.03949338,\n",
              "        -0.00421986,  0.00306441]])"
            ]
          },
          "metadata": {
            "tags": []
          },
          "execution_count": 70
        }
      ]
    },
    {
      "cell_type": "code",
      "metadata": {
        "colab": {
          "base_uri": "https://localhost:8080/"
        },
        "id": "2915e0fe",
        "outputId": "615f26f9-77f8-4671-eb7c-3e9c5afb0f26"
      },
      "source": [
        "target"
      ],
      "id": "2915e0fe",
      "execution_count": 71,
      "outputs": [
        {
          "output_type": "execute_result",
          "data": {
            "text/plain": [
              "array([151.,  75., 141., 206., 135.,  97., 138.,  63., 110., 310., 101.,\n",
              "        69., 179., 185., 118., 171., 166., 144.,  97., 168.,  68.,  49.,\n",
              "        68., 245., 184., 202., 137.,  85., 131., 283., 129.,  59., 341.,\n",
              "        87.,  65., 102., 265., 276., 252.,  90., 100.,  55.,  61.,  92.,\n",
              "       259.,  53., 190., 142.,  75., 142., 155., 225.,  59., 104., 182.,\n",
              "       128.,  52.,  37., 170., 170.,  61., 144.,  52., 128.,  71., 163.,\n",
              "       150.,  97., 160., 178.,  48., 270., 202., 111.,  85.,  42., 170.,\n",
              "       200., 252., 113., 143.,  51.,  52., 210.,  65., 141.,  55., 134.,\n",
              "        42., 111.,  98., 164.,  48.,  96.,  90., 162., 150., 279.,  92.,\n",
              "        83., 128., 102., 302., 198.,  95.,  53., 134., 144., 232.,  81.,\n",
              "       104.,  59., 246., 297., 258., 229., 275., 281., 179., 200., 200.,\n",
              "       173., 180.,  84., 121., 161.,  99., 109., 115., 268., 274., 158.,\n",
              "       107.,  83., 103., 272.,  85., 280., 336., 281., 118., 317., 235.,\n",
              "        60., 174., 259., 178., 128.,  96., 126., 288.,  88., 292.,  71.,\n",
              "       197., 186.,  25.,  84.,  96., 195.,  53., 217., 172., 131., 214.,\n",
              "        59.,  70., 220., 268., 152.,  47.,  74., 295., 101., 151., 127.,\n",
              "       237., 225.,  81., 151., 107.,  64., 138., 185., 265., 101., 137.,\n",
              "       143., 141.,  79., 292., 178.,  91., 116.,  86., 122.,  72., 129.,\n",
              "       142.,  90., 158.,  39., 196., 222., 277.,  99., 196., 202., 155.,\n",
              "        77., 191.,  70.,  73.,  49.,  65., 263., 248., 296., 214., 185.,\n",
              "        78.,  93., 252., 150.,  77., 208.,  77., 108., 160.,  53., 220.,\n",
              "       154., 259.,  90., 246., 124.,  67.,  72., 257., 262., 275., 177.,\n",
              "        71.,  47., 187., 125.,  78.,  51., 258., 215., 303., 243.,  91.,\n",
              "       150., 310., 153., 346.,  63.,  89.,  50.,  39., 103., 308., 116.,\n",
              "       145.,  74.,  45., 115., 264.,  87., 202., 127., 182., 241.,  66.,\n",
              "        94., 283.,  64., 102., 200., 265.,  94., 230., 181., 156., 233.,\n",
              "        60., 219.,  80.,  68., 332., 248.,  84., 200.,  55.,  85.,  89.,\n",
              "        31., 129.,  83., 275.,  65., 198., 236., 253., 124.,  44., 172.,\n",
              "       114., 142., 109., 180., 144., 163., 147.,  97., 220., 190., 109.,\n",
              "       191., 122., 230., 242., 248., 249., 192., 131., 237.,  78., 135.,\n",
              "       244., 199., 270., 164.,  72.,  96., 306.,  91., 214.,  95., 216.,\n",
              "       263., 178., 113., 200., 139., 139.,  88., 148.,  88., 243.,  71.,\n",
              "        77., 109., 272.,  60.,  54., 221.,  90., 311., 281., 182., 321.,\n",
              "        58., 262., 206., 233., 242., 123., 167.,  63., 197.,  71., 168.,\n",
              "       140., 217., 121., 235., 245.,  40.,  52., 104., 132.,  88.,  69.,\n",
              "       219.,  72., 201., 110.,  51., 277.,  63., 118.,  69., 273., 258.,\n",
              "        43., 198., 242., 232., 175.,  93., 168., 275., 293., 281.,  72.,\n",
              "       140., 189., 181., 209., 136., 261., 113., 131., 174., 257.,  55.,\n",
              "        84.,  42., 146., 212., 233.,  91., 111., 152., 120.,  67., 310.,\n",
              "        94., 183.,  66., 173.,  72.,  49.,  64.,  48., 178., 104., 132.,\n",
              "       220.,  57.])"
            ]
          },
          "metadata": {
            "tags": []
          },
          "execution_count": 71
        }
      ]
    },
    {
      "cell_type": "code",
      "metadata": {
        "id": "224d0f03"
      },
      "source": [
        "data_ss = StandardScaler().fit_transform(data)\n",
        "Xdf = pd.DataFrame(data_ss, columns=features)\n",
        "ys = pd.Series(target)"
      ],
      "id": "224d0f03",
      "execution_count": 72,
      "outputs": []
    },
    {
      "cell_type": "code",
      "metadata": {
        "colab": {
          "base_uri": "https://localhost:8080/",
          "height": 423
        },
        "id": "c0612ab6",
        "outputId": "50a6c0e0-7748-4a86-8489-a520f3c83088"
      },
      "source": [
        "Xdf "
      ],
      "id": "c0612ab6",
      "execution_count": 73,
      "outputs": [
        {
          "output_type": "execute_result",
          "data": {
            "text/html": [
              "<div>\n",
              "<style scoped>\n",
              "    .dataframe tbody tr th:only-of-type {\n",
              "        vertical-align: middle;\n",
              "    }\n",
              "\n",
              "    .dataframe tbody tr th {\n",
              "        vertical-align: top;\n",
              "    }\n",
              "\n",
              "    .dataframe thead th {\n",
              "        text-align: right;\n",
              "    }\n",
              "</style>\n",
              "<table border=\"1\" class=\"dataframe\">\n",
              "  <thead>\n",
              "    <tr style=\"text-align: right;\">\n",
              "      <th></th>\n",
              "      <th>age</th>\n",
              "      <th>sex</th>\n",
              "      <th>bmi</th>\n",
              "      <th>bp</th>\n",
              "      <th>s1</th>\n",
              "      <th>s2</th>\n",
              "      <th>s3</th>\n",
              "      <th>s4</th>\n",
              "      <th>s5</th>\n",
              "      <th>s6</th>\n",
              "    </tr>\n",
              "  </thead>\n",
              "  <tbody>\n",
              "    <tr>\n",
              "      <th>0</th>\n",
              "      <td>0.800500</td>\n",
              "      <td>1.065488</td>\n",
              "      <td>1.297088</td>\n",
              "      <td>0.459840</td>\n",
              "      <td>-0.929746</td>\n",
              "      <td>-0.732065</td>\n",
              "      <td>-0.912451</td>\n",
              "      <td>-0.054499</td>\n",
              "      <td>0.418551</td>\n",
              "      <td>-0.370989</td>\n",
              "    </tr>\n",
              "    <tr>\n",
              "      <th>1</th>\n",
              "      <td>-0.039567</td>\n",
              "      <td>-0.938537</td>\n",
              "      <td>-1.082180</td>\n",
              "      <td>-0.553511</td>\n",
              "      <td>-0.177624</td>\n",
              "      <td>-0.402886</td>\n",
              "      <td>1.564414</td>\n",
              "      <td>-0.830301</td>\n",
              "      <td>-1.436551</td>\n",
              "      <td>-1.938479</td>\n",
              "    </tr>\n",
              "    <tr>\n",
              "      <th>2</th>\n",
              "      <td>1.793307</td>\n",
              "      <td>1.065488</td>\n",
              "      <td>0.934533</td>\n",
              "      <td>-0.119218</td>\n",
              "      <td>-0.958674</td>\n",
              "      <td>-0.718897</td>\n",
              "      <td>-0.680245</td>\n",
              "      <td>-0.054499</td>\n",
              "      <td>0.060207</td>\n",
              "      <td>-0.545154</td>\n",
              "    </tr>\n",
              "    <tr>\n",
              "      <th>3</th>\n",
              "      <td>-1.872441</td>\n",
              "      <td>-0.938537</td>\n",
              "      <td>-0.243771</td>\n",
              "      <td>-0.770658</td>\n",
              "      <td>0.256292</td>\n",
              "      <td>0.525397</td>\n",
              "      <td>-0.757647</td>\n",
              "      <td>0.721302</td>\n",
              "      <td>0.477072</td>\n",
              "      <td>-0.196823</td>\n",
              "    </tr>\n",
              "    <tr>\n",
              "      <th>4</th>\n",
              "      <td>0.113172</td>\n",
              "      <td>-0.938537</td>\n",
              "      <td>-0.764944</td>\n",
              "      <td>0.459840</td>\n",
              "      <td>0.082726</td>\n",
              "      <td>0.327890</td>\n",
              "      <td>0.171178</td>\n",
              "      <td>-0.054499</td>\n",
              "      <td>-0.672582</td>\n",
              "      <td>-0.980568</td>\n",
              "    </tr>\n",
              "    <tr>\n",
              "      <th>...</th>\n",
              "      <td>...</td>\n",
              "      <td>...</td>\n",
              "      <td>...</td>\n",
              "      <td>...</td>\n",
              "      <td>...</td>\n",
              "      <td>...</td>\n",
              "      <td>...</td>\n",
              "      <td>...</td>\n",
              "      <td>...</td>\n",
              "      <td>...</td>\n",
              "    </tr>\n",
              "    <tr>\n",
              "      <th>437</th>\n",
              "      <td>0.876870</td>\n",
              "      <td>1.065488</td>\n",
              "      <td>0.413360</td>\n",
              "      <td>1.256044</td>\n",
              "      <td>-0.119769</td>\n",
              "      <td>-0.053957</td>\n",
              "      <td>-0.602843</td>\n",
              "      <td>-0.054499</td>\n",
              "      <td>0.655795</td>\n",
              "      <td>0.151508</td>\n",
              "    </tr>\n",
              "    <tr>\n",
              "      <th>438</th>\n",
              "      <td>-0.115937</td>\n",
              "      <td>1.065488</td>\n",
              "      <td>-0.334410</td>\n",
              "      <td>-1.422098</td>\n",
              "      <td>1.037341</td>\n",
              "      <td>1.664355</td>\n",
              "      <td>-0.602843</td>\n",
              "      <td>0.721302</td>\n",
              "      <td>-0.380915</td>\n",
              "      <td>0.935254</td>\n",
              "    </tr>\n",
              "    <tr>\n",
              "      <th>439</th>\n",
              "      <td>0.876870</td>\n",
              "      <td>1.065488</td>\n",
              "      <td>-0.334410</td>\n",
              "      <td>0.363330</td>\n",
              "      <td>-0.785107</td>\n",
              "      <td>-0.290965</td>\n",
              "      <td>-0.525441</td>\n",
              "      <td>-0.232934</td>\n",
              "      <td>-0.985585</td>\n",
              "      <td>0.325674</td>\n",
              "    </tr>\n",
              "    <tr>\n",
              "      <th>440</th>\n",
              "      <td>-0.956004</td>\n",
              "      <td>-0.938537</td>\n",
              "      <td>0.821235</td>\n",
              "      <td>0.025547</td>\n",
              "      <td>0.343075</td>\n",
              "      <td>0.321306</td>\n",
              "      <td>-0.602843</td>\n",
              "      <td>0.558384</td>\n",
              "      <td>0.936155</td>\n",
              "      <td>-0.545154</td>\n",
              "    </tr>\n",
              "    <tr>\n",
              "      <th>441</th>\n",
              "      <td>-0.956004</td>\n",
              "      <td>-0.938537</td>\n",
              "      <td>-1.535374</td>\n",
              "      <td>-1.711626</td>\n",
              "      <td>1.760535</td>\n",
              "      <td>0.584649</td>\n",
              "      <td>3.654268</td>\n",
              "      <td>-0.830301</td>\n",
              "      <td>-0.088717</td>\n",
              "      <td>0.064426</td>\n",
              "    </tr>\n",
              "  </tbody>\n",
              "</table>\n",
              "<p>442 rows × 10 columns</p>\n",
              "</div>"
            ],
            "text/plain": [
              "          age       sex       bmi  ...        s4        s5        s6\n",
              "0    0.800500  1.065488  1.297088  ... -0.054499  0.418551 -0.370989\n",
              "1   -0.039567 -0.938537 -1.082180  ... -0.830301 -1.436551 -1.938479\n",
              "2    1.793307  1.065488  0.934533  ... -0.054499  0.060207 -0.545154\n",
              "3   -1.872441 -0.938537 -0.243771  ...  0.721302  0.477072 -0.196823\n",
              "4    0.113172 -0.938537 -0.764944  ... -0.054499 -0.672582 -0.980568\n",
              "..        ...       ...       ...  ...       ...       ...       ...\n",
              "437  0.876870  1.065488  0.413360  ... -0.054499  0.655795  0.151508\n",
              "438 -0.115937  1.065488 -0.334410  ...  0.721302 -0.380915  0.935254\n",
              "439  0.876870  1.065488 -0.334410  ... -0.232934 -0.985585  0.325674\n",
              "440 -0.956004 -0.938537  0.821235  ...  0.558384  0.936155 -0.545154\n",
              "441 -0.956004 -0.938537 -1.535374  ... -0.830301 -0.088717  0.064426\n",
              "\n",
              "[442 rows x 10 columns]"
            ]
          },
          "metadata": {
            "tags": []
          },
          "execution_count": 73
        }
      ]
    },
    {
      "cell_type": "code",
      "metadata": {
        "colab": {
          "base_uri": "https://localhost:8080/"
        },
        "id": "cbee7803",
        "outputId": "44352246-0154-40a0-f054-70504189f8c2"
      },
      "source": [
        "ys"
      ],
      "id": "cbee7803",
      "execution_count": 74,
      "outputs": [
        {
          "output_type": "execute_result",
          "data": {
            "text/plain": [
              "0      151.0\n",
              "1       75.0\n",
              "2      141.0\n",
              "3      206.0\n",
              "4      135.0\n",
              "       ...  \n",
              "437    178.0\n",
              "438    104.0\n",
              "439    132.0\n",
              "440    220.0\n",
              "441     57.0\n",
              "Length: 442, dtype: float64"
            ]
          },
          "metadata": {
            "tags": []
          },
          "execution_count": 74
        }
      ]
    },
    {
      "cell_type": "code",
      "metadata": {
        "colab": {
          "base_uri": "https://localhost:8080/"
        },
        "id": "14faf2d9",
        "outputId": "350cca1d-4a7a-41e3-ede8-b263893e1a16"
      },
      "source": [
        "Xdf.columns"
      ],
      "id": "14faf2d9",
      "execution_count": 75,
      "outputs": [
        {
          "output_type": "execute_result",
          "data": {
            "text/plain": [
              "Index(['age', 'sex', 'bmi', 'bp', 's1', 's2', 's3', 's4', 's5', 's6'], dtype='object')"
            ]
          },
          "metadata": {
            "tags": []
          },
          "execution_count": 75
        }
      ]
    },
    {
      "cell_type": "code",
      "metadata": {
        "id": "8d15d9ba"
      },
      "source": [
        "#ys = ys.cumsum()\n",
        "#ys.plot()"
      ],
      "id": "8d15d9ba",
      "execution_count": 76,
      "outputs": []
    },
    {
      "cell_type": "code",
      "metadata": {
        "id": "dcf4e2a7"
      },
      "source": [
        "n_Xdf = pd.DataFrame(data, columns=features)"
      ],
      "id": "dcf4e2a7",
      "execution_count": 77,
      "outputs": []
    },
    {
      "cell_type": "code",
      "metadata": {
        "colab": {
          "base_uri": "https://localhost:8080/",
          "height": 423
        },
        "id": "2ec55b0e",
        "outputId": "c7108780-fe50-4f4f-e5dc-99eea2c8d6ba"
      },
      "source": [
        "n_Xdf"
      ],
      "id": "2ec55b0e",
      "execution_count": 78,
      "outputs": [
        {
          "output_type": "execute_result",
          "data": {
            "text/html": [
              "<div>\n",
              "<style scoped>\n",
              "    .dataframe tbody tr th:only-of-type {\n",
              "        vertical-align: middle;\n",
              "    }\n",
              "\n",
              "    .dataframe tbody tr th {\n",
              "        vertical-align: top;\n",
              "    }\n",
              "\n",
              "    .dataframe thead th {\n",
              "        text-align: right;\n",
              "    }\n",
              "</style>\n",
              "<table border=\"1\" class=\"dataframe\">\n",
              "  <thead>\n",
              "    <tr style=\"text-align: right;\">\n",
              "      <th></th>\n",
              "      <th>age</th>\n",
              "      <th>sex</th>\n",
              "      <th>bmi</th>\n",
              "      <th>bp</th>\n",
              "      <th>s1</th>\n",
              "      <th>s2</th>\n",
              "      <th>s3</th>\n",
              "      <th>s4</th>\n",
              "      <th>s5</th>\n",
              "      <th>s6</th>\n",
              "    </tr>\n",
              "  </thead>\n",
              "  <tbody>\n",
              "    <tr>\n",
              "      <th>0</th>\n",
              "      <td>0.038076</td>\n",
              "      <td>0.050680</td>\n",
              "      <td>0.061696</td>\n",
              "      <td>0.021872</td>\n",
              "      <td>-0.044223</td>\n",
              "      <td>-0.034821</td>\n",
              "      <td>-0.043401</td>\n",
              "      <td>-0.002592</td>\n",
              "      <td>0.019908</td>\n",
              "      <td>-0.017646</td>\n",
              "    </tr>\n",
              "    <tr>\n",
              "      <th>1</th>\n",
              "      <td>-0.001882</td>\n",
              "      <td>-0.044642</td>\n",
              "      <td>-0.051474</td>\n",
              "      <td>-0.026328</td>\n",
              "      <td>-0.008449</td>\n",
              "      <td>-0.019163</td>\n",
              "      <td>0.074412</td>\n",
              "      <td>-0.039493</td>\n",
              "      <td>-0.068330</td>\n",
              "      <td>-0.092204</td>\n",
              "    </tr>\n",
              "    <tr>\n",
              "      <th>2</th>\n",
              "      <td>0.085299</td>\n",
              "      <td>0.050680</td>\n",
              "      <td>0.044451</td>\n",
              "      <td>-0.005671</td>\n",
              "      <td>-0.045599</td>\n",
              "      <td>-0.034194</td>\n",
              "      <td>-0.032356</td>\n",
              "      <td>-0.002592</td>\n",
              "      <td>0.002864</td>\n",
              "      <td>-0.025930</td>\n",
              "    </tr>\n",
              "    <tr>\n",
              "      <th>3</th>\n",
              "      <td>-0.089063</td>\n",
              "      <td>-0.044642</td>\n",
              "      <td>-0.011595</td>\n",
              "      <td>-0.036656</td>\n",
              "      <td>0.012191</td>\n",
              "      <td>0.024991</td>\n",
              "      <td>-0.036038</td>\n",
              "      <td>0.034309</td>\n",
              "      <td>0.022692</td>\n",
              "      <td>-0.009362</td>\n",
              "    </tr>\n",
              "    <tr>\n",
              "      <th>4</th>\n",
              "      <td>0.005383</td>\n",
              "      <td>-0.044642</td>\n",
              "      <td>-0.036385</td>\n",
              "      <td>0.021872</td>\n",
              "      <td>0.003935</td>\n",
              "      <td>0.015596</td>\n",
              "      <td>0.008142</td>\n",
              "      <td>-0.002592</td>\n",
              "      <td>-0.031991</td>\n",
              "      <td>-0.046641</td>\n",
              "    </tr>\n",
              "    <tr>\n",
              "      <th>...</th>\n",
              "      <td>...</td>\n",
              "      <td>...</td>\n",
              "      <td>...</td>\n",
              "      <td>...</td>\n",
              "      <td>...</td>\n",
              "      <td>...</td>\n",
              "      <td>...</td>\n",
              "      <td>...</td>\n",
              "      <td>...</td>\n",
              "      <td>...</td>\n",
              "    </tr>\n",
              "    <tr>\n",
              "      <th>437</th>\n",
              "      <td>0.041708</td>\n",
              "      <td>0.050680</td>\n",
              "      <td>0.019662</td>\n",
              "      <td>0.059744</td>\n",
              "      <td>-0.005697</td>\n",
              "      <td>-0.002566</td>\n",
              "      <td>-0.028674</td>\n",
              "      <td>-0.002592</td>\n",
              "      <td>0.031193</td>\n",
              "      <td>0.007207</td>\n",
              "    </tr>\n",
              "    <tr>\n",
              "      <th>438</th>\n",
              "      <td>-0.005515</td>\n",
              "      <td>0.050680</td>\n",
              "      <td>-0.015906</td>\n",
              "      <td>-0.067642</td>\n",
              "      <td>0.049341</td>\n",
              "      <td>0.079165</td>\n",
              "      <td>-0.028674</td>\n",
              "      <td>0.034309</td>\n",
              "      <td>-0.018118</td>\n",
              "      <td>0.044485</td>\n",
              "    </tr>\n",
              "    <tr>\n",
              "      <th>439</th>\n",
              "      <td>0.041708</td>\n",
              "      <td>0.050680</td>\n",
              "      <td>-0.015906</td>\n",
              "      <td>0.017282</td>\n",
              "      <td>-0.037344</td>\n",
              "      <td>-0.013840</td>\n",
              "      <td>-0.024993</td>\n",
              "      <td>-0.011080</td>\n",
              "      <td>-0.046879</td>\n",
              "      <td>0.015491</td>\n",
              "    </tr>\n",
              "    <tr>\n",
              "      <th>440</th>\n",
              "      <td>-0.045472</td>\n",
              "      <td>-0.044642</td>\n",
              "      <td>0.039062</td>\n",
              "      <td>0.001215</td>\n",
              "      <td>0.016318</td>\n",
              "      <td>0.015283</td>\n",
              "      <td>-0.028674</td>\n",
              "      <td>0.026560</td>\n",
              "      <td>0.044528</td>\n",
              "      <td>-0.025930</td>\n",
              "    </tr>\n",
              "    <tr>\n",
              "      <th>441</th>\n",
              "      <td>-0.045472</td>\n",
              "      <td>-0.044642</td>\n",
              "      <td>-0.073030</td>\n",
              "      <td>-0.081414</td>\n",
              "      <td>0.083740</td>\n",
              "      <td>0.027809</td>\n",
              "      <td>0.173816</td>\n",
              "      <td>-0.039493</td>\n",
              "      <td>-0.004220</td>\n",
              "      <td>0.003064</td>\n",
              "    </tr>\n",
              "  </tbody>\n",
              "</table>\n",
              "<p>442 rows × 10 columns</p>\n",
              "</div>"
            ],
            "text/plain": [
              "          age       sex       bmi  ...        s4        s5        s6\n",
              "0    0.038076  0.050680  0.061696  ... -0.002592  0.019908 -0.017646\n",
              "1   -0.001882 -0.044642 -0.051474  ... -0.039493 -0.068330 -0.092204\n",
              "2    0.085299  0.050680  0.044451  ... -0.002592  0.002864 -0.025930\n",
              "3   -0.089063 -0.044642 -0.011595  ...  0.034309  0.022692 -0.009362\n",
              "4    0.005383 -0.044642 -0.036385  ... -0.002592 -0.031991 -0.046641\n",
              "..        ...       ...       ...  ...       ...       ...       ...\n",
              "437  0.041708  0.050680  0.019662  ... -0.002592  0.031193  0.007207\n",
              "438 -0.005515  0.050680 -0.015906  ...  0.034309 -0.018118  0.044485\n",
              "439  0.041708  0.050680 -0.015906  ... -0.011080 -0.046879  0.015491\n",
              "440 -0.045472 -0.044642  0.039062  ...  0.026560  0.044528 -0.025930\n",
              "441 -0.045472 -0.044642 -0.073030  ... -0.039493 -0.004220  0.003064\n",
              "\n",
              "[442 rows x 10 columns]"
            ]
          },
          "metadata": {
            "tags": []
          },
          "execution_count": 78
        }
      ]
    },
    {
      "cell_type": "code",
      "metadata": {
        "colab": {
          "base_uri": "https://localhost:8080/",
          "height": 423
        },
        "id": "0ae2c55e",
        "outputId": "91a4e783-8a34-470d-e73e-5cf0f5d5f04d"
      },
      "source": [
        "Xdf"
      ],
      "id": "0ae2c55e",
      "execution_count": 79,
      "outputs": [
        {
          "output_type": "execute_result",
          "data": {
            "text/html": [
              "<div>\n",
              "<style scoped>\n",
              "    .dataframe tbody tr th:only-of-type {\n",
              "        vertical-align: middle;\n",
              "    }\n",
              "\n",
              "    .dataframe tbody tr th {\n",
              "        vertical-align: top;\n",
              "    }\n",
              "\n",
              "    .dataframe thead th {\n",
              "        text-align: right;\n",
              "    }\n",
              "</style>\n",
              "<table border=\"1\" class=\"dataframe\">\n",
              "  <thead>\n",
              "    <tr style=\"text-align: right;\">\n",
              "      <th></th>\n",
              "      <th>age</th>\n",
              "      <th>sex</th>\n",
              "      <th>bmi</th>\n",
              "      <th>bp</th>\n",
              "      <th>s1</th>\n",
              "      <th>s2</th>\n",
              "      <th>s3</th>\n",
              "      <th>s4</th>\n",
              "      <th>s5</th>\n",
              "      <th>s6</th>\n",
              "    </tr>\n",
              "  </thead>\n",
              "  <tbody>\n",
              "    <tr>\n",
              "      <th>0</th>\n",
              "      <td>0.800500</td>\n",
              "      <td>1.065488</td>\n",
              "      <td>1.297088</td>\n",
              "      <td>0.459840</td>\n",
              "      <td>-0.929746</td>\n",
              "      <td>-0.732065</td>\n",
              "      <td>-0.912451</td>\n",
              "      <td>-0.054499</td>\n",
              "      <td>0.418551</td>\n",
              "      <td>-0.370989</td>\n",
              "    </tr>\n",
              "    <tr>\n",
              "      <th>1</th>\n",
              "      <td>-0.039567</td>\n",
              "      <td>-0.938537</td>\n",
              "      <td>-1.082180</td>\n",
              "      <td>-0.553511</td>\n",
              "      <td>-0.177624</td>\n",
              "      <td>-0.402886</td>\n",
              "      <td>1.564414</td>\n",
              "      <td>-0.830301</td>\n",
              "      <td>-1.436551</td>\n",
              "      <td>-1.938479</td>\n",
              "    </tr>\n",
              "    <tr>\n",
              "      <th>2</th>\n",
              "      <td>1.793307</td>\n",
              "      <td>1.065488</td>\n",
              "      <td>0.934533</td>\n",
              "      <td>-0.119218</td>\n",
              "      <td>-0.958674</td>\n",
              "      <td>-0.718897</td>\n",
              "      <td>-0.680245</td>\n",
              "      <td>-0.054499</td>\n",
              "      <td>0.060207</td>\n",
              "      <td>-0.545154</td>\n",
              "    </tr>\n",
              "    <tr>\n",
              "      <th>3</th>\n",
              "      <td>-1.872441</td>\n",
              "      <td>-0.938537</td>\n",
              "      <td>-0.243771</td>\n",
              "      <td>-0.770658</td>\n",
              "      <td>0.256292</td>\n",
              "      <td>0.525397</td>\n",
              "      <td>-0.757647</td>\n",
              "      <td>0.721302</td>\n",
              "      <td>0.477072</td>\n",
              "      <td>-0.196823</td>\n",
              "    </tr>\n",
              "    <tr>\n",
              "      <th>4</th>\n",
              "      <td>0.113172</td>\n",
              "      <td>-0.938537</td>\n",
              "      <td>-0.764944</td>\n",
              "      <td>0.459840</td>\n",
              "      <td>0.082726</td>\n",
              "      <td>0.327890</td>\n",
              "      <td>0.171178</td>\n",
              "      <td>-0.054499</td>\n",
              "      <td>-0.672582</td>\n",
              "      <td>-0.980568</td>\n",
              "    </tr>\n",
              "    <tr>\n",
              "      <th>...</th>\n",
              "      <td>...</td>\n",
              "      <td>...</td>\n",
              "      <td>...</td>\n",
              "      <td>...</td>\n",
              "      <td>...</td>\n",
              "      <td>...</td>\n",
              "      <td>...</td>\n",
              "      <td>...</td>\n",
              "      <td>...</td>\n",
              "      <td>...</td>\n",
              "    </tr>\n",
              "    <tr>\n",
              "      <th>437</th>\n",
              "      <td>0.876870</td>\n",
              "      <td>1.065488</td>\n",
              "      <td>0.413360</td>\n",
              "      <td>1.256044</td>\n",
              "      <td>-0.119769</td>\n",
              "      <td>-0.053957</td>\n",
              "      <td>-0.602843</td>\n",
              "      <td>-0.054499</td>\n",
              "      <td>0.655795</td>\n",
              "      <td>0.151508</td>\n",
              "    </tr>\n",
              "    <tr>\n",
              "      <th>438</th>\n",
              "      <td>-0.115937</td>\n",
              "      <td>1.065488</td>\n",
              "      <td>-0.334410</td>\n",
              "      <td>-1.422098</td>\n",
              "      <td>1.037341</td>\n",
              "      <td>1.664355</td>\n",
              "      <td>-0.602843</td>\n",
              "      <td>0.721302</td>\n",
              "      <td>-0.380915</td>\n",
              "      <td>0.935254</td>\n",
              "    </tr>\n",
              "    <tr>\n",
              "      <th>439</th>\n",
              "      <td>0.876870</td>\n",
              "      <td>1.065488</td>\n",
              "      <td>-0.334410</td>\n",
              "      <td>0.363330</td>\n",
              "      <td>-0.785107</td>\n",
              "      <td>-0.290965</td>\n",
              "      <td>-0.525441</td>\n",
              "      <td>-0.232934</td>\n",
              "      <td>-0.985585</td>\n",
              "      <td>0.325674</td>\n",
              "    </tr>\n",
              "    <tr>\n",
              "      <th>440</th>\n",
              "      <td>-0.956004</td>\n",
              "      <td>-0.938537</td>\n",
              "      <td>0.821235</td>\n",
              "      <td>0.025547</td>\n",
              "      <td>0.343075</td>\n",
              "      <td>0.321306</td>\n",
              "      <td>-0.602843</td>\n",
              "      <td>0.558384</td>\n",
              "      <td>0.936155</td>\n",
              "      <td>-0.545154</td>\n",
              "    </tr>\n",
              "    <tr>\n",
              "      <th>441</th>\n",
              "      <td>-0.956004</td>\n",
              "      <td>-0.938537</td>\n",
              "      <td>-1.535374</td>\n",
              "      <td>-1.711626</td>\n",
              "      <td>1.760535</td>\n",
              "      <td>0.584649</td>\n",
              "      <td>3.654268</td>\n",
              "      <td>-0.830301</td>\n",
              "      <td>-0.088717</td>\n",
              "      <td>0.064426</td>\n",
              "    </tr>\n",
              "  </tbody>\n",
              "</table>\n",
              "<p>442 rows × 10 columns</p>\n",
              "</div>"
            ],
            "text/plain": [
              "          age       sex       bmi  ...        s4        s5        s6\n",
              "0    0.800500  1.065488  1.297088  ... -0.054499  0.418551 -0.370989\n",
              "1   -0.039567 -0.938537 -1.082180  ... -0.830301 -1.436551 -1.938479\n",
              "2    1.793307  1.065488  0.934533  ... -0.054499  0.060207 -0.545154\n",
              "3   -1.872441 -0.938537 -0.243771  ...  0.721302  0.477072 -0.196823\n",
              "4    0.113172 -0.938537 -0.764944  ... -0.054499 -0.672582 -0.980568\n",
              "..        ...       ...       ...  ...       ...       ...       ...\n",
              "437  0.876870  1.065488  0.413360  ... -0.054499  0.655795  0.151508\n",
              "438 -0.115937  1.065488 -0.334410  ...  0.721302 -0.380915  0.935254\n",
              "439  0.876870  1.065488 -0.334410  ... -0.232934 -0.985585  0.325674\n",
              "440 -0.956004 -0.938537  0.821235  ...  0.558384  0.936155 -0.545154\n",
              "441 -0.956004 -0.938537 -1.535374  ... -0.830301 -0.088717  0.064426\n",
              "\n",
              "[442 rows x 10 columns]"
            ]
          },
          "metadata": {
            "tags": []
          },
          "execution_count": 79
        }
      ]
    },
    {
      "cell_type": "code",
      "metadata": {
        "colab": {
          "base_uri": "https://localhost:8080/"
        },
        "id": "65084b5b",
        "outputId": "a7bf50ef-03c2-47a7-da80-214d42443dff"
      },
      "source": [
        "Xdf.columns"
      ],
      "id": "65084b5b",
      "execution_count": 80,
      "outputs": [
        {
          "output_type": "execute_result",
          "data": {
            "text/plain": [
              "Index(['age', 'sex', 'bmi', 'bp', 's1', 's2', 's3', 's4', 's5', 's6'], dtype='object')"
            ]
          },
          "metadata": {
            "tags": []
          },
          "execution_count": 80
        }
      ]
    },
    {
      "cell_type": "markdown",
      "metadata": {
        "id": "b446f6e2"
      },
      "source": [
        "# Exploratory Data Analysis"
      ],
      "id": "b446f6e2"
    },
    {
      "cell_type": "code",
      "metadata": {
        "colab": {
          "base_uri": "https://localhost:8080/",
          "height": 283
        },
        "id": "900a4e98",
        "outputId": "0571a359-09d1-48f5-a700-5a856c3dcd35"
      },
      "source": [
        "Xdf.age.hist()"
      ],
      "id": "900a4e98",
      "execution_count": 81,
      "outputs": [
        {
          "output_type": "execute_result",
          "data": {
            "text/plain": [
              "<matplotlib.axes._subplots.AxesSubplot at 0x7f04cf970ed0>"
            ]
          },
          "metadata": {
            "tags": []
          },
          "execution_count": 81
        },
        {
          "output_type": "display_data",
          "data": {
            "image/png": "[encoded data removed]",
            "text/plain": [
              "<Figure size 432x288 with 1 Axes>"
            ]
          },
          "metadata": {
            "tags": [],
            "needs_background": "light"
          }
        }
      ]
    },
    {
      "cell_type": "code",
      "metadata": {
        "colab": {
          "base_uri": "https://localhost:8080/",
          "height": 283
        },
        "id": "c4190062",
        "outputId": "6dc16494-345e-48b1-f8e4-feaa6efeff18"
      },
      "source": [
        "Xdf.sex.hist()"
      ],
      "id": "c4190062",
      "execution_count": 82,
      "outputs": [
        {
          "output_type": "execute_result",
          "data": {
            "text/plain": [
              "<matplotlib.axes._subplots.AxesSubplot at 0x7f04cf5f7810>"
            ]
          },
          "metadata": {
            "tags": []
          },
          "execution_count": 82
        },
        {
          "output_type": "display_data",
          "data": {
            "image/png": "[encoded data removed]",
            "text/plain": [
              "<Figure size 432x288 with 1 Axes>"
            ]
          },
          "metadata": {
            "tags": [],
            "needs_background": "light"
          }
        }
      ]
    },
    {
      "cell_type": "code",
      "metadata": {
        "colab": {
          "base_uri": "https://localhost:8080/",
          "height": 283
        },
        "id": "035c4f16",
        "outputId": "f1f73dd5-c6d3-4572-ccc7-8b6723b1211f"
      },
      "source": [
        "Xdf.bmi.hist()"
      ],
      "id": "035c4f16",
      "execution_count": 83,
      "outputs": [
        {
          "output_type": "execute_result",
          "data": {
            "text/plain": [
              "<matplotlib.axes._subplots.AxesSubplot at 0x7f04cf584890>"
            ]
          },
          "metadata": {
            "tags": []
          },
          "execution_count": 83
        },
        {
          "output_type": "display_data",
          "data": {
            "image/png": "[encoded data removed]",
            "text/plain": [
              "<Figure size 432x288 with 1 Axes>"
            ]
          },
          "metadata": {
            "tags": [],
            "needs_background": "light"
          }
        }
      ]
    },
    {
      "cell_type": "code",
      "metadata": {
        "colab": {
          "base_uri": "https://localhost:8080/",
          "height": 283
        },
        "id": "2a0c2896",
        "outputId": "1868ee25-c2aa-4501-9eef-834c258e4b10"
      },
      "source": [
        "Xdf.bp.hist()"
      ],
      "id": "2a0c2896",
      "execution_count": 84,
      "outputs": [
        {
          "output_type": "execute_result",
          "data": {
            "text/plain": [
              "<matplotlib.axes._subplots.AxesSubplot at 0x7f04cf530f50>"
            ]
          },
          "metadata": {
            "tags": []
          },
          "execution_count": 84
        },
        {
          "output_type": "display_data",
          "data": {
            "image/png": "[encoded data removed]",
            "text/plain": [
              "<Figure size 432x288 with 1 Axes>"
            ]
          },
          "metadata": {
            "tags": [],
            "needs_background": "light"
          }
        }
      ]
    },
    {
      "cell_type": "markdown",
      "metadata": {
        "id": "b3f8ab0d"
      },
      "source": [
        "The boxplot has a minimum, first quartile (25%), median, third quartile (75%), and maximum"
      ],
      "id": "b3f8ab0d"
    },
    {
      "cell_type": "code",
      "metadata": {
        "colab": {
          "base_uri": "https://localhost:8080/",
          "height": 283
        },
        "id": "3a4cb11e",
        "outputId": "fd03ad0a-9966-4b8a-cd11-98205f6a07c0"
      },
      "source": [
        "Xdf.boxplot(column = ['age', 'bmi', 'bp'])"
      ],
      "id": "3a4cb11e",
      "execution_count": 85,
      "outputs": [
        {
          "output_type": "execute_result",
          "data": {
            "text/plain": [
              "<matplotlib.axes._subplots.AxesSubplot at 0x7f04cf465250>"
            ]
          },
          "metadata": {
            "tags": []
          },
          "execution_count": 85
        },
        {
          "output_type": "display_data",
          "data": {
            "image/png": "[encoded data removed]",
            "text/plain": [
              "<Figure size 432x288 with 1 Axes>"
            ]
          },
          "metadata": {
            "tags": [],
            "needs_background": "light"
          }
        }
      ]
    },
    {
      "cell_type": "code",
      "metadata": {
        "colab": {
          "base_uri": "https://localhost:8080/",
          "height": 143
        },
        "id": "b62d096b",
        "outputId": "82755b0e-542b-414b-f933-28f564defb19"
      },
      "source": [
        "Xdf[['age', 'bmi', 'bp']].corr()"
      ],
      "id": "b62d096b",
      "execution_count": 86,
      "outputs": [
        {
          "output_type": "execute_result",
          "data": {
            "text/html": [
              "<div>\n",
              "<style scoped>\n",
              "    .dataframe tbody tr th:only-of-type {\n",
              "        vertical-align: middle;\n",
              "    }\n",
              "\n",
              "    .dataframe tbody tr th {\n",
              "        vertical-align: top;\n",
              "    }\n",
              "\n",
              "    .dataframe thead th {\n",
              "        text-align: right;\n",
              "    }\n",
              "</style>\n",
              "<table border=\"1\" class=\"dataframe\">\n",
              "  <thead>\n",
              "    <tr style=\"text-align: right;\">\n",
              "      <th></th>\n",
              "      <th>age</th>\n",
              "      <th>bmi</th>\n",
              "      <th>bp</th>\n",
              "    </tr>\n",
              "  </thead>\n",
              "  <tbody>\n",
              "    <tr>\n",
              "      <th>age</th>\n",
              "      <td>1.000000</td>\n",
              "      <td>0.185085</td>\n",
              "      <td>0.335427</td>\n",
              "    </tr>\n",
              "    <tr>\n",
              "      <th>bmi</th>\n",
              "      <td>0.185085</td>\n",
              "      <td>1.000000</td>\n",
              "      <td>0.395415</td>\n",
              "    </tr>\n",
              "    <tr>\n",
              "      <th>bp</th>\n",
              "      <td>0.335427</td>\n",
              "      <td>0.395415</td>\n",
              "      <td>1.000000</td>\n",
              "    </tr>\n",
              "  </tbody>\n",
              "</table>\n",
              "</div>"
            ],
            "text/plain": [
              "          age       bmi        bp\n",
              "age  1.000000  0.185085  0.335427\n",
              "bmi  0.185085  1.000000  0.395415\n",
              "bp   0.335427  0.395415  1.000000"
            ]
          },
          "metadata": {
            "tags": []
          },
          "execution_count": 86
        }
      ]
    },
    {
      "cell_type": "markdown",
      "metadata": {
        "id": "dd3e92bb"
      },
      "source": [
        "It appears that there is no strong correlations between any of these variables"
      ],
      "id": "dd3e92bb"
    },
    {
      "cell_type": "code",
      "metadata": {
        "colab": {
          "base_uri": "https://localhost:8080/",
          "height": 331
        },
        "id": "029f58f3",
        "outputId": "1c68d025-8068-4258-ec0c-9e5ba0a1fa53"
      },
      "source": [
        "Xdf[['age', 'bmi', 'bp', 's1', 's2', 's3', 's4', 's5', 's6']].corr()"
      ],
      "id": "029f58f3",
      "execution_count": 87,
      "outputs": [
        {
          "output_type": "execute_result",
          "data": {
            "text/html": [
              "<div>\n",
              "<style scoped>\n",
              "    .dataframe tbody tr th:only-of-type {\n",
              "        vertical-align: middle;\n",
              "    }\n",
              "\n",
              "    .dataframe tbody tr th {\n",
              "        vertical-align: top;\n",
              "    }\n",
              "\n",
              "    .dataframe thead th {\n",
              "        text-align: right;\n",
              "    }\n",
              "</style>\n",
              "<table border=\"1\" class=\"dataframe\">\n",
              "  <thead>\n",
              "    <tr style=\"text-align: right;\">\n",
              "      <th></th>\n",
              "      <th>age</th>\n",
              "      <th>bmi</th>\n",
              "      <th>bp</th>\n",
              "      <th>s1</th>\n",
              "      <th>s2</th>\n",
              "      <th>s3</th>\n",
              "      <th>s4</th>\n",
              "      <th>s5</th>\n",
              "      <th>s6</th>\n",
              "    </tr>\n",
              "  </thead>\n",
              "  <tbody>\n",
              "    <tr>\n",
              "      <th>age</th>\n",
              "      <td>1.000000</td>\n",
              "      <td>0.185085</td>\n",
              "      <td>0.335427</td>\n",
              "      <td>0.260061</td>\n",
              "      <td>0.219243</td>\n",
              "      <td>-0.075181</td>\n",
              "      <td>0.203841</td>\n",
              "      <td>0.270777</td>\n",
              "      <td>0.301731</td>\n",
              "    </tr>\n",
              "    <tr>\n",
              "      <th>bmi</th>\n",
              "      <td>0.185085</td>\n",
              "      <td>1.000000</td>\n",
              "      <td>0.395415</td>\n",
              "      <td>0.249777</td>\n",
              "      <td>0.261170</td>\n",
              "      <td>-0.366811</td>\n",
              "      <td>0.413807</td>\n",
              "      <td>0.446159</td>\n",
              "      <td>0.388680</td>\n",
              "    </tr>\n",
              "    <tr>\n",
              "      <th>bp</th>\n",
              "      <td>0.335427</td>\n",
              "      <td>0.395415</td>\n",
              "      <td>1.000000</td>\n",
              "      <td>0.242470</td>\n",
              "      <td>0.185558</td>\n",
              "      <td>-0.178761</td>\n",
              "      <td>0.257653</td>\n",
              "      <td>0.393478</td>\n",
              "      <td>0.390429</td>\n",
              "    </tr>\n",
              "    <tr>\n",
              "      <th>s1</th>\n",
              "      <td>0.260061</td>\n",
              "      <td>0.249777</td>\n",
              "      <td>0.242470</td>\n",
              "      <td>1.000000</td>\n",
              "      <td>0.896663</td>\n",
              "      <td>0.051519</td>\n",
              "      <td>0.542207</td>\n",
              "      <td>0.515501</td>\n",
              "      <td>0.325717</td>\n",
              "    </tr>\n",
              "    <tr>\n",
              "      <th>s2</th>\n",
              "      <td>0.219243</td>\n",
              "      <td>0.261170</td>\n",
              "      <td>0.185558</td>\n",
              "      <td>0.896663</td>\n",
              "      <td>1.000000</td>\n",
              "      <td>-0.196455</td>\n",
              "      <td>0.659817</td>\n",
              "      <td>0.318353</td>\n",
              "      <td>0.290600</td>\n",
              "    </tr>\n",
              "    <tr>\n",
              "      <th>s3</th>\n",
              "      <td>-0.075181</td>\n",
              "      <td>-0.366811</td>\n",
              "      <td>-0.178761</td>\n",
              "      <td>0.051519</td>\n",
              "      <td>-0.196455</td>\n",
              "      <td>1.000000</td>\n",
              "      <td>-0.738493</td>\n",
              "      <td>-0.398577</td>\n",
              "      <td>-0.273697</td>\n",
              "    </tr>\n",
              "    <tr>\n",
              "      <th>s4</th>\n",
              "      <td>0.203841</td>\n",
              "      <td>0.413807</td>\n",
              "      <td>0.257653</td>\n",
              "      <td>0.542207</td>\n",
              "      <td>0.659817</td>\n",
              "      <td>-0.738493</td>\n",
              "      <td>1.000000</td>\n",
              "      <td>0.617857</td>\n",
              "      <td>0.417212</td>\n",
              "    </tr>\n",
              "    <tr>\n",
              "      <th>s5</th>\n",
              "      <td>0.270777</td>\n",
              "      <td>0.446159</td>\n",
              "      <td>0.393478</td>\n",
              "      <td>0.515501</td>\n",
              "      <td>0.318353</td>\n",
              "      <td>-0.398577</td>\n",
              "      <td>0.617857</td>\n",
              "      <td>1.000000</td>\n",
              "      <td>0.464670</td>\n",
              "    </tr>\n",
              "    <tr>\n",
              "      <th>s6</th>\n",
              "      <td>0.301731</td>\n",
              "      <td>0.388680</td>\n",
              "      <td>0.390429</td>\n",
              "      <td>0.325717</td>\n",
              "      <td>0.290600</td>\n",
              "      <td>-0.273697</td>\n",
              "      <td>0.417212</td>\n",
              "      <td>0.464670</td>\n",
              "      <td>1.000000</td>\n",
              "    </tr>\n",
              "  </tbody>\n",
              "</table>\n",
              "</div>"
            ],
            "text/plain": [
              "          age       bmi        bp  ...        s4        s5        s6\n",
              "age  1.000000  0.185085  0.335427  ...  0.203841  0.270777  0.301731\n",
              "bmi  0.185085  1.000000  0.395415  ...  0.413807  0.446159  0.388680\n",
              "bp   0.335427  0.395415  1.000000  ...  0.257653  0.393478  0.390429\n",
              "s1   0.260061  0.249777  0.242470  ...  0.542207  0.515501  0.325717\n",
              "s2   0.219243  0.261170  0.185558  ...  0.659817  0.318353  0.290600\n",
              "s3  -0.075181 -0.366811 -0.178761  ... -0.738493 -0.398577 -0.273697\n",
              "s4   0.203841  0.413807  0.257653  ...  1.000000  0.617857  0.417212\n",
              "s5   0.270777  0.446159  0.393478  ...  0.617857  1.000000  0.464670\n",
              "s6   0.301731  0.388680  0.390429  ...  0.417212  0.464670  1.000000\n",
              "\n",
              "[9 rows x 9 columns]"
            ]
          },
          "metadata": {
            "tags": []
          },
          "execution_count": 87
        }
      ]
    },
    {
      "cell_type": "markdown",
      "metadata": {
        "id": "719751fa"
      },
      "source": [
        "The only positive strong correlation in this table is between s1 adn s2. It seems that these blood serum measurements are both associated with each other. There is moderate correlation between s2 and s4, s5 and s4, s6 and s4, s6 and s5, s1 and s4, and s5 and s1"
      ],
      "id": "719751fa"
    },
    {
      "cell_type": "markdown",
      "metadata": {
        "id": "be27ae3e"
      },
      "source": [
        "# Model Building"
      ],
      "id": "be27ae3e"
    },
    {
      "cell_type": "code",
      "metadata": {
        "id": "28d64c91"
      },
      "source": [
        "X_train, X_test, y_train, y_test = train_test_split(Xdf, ys, test_size=0.2, random_state=42)"
      ],
      "id": "28d64c91",
      "execution_count": 88,
      "outputs": []
    },
    {
      "cell_type": "code",
      "metadata": {
        "id": "27e9ce47",
        "colab": {
          "base_uri": "https://localhost:8080/",
          "height": 423
        },
        "outputId": "2b1bcbe1-e0f0-4385-c007-50be31d60bf4"
      },
      "source": [
        "X_train"
      ],
      "id": "27e9ce47",
      "execution_count": 89,
      "outputs": [
        {
          "output_type": "execute_result",
          "data": {
            "text/html": [
              "<div>\n",
              "<style scoped>\n",
              "    .dataframe tbody tr th:only-of-type {\n",
              "        vertical-align: middle;\n",
              "    }\n",
              "\n",
              "    .dataframe tbody tr th {\n",
              "        vertical-align: top;\n",
              "    }\n",
              "\n",
              "    .dataframe thead th {\n",
              "        text-align: right;\n",
              "    }\n",
              "</style>\n",
              "<table border=\"1\" class=\"dataframe\">\n",
              "  <thead>\n",
              "    <tr style=\"text-align: right;\">\n",
              "      <th></th>\n",
              "      <th>age</th>\n",
              "      <th>sex</th>\n",
              "      <th>bmi</th>\n",
              "      <th>bp</th>\n",
              "      <th>s1</th>\n",
              "      <th>s2</th>\n",
              "      <th>s3</th>\n",
              "      <th>s4</th>\n",
              "      <th>s5</th>\n",
              "      <th>s6</th>\n",
              "    </tr>\n",
              "  </thead>\n",
              "  <tbody>\n",
              "    <tr>\n",
              "      <th>17</th>\n",
              "      <td>1.487828</td>\n",
              "      <td>1.065488</td>\n",
              "      <td>0.254742</td>\n",
              "      <td>1.183662</td>\n",
              "      <td>0.719136</td>\n",
              "      <td>1.038916</td>\n",
              "      <td>-0.835049</td>\n",
              "      <td>0.721302</td>\n",
              "      <td>0.575373</td>\n",
              "      <td>-0.022657</td>\n",
              "    </tr>\n",
              "    <tr>\n",
              "      <th>66</th>\n",
              "      <td>-0.192307</td>\n",
              "      <td>1.065488</td>\n",
              "      <td>-0.379729</td>\n",
              "      <td>-0.698275</td>\n",
              "      <td>-0.437974</td>\n",
              "      <td>0.255471</td>\n",
              "      <td>-1.531667</td>\n",
              "      <td>1.497104</td>\n",
              "      <td>0.005708</td>\n",
              "      <td>0.412757</td>\n",
              "    </tr>\n",
              "    <tr>\n",
              "      <th>137</th>\n",
              "      <td>0.113172</td>\n",
              "      <td>-0.938537</td>\n",
              "      <td>1.047832</td>\n",
              "      <td>2.052249</td>\n",
              "      <td>-0.322263</td>\n",
              "      <td>-0.343634</td>\n",
              "      <td>-0.138431</td>\n",
              "      <td>-0.054499</td>\n",
              "      <td>0.358185</td>\n",
              "      <td>-0.283906</td>\n",
              "    </tr>\n",
              "    <tr>\n",
              "      <th>245</th>\n",
              "      <td>-0.574155</td>\n",
              "      <td>-0.938537</td>\n",
              "      <td>-0.742285</td>\n",
              "      <td>-0.625893</td>\n",
              "      <td>-1.190096</td>\n",
              "      <td>-1.232416</td>\n",
              "      <td>0.635590</td>\n",
              "      <td>-0.830301</td>\n",
              "      <td>-1.048424</td>\n",
              "      <td>-2.722224</td>\n",
              "    </tr>\n",
              "    <tr>\n",
              "      <th>31</th>\n",
              "      <td>-0.497786</td>\n",
              "      <td>-0.938537</td>\n",
              "      <td>-1.376756</td>\n",
              "      <td>-1.711626</td>\n",
              "      <td>-0.814035</td>\n",
              "      <td>-1.127079</td>\n",
              "      <td>1.254806</td>\n",
              "      <td>-1.606102</td>\n",
              "      <td>-0.780579</td>\n",
              "      <td>-0.893485</td>\n",
              "    </tr>\n",
              "    <tr>\n",
              "      <th>...</th>\n",
              "      <td>...</td>\n",
              "      <td>...</td>\n",
              "      <td>...</td>\n",
              "      <td>...</td>\n",
              "      <td>...</td>\n",
              "      <td>...</td>\n",
              "      <td>...</td>\n",
              "      <td>...</td>\n",
              "      <td>...</td>\n",
              "      <td>...</td>\n",
              "    </tr>\n",
              "    <tr>\n",
              "      <th>106</th>\n",
              "      <td>-2.025181</td>\n",
              "      <td>-0.938537</td>\n",
              "      <td>-1.603353</td>\n",
              "      <td>-0.915422</td>\n",
              "      <td>-0.958674</td>\n",
              "      <td>-0.732065</td>\n",
              "      <td>0.171178</td>\n",
              "      <td>-0.830301</td>\n",
              "      <td>-1.250342</td>\n",
              "      <td>-1.764314</td>\n",
              "    </tr>\n",
              "    <tr>\n",
              "      <th>270</th>\n",
              "      <td>0.113172</td>\n",
              "      <td>1.065488</td>\n",
              "      <td>0.639957</td>\n",
              "      <td>1.762720</td>\n",
              "      <td>-0.785107</td>\n",
              "      <td>-0.995407</td>\n",
              "      <td>0.325982</td>\n",
              "      <td>-0.830301</td>\n",
              "      <td>0.181652</td>\n",
              "      <td>0.325674</td>\n",
              "    </tr>\n",
              "    <tr>\n",
              "      <th>348</th>\n",
              "      <td>0.647761</td>\n",
              "      <td>-0.938537</td>\n",
              "      <td>-0.425049</td>\n",
              "      <td>-0.119218</td>\n",
              "      <td>-0.090841</td>\n",
              "      <td>-0.620144</td>\n",
              "      <td>1.641816</td>\n",
              "      <td>-0.830301</td>\n",
              "      <td>-0.229253</td>\n",
              "      <td>-0.022657</td>\n",
              "    </tr>\n",
              "    <tr>\n",
              "      <th>435</th>\n",
              "      <td>-0.268676</td>\n",
              "      <td>-0.938537</td>\n",
              "      <td>-0.493028</td>\n",
              "      <td>-0.843040</td>\n",
              "      <td>-0.351191</td>\n",
              "      <td>0.097465</td>\n",
              "      <td>-0.370637</td>\n",
              "      <td>-0.054499</td>\n",
              "      <td>-0.808557</td>\n",
              "      <td>-0.806403</td>\n",
              "    </tr>\n",
              "    <tr>\n",
              "      <th>102</th>\n",
              "      <td>-1.948811</td>\n",
              "      <td>-0.938537</td>\n",
              "      <td>0.594638</td>\n",
              "      <td>-0.336364</td>\n",
              "      <td>0.776992</td>\n",
              "      <td>0.525397</td>\n",
              "      <td>1.177404</td>\n",
              "      <td>-0.830301</td>\n",
              "      <td>-0.108174</td>\n",
              "      <td>-0.022657</td>\n",
              "    </tr>\n",
              "  </tbody>\n",
              "</table>\n",
              "<p>353 rows × 10 columns</p>\n",
              "</div>"
            ],
            "text/plain": [
              "          age       sex       bmi  ...        s4        s5        s6\n",
              "17   1.487828  1.065488  0.254742  ...  0.721302  0.575373 -0.022657\n",
              "66  -0.192307  1.065488 -0.379729  ...  1.497104  0.005708  0.412757\n",
              "137  0.113172 -0.938537  1.047832  ... -0.054499  0.358185 -0.283906\n",
              "245 -0.574155 -0.938537 -0.742285  ... -0.830301 -1.048424 -2.722224\n",
              "31  -0.497786 -0.938537 -1.376756  ... -1.606102 -0.780579 -0.893485\n",
              "..        ...       ...       ...  ...       ...       ...       ...\n",
              "106 -2.025181 -0.938537 -1.603353  ... -0.830301 -1.250342 -1.764314\n",
              "270  0.113172  1.065488  0.639957  ... -0.830301  0.181652  0.325674\n",
              "348  0.647761 -0.938537 -0.425049  ... -0.830301 -0.229253 -0.022657\n",
              "435 -0.268676 -0.938537 -0.493028  ... -0.054499 -0.808557 -0.806403\n",
              "102 -1.948811 -0.938537  0.594638  ... -0.830301 -0.108174 -0.022657\n",
              "\n",
              "[353 rows x 10 columns]"
            ]
          },
          "metadata": {
            "tags": []
          },
          "execution_count": 89
        }
      ]
    },
    {
      "cell_type": "code",
      "metadata": {
        "id": "f4a35f5c"
      },
      "source": [
        "model = LinearRegression()"
      ],
      "id": "f4a35f5c",
      "execution_count": 90,
      "outputs": []
    },
    {
      "cell_type": "code",
      "metadata": {
        "id": "af3667f6",
        "colab": {
          "base_uri": "https://localhost:8080/"
        },
        "outputId": "7e7f7d44-3e82-4596-a36d-098534aa2087"
      },
      "source": [
        "model.fit(X_train, y_train)"
      ],
      "id": "af3667f6",
      "execution_count": 91,
      "outputs": [
        {
          "output_type": "execute_result",
          "data": {
            "text/plain": [
              "LinearRegression(copy_X=True, fit_intercept=True, n_jobs=None, normalize=False)"
            ]
          },
          "metadata": {
            "tags": []
          },
          "execution_count": 91
        }
      ]
    },
    {
      "cell_type": "code",
      "metadata": {
        "id": "1ba8da53",
        "colab": {
          "base_uri": "https://localhost:8080/"
        },
        "outputId": "682537a0-2785-43d1-b5a5-4f2b794c040b"
      },
      "source": [
        "ypred = model.predict(X_test)\n",
        "ypred"
      ],
      "id": "1ba8da53",
      "execution_count": 92,
      "outputs": [
        {
          "output_type": "execute_result",
          "data": {
            "text/plain": [
              "array([139.5483133 , 179.52030578, 134.04133298, 291.41193598,\n",
              "       123.78723656,  92.17357677, 258.23409704, 181.33895238,\n",
              "        90.22217862, 108.63143298,  94.13938654, 168.43379636,\n",
              "        53.50669663, 206.63040068, 100.13238561, 130.66881649,\n",
              "       219.53270758, 250.78291772, 196.36682356, 218.57497401,\n",
              "       207.35002447,  88.48361667,  70.43428801, 188.95725301,\n",
              "       154.88720039, 159.35957695, 188.31587948, 180.38835506,\n",
              "        47.98988446, 108.97514644, 174.78080029,  86.36598906,\n",
              "       132.95890535, 184.5410226 , 173.83298051, 190.35863287,\n",
              "       124.41740796, 119.65426903, 147.95402494,  59.05311211,\n",
              "        71.62636914, 107.68722902, 165.45544477, 155.00784964,\n",
              "       171.04558668,  61.45763075,  71.66975626, 114.96330486,\n",
              "        51.57808027, 167.57781958, 152.52505798,  62.95827693,\n",
              "       103.49862017, 109.20495627, 175.63844013, 154.60247734,\n",
              "        94.41476124, 210.74244148, 120.25601864,  77.61590087,\n",
              "       187.93503183, 206.49543321, 140.63018684, 105.59463059,\n",
              "       130.704246  , 202.18650868, 171.1330116 , 164.91246096,\n",
              "       124.72637597, 144.81210187, 181.99631481, 199.41234515,\n",
              "       234.21402489, 145.96053305,  79.86349114, 157.36828831,\n",
              "       192.74737754, 208.8980067 , 158.58505486, 206.0226849 ,\n",
              "       107.47978402, 140.93428553,  54.81856678,  55.92807758,\n",
              "       115.00974554,  78.95886675,  81.55731377,  54.3774778 ,\n",
              "       166.25477778])"
            ]
          },
          "metadata": {
            "tags": []
          },
          "execution_count": 92
        }
      ]
    },
    {
      "cell_type": "code",
      "metadata": {
        "id": "LEc6UjQGN-lV",
        "colab": {
          "base_uri": "https://localhost:8080/"
        },
        "outputId": "3a32523b-735a-430a-a7e6-0c432140f3cd"
      },
      "source": [
        "print(y_test)"
      ],
      "id": "LEc6UjQGN-lV",
      "execution_count": 93,
      "outputs": [
        {
          "output_type": "stream",
          "text": [
            "287    219.0\n",
            "211     70.0\n",
            "72     202.0\n",
            "321    230.0\n",
            "73     111.0\n",
            "       ...  \n",
            "255    153.0\n",
            "90      98.0\n",
            "57      37.0\n",
            "391     63.0\n",
            "24     184.0\n",
            "Length: 89, dtype: float64\n"
          ],
          "name": "stdout"
        }
      ]
    },
    {
      "cell_type": "code",
      "metadata": {
        "id": "sNHNGqLBOETU",
        "colab": {
          "base_uri": "https://localhost:8080/"
        },
        "outputId": "67e9a8dd-00f7-4fdc-9cf2-f481c041111f"
      },
      "source": [
        "print(mean_squared_error(y_test, ypred))\n",
        "#print(precision_score(y_test, ypred))\n",
        "#print(recall_score(y_test, ypred))"
      ],
      "id": "sNHNGqLBOETU",
      "execution_count": 94,
      "outputs": [
        {
          "output_type": "stream",
          "text": [
            "2900.1732878832327\n"
          ],
          "name": "stdout"
        }
      ]
    },
    {
      "cell_type": "code",
      "metadata": {
        "id": "Van2OhaTWMue",
        "colab": {
          "base_uri": "https://localhost:8080/"
        },
        "outputId": "95bbf083-e39e-44b2-c42c-334a1519d303"
      },
      "source": [
        "r2_score(y_test, ypred)"
      ],
      "id": "Van2OhaTWMue",
      "execution_count": 95,
      "outputs": [
        {
          "output_type": "execute_result",
          "data": {
            "text/plain": [
              "0.45260660216173776"
            ]
          },
          "metadata": {
            "tags": []
          },
          "execution_count": 95
        }
      ]
    },
    {
      "cell_type": "code",
      "metadata": {
        "colab": {
          "base_uri": "https://localhost:8080/",
          "height": 668
        },
        "id": "_DdQo1IoaSVQ",
        "outputId": "47034d18-fcc0-494c-e219-e443ae2d1bf1"
      },
      "source": [
        "#Create the correlation table\n",
        "Xdf['target'] = ys\n",
        "plt.imshow(Xdf.corr(), cmap='bwr', vmin=-1, vmax=1)\n",
        "plt.colorbar()\n",
        "plt.xticks(np.arange(0, 12, 1), Xdf.columns)\n",
        "plt.yticks(np.arange(0, 12, 1), Xdf.columns)"
      ],
      "id": "_DdQo1IoaSVQ",
      "execution_count": 99,
      "outputs": [
        {
          "output_type": "execute_result",
          "data": {
            "text/plain": [
              "([<matplotlib.axis.YTick at 0x7f04cf2040d0>,\n",
              "  <matplotlib.axis.YTick at 0x7f04cf2049d0>,\n",
              "  <matplotlib.axis.YTick at 0x7f04cf221510>,\n",
              "  <matplotlib.axis.YTick at 0x7f04cf175410>,\n",
              "  <matplotlib.axis.YTick at 0x7f04cf16f110>,\n",
              "  <matplotlib.axis.YTick at 0x7f04cf185410>,\n",
              "  <matplotlib.axis.YTick at 0x7f04cf185990>,\n",
              "  <matplotlib.axis.YTick at 0x7f04cf185ed0>,\n",
              "  <matplotlib.axis.YTick at 0x7f04cf18d450>,\n",
              "  <matplotlib.axis.YTick at 0x7f04cf18d990>,\n",
              "  <matplotlib.axis.YTick at 0x7f04cf18de90>,\n",
              "  <matplotlib.axis.YTick at 0x7f04cf115410>],\n",
              " [Text(0, 0, 'age'),\n",
              "  Text(0, 0, 'sex'),\n",
              "  Text(0, 0, 'bmi'),\n",
              "  Text(0, 0, 'bp'),\n",
              "  Text(0, 0, 's1'),\n",
              "  Text(0, 0, 's2'),\n",
              "  Text(0, 0, 's3'),\n",
              "  Text(0, 0, 's4'),\n",
              "  Text(0, 0, 's5'),\n",
              "  Text(0, 0, 's6'),\n",
              "  Text(0, 0, 'target')])"
            ]
          },
          "metadata": {
            "tags": []
          },
          "execution_count": 99
        },
        {
          "output_type": "display_data",
          "data": {
            "image/png": "[encoded data removed]",
            "text/plain": [
              "<Figure size 432x288 with 2 Axes>"
            ]
          },
          "metadata": {
            "tags": [],
            "needs_background": "light"
          }
        }
      ]
    },
    {
      "cell_type": "code",
      "metadata": {
        "colab": {
          "base_uri": "https://localhost:8080/",
          "height": 394
        },
        "id": "Ewbt47wYbt2a",
        "outputId": "afc95296-fa9d-46df-8f6b-233a1e591092"
      },
      "source": [
        "Xdf.corr()"
      ],
      "id": "Ewbt47wYbt2a",
      "execution_count": 97,
      "outputs": [
        {
          "output_type": "execute_result",
          "data": {
            "text/html": [
              "<div>\n",
              "<style scoped>\n",
              "    .dataframe tbody tr th:only-of-type {\n",
              "        vertical-align: middle;\n",
              "    }\n",
              "\n",
              "    .dataframe tbody tr th {\n",
              "        vertical-align: top;\n",
              "    }\n",
              "\n",
              "    .dataframe thead th {\n",
              "        text-align: right;\n",
              "    }\n",
              "</style>\n",
              "<table border=\"1\" class=\"dataframe\">\n",
              "  <thead>\n",
              "    <tr style=\"text-align: right;\">\n",
              "      <th></th>\n",
              "      <th>age</th>\n",
              "      <th>sex</th>\n",
              "      <th>bmi</th>\n",
              "      <th>bp</th>\n",
              "      <th>s1</th>\n",
              "      <th>s2</th>\n",
              "      <th>s3</th>\n",
              "      <th>s4</th>\n",
              "      <th>s5</th>\n",
              "      <th>s6</th>\n",
              "      <th>target</th>\n",
              "    </tr>\n",
              "  </thead>\n",
              "  <tbody>\n",
              "    <tr>\n",
              "      <th>age</th>\n",
              "      <td>1.000000</td>\n",
              "      <td>0.173737</td>\n",
              "      <td>0.185085</td>\n",
              "      <td>0.335427</td>\n",
              "      <td>0.260061</td>\n",
              "      <td>0.219243</td>\n",
              "      <td>-0.075181</td>\n",
              "      <td>0.203841</td>\n",
              "      <td>0.270777</td>\n",
              "      <td>0.301731</td>\n",
              "      <td>0.187889</td>\n",
              "    </tr>\n",
              "    <tr>\n",
              "      <th>sex</th>\n",
              "      <td>0.173737</td>\n",
              "      <td>1.000000</td>\n",
              "      <td>0.088161</td>\n",
              "      <td>0.241013</td>\n",
              "      <td>0.035277</td>\n",
              "      <td>0.142637</td>\n",
              "      <td>-0.379090</td>\n",
              "      <td>0.332115</td>\n",
              "      <td>0.149918</td>\n",
              "      <td>0.208133</td>\n",
              "      <td>0.043062</td>\n",
              "    </tr>\n",
              "    <tr>\n",
              "      <th>bmi</th>\n",
              "      <td>0.185085</td>\n",
              "      <td>0.088161</td>\n",
              "      <td>1.000000</td>\n",
              "      <td>0.395415</td>\n",
              "      <td>0.249777</td>\n",
              "      <td>0.261170</td>\n",
              "      <td>-0.366811</td>\n",
              "      <td>0.413807</td>\n",
              "      <td>0.446159</td>\n",
              "      <td>0.388680</td>\n",
              "      <td>0.586450</td>\n",
              "    </tr>\n",
              "    <tr>\n",
              "      <th>bp</th>\n",
              "      <td>0.335427</td>\n",
              "      <td>0.241013</td>\n",
              "      <td>0.395415</td>\n",
              "      <td>1.000000</td>\n",
              "      <td>0.242470</td>\n",
              "      <td>0.185558</td>\n",
              "      <td>-0.178761</td>\n",
              "      <td>0.257653</td>\n",
              "      <td>0.393478</td>\n",
              "      <td>0.390429</td>\n",
              "      <td>0.441484</td>\n",
              "    </tr>\n",
              "    <tr>\n",
              "      <th>s1</th>\n",
              "      <td>0.260061</td>\n",
              "      <td>0.035277</td>\n",
              "      <td>0.249777</td>\n",
              "      <td>0.242470</td>\n",
              "      <td>1.000000</td>\n",
              "      <td>0.896663</td>\n",
              "      <td>0.051519</td>\n",
              "      <td>0.542207</td>\n",
              "      <td>0.515501</td>\n",
              "      <td>0.325717</td>\n",
              "      <td>0.212022</td>\n",
              "    </tr>\n",
              "    <tr>\n",
              "      <th>s2</th>\n",
              "      <td>0.219243</td>\n",
              "      <td>0.142637</td>\n",
              "      <td>0.261170</td>\n",
              "      <td>0.185558</td>\n",
              "      <td>0.896663</td>\n",
              "      <td>1.000000</td>\n",
              "      <td>-0.196455</td>\n",
              "      <td>0.659817</td>\n",
              "      <td>0.318353</td>\n",
              "      <td>0.290600</td>\n",
              "      <td>0.174054</td>\n",
              "    </tr>\n",
              "    <tr>\n",
              "      <th>s3</th>\n",
              "      <td>-0.075181</td>\n",
              "      <td>-0.379090</td>\n",
              "      <td>-0.366811</td>\n",
              "      <td>-0.178761</td>\n",
              "      <td>0.051519</td>\n",
              "      <td>-0.196455</td>\n",
              "      <td>1.000000</td>\n",
              "      <td>-0.738493</td>\n",
              "      <td>-0.398577</td>\n",
              "      <td>-0.273697</td>\n",
              "      <td>-0.394789</td>\n",
              "    </tr>\n",
              "    <tr>\n",
              "      <th>s4</th>\n",
              "      <td>0.203841</td>\n",
              "      <td>0.332115</td>\n",
              "      <td>0.413807</td>\n",
              "      <td>0.257653</td>\n",
              "      <td>0.542207</td>\n",
              "      <td>0.659817</td>\n",
              "      <td>-0.738493</td>\n",
              "      <td>1.000000</td>\n",
              "      <td>0.617857</td>\n",
              "      <td>0.417212</td>\n",
              "      <td>0.430453</td>\n",
              "    </tr>\n",
              "    <tr>\n",
              "      <th>s5</th>\n",
              "      <td>0.270777</td>\n",
              "      <td>0.149918</td>\n",
              "      <td>0.446159</td>\n",
              "      <td>0.393478</td>\n",
              "      <td>0.515501</td>\n",
              "      <td>0.318353</td>\n",
              "      <td>-0.398577</td>\n",
              "      <td>0.617857</td>\n",
              "      <td>1.000000</td>\n",
              "      <td>0.464670</td>\n",
              "      <td>0.565883</td>\n",
              "    </tr>\n",
              "    <tr>\n",
              "      <th>s6</th>\n",
              "      <td>0.301731</td>\n",
              "      <td>0.208133</td>\n",
              "      <td>0.388680</td>\n",
              "      <td>0.390429</td>\n",
              "      <td>0.325717</td>\n",
              "      <td>0.290600</td>\n",
              "      <td>-0.273697</td>\n",
              "      <td>0.417212</td>\n",
              "      <td>0.464670</td>\n",
              "      <td>1.000000</td>\n",
              "      <td>0.382483</td>\n",
              "    </tr>\n",
              "    <tr>\n",
              "      <th>target</th>\n",
              "      <td>0.187889</td>\n",
              "      <td>0.043062</td>\n",
              "      <td>0.586450</td>\n",
              "      <td>0.441484</td>\n",
              "      <td>0.212022</td>\n",
              "      <td>0.174054</td>\n",
              "      <td>-0.394789</td>\n",
              "      <td>0.430453</td>\n",
              "      <td>0.565883</td>\n",
              "      <td>0.382483</td>\n",
              "      <td>1.000000</td>\n",
              "    </tr>\n",
              "  </tbody>\n",
              "</table>\n",
              "</div>"
            ],
            "text/plain": [
              "             age       sex       bmi  ...        s5        s6    target\n",
              "age     1.000000  0.173737  0.185085  ...  0.270777  0.301731  0.187889\n",
              "sex     0.173737  1.000000  0.088161  ...  0.149918  0.208133  0.043062\n",
              "bmi     0.185085  0.088161  1.000000  ...  0.446159  0.388680  0.586450\n",
              "bp      0.335427  0.241013  0.395415  ...  0.393478  0.390429  0.441484\n",
              "s1      0.260061  0.035277  0.249777  ...  0.515501  0.325717  0.212022\n",
              "s2      0.219243  0.142637  0.261170  ...  0.318353  0.290600  0.174054\n",
              "s3     -0.075181 -0.379090 -0.366811  ... -0.398577 -0.273697 -0.394789\n",
              "s4      0.203841  0.332115  0.413807  ...  0.617857  0.417212  0.430453\n",
              "s5      0.270777  0.149918  0.446159  ...  1.000000  0.464670  0.565883\n",
              "s6      0.301731  0.208133  0.388680  ...  0.464670  1.000000  0.382483\n",
              "target  0.187889  0.043062  0.586450  ...  0.565883  0.382483  1.000000\n",
              "\n",
              "[11 rows x 11 columns]"
            ]
          },
          "metadata": {
            "tags": []
          },
          "execution_count": 97
        }
      ]
    }
  ]
}