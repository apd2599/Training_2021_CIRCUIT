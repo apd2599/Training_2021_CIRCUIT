{
  "nbformat": 4,
  "nbformat_minor": 0,
  "metadata": {
    "colab": {
      "name": "BMI_Diabetes_Corr.ipynb",
      "provenance": [],
      "authorship_tag": "ABX9TyPJO6sO87WkHLkSyu4kzOl3",
      "include_colab_link": true
    },
    "kernelspec": {
      "name": "python3",
      "display_name": "Python 3"
    },
    "language_info": {
      "name": "python"
    }
  },
  "cells": [
    {
      "cell_type": "markdown",
      "metadata": {
        "id": "view-in-github",
        "colab_type": "text"
      },
      "source": [
        "<a href=\"https://colab.research.google.com/github/apd2599/Training_2021_CIRCUIT/blob/main/Scikit-Learn_Dataset/BMI_Diabetes_Corr.ipynb\" target=\"_parent\"><img src=\"https://colab.research.google.com/assets/colab-badge.svg\" alt=\"Open In Colab\"/></a>"
      ]
    },
    {
      "cell_type": "code",
      "metadata": {
        "id": "2v3VrtQyK8uX"
      },
      "source": [
        "import numpy as np\n",
        "import pandas as pd\n",
        "import graphviz\n",
        "import matplotlib.pyplot as plt\n",
        "import statsmodels.formula.api as smf\n",
        "import seaborn as sns\n",
        "from sklearn import random_projection\n",
        "from sklearn.preprocessing import StandardScaler\n",
        "from sklearn import datasets\n",
        "from sklearn.svm import SVC\n",
        "from sklearn.linear_model import LinearRegression\n",
        "from sklearn.model_selection import train_test_split\n",
        "from sklearn.ensemble import RandomForestClassifier\n",
        "from sklearn.metrics import accuracy_score, precision_score, recall_score, mean_squared_error\n",
        "from sklearn import tree"
      ],
      "execution_count": 24,
      "outputs": []
    },
    {
      "cell_type": "code",
      "metadata": {
        "id": "RnVh-47jLHe3"
      },
      "source": [
        "#loading the dataset\n",
        "db_data = datasets.load_diabetes()"
      ],
      "execution_count": 3,
      "outputs": []
    },
    {
      "cell_type": "code",
      "metadata": {
        "colab": {
          "base_uri": "https://localhost:8080/"
        },
        "id": "MX4H4EpsLK3Y",
        "outputId": "216757d4-72d5-4731-8120-4c4c689692a8"
      },
      "source": [
        "#check for the description of the dataset, this description gives details on the specific features that are measured\n",
        "\n",
        "print(db_data['DESCR'])"
      ],
      "execution_count": 5,
      "outputs": [
        {
          "output_type": "stream",
          "text": [
            ".. _diabetes_dataset:\n",
            "\n",
            "Diabetes dataset\n",
            "----------------\n",
            "\n",
            "Ten baseline variables, age, sex, body mass index, average blood\n",
            "pressure, and six blood serum measurements were obtained for each of n =\n",
            "442 diabetes patients, as well as the response of interest, a\n",
            "quantitative measure of disease progression one year after baseline.\n",
            "\n",
            "**Data Set Characteristics:**\n",
            "\n",
            "  :Number of Instances: 442\n",
            "\n",
            "  :Number of Attributes: First 10 columns are numeric predictive values\n",
            "\n",
            "  :Target: Column 11 is a quantitative measure of disease progression one year after baseline\n",
            "\n",
            "  :Attribute Information:\n",
            "      - Age\n",
            "      - Sex\n",
            "      - Body mass index\n",
            "      - Average blood pressure\n",
            "      - S1\n",
            "      - S2\n",
            "      - S3\n",
            "      - S4\n",
            "      - S5\n",
            "      - S6\n",
            "\n",
            "Note: Each of these 10 feature variables have been mean centered and scaled by the standard deviation times `n_samples` (i.e. the sum of squares of each column totals 1).\n",
            "\n",
            "Source URL:\n",
            "https://www4.stat.ncsu.edu/~boos/var.select/diabetes.html\n",
            "\n",
            "For more information see:\n",
            "Bradley Efron, Trevor Hastie, Iain Johnstone and Robert Tibshirani (2004) \"Least Angle Regression,\" Annals of Statistics (with discussion), 407-499.\n",
            "(https://web.stanford.edu/~hastie/Papers/LARS/LeastAngle_2002.pdf)\n"
          ],
          "name": "stdout"
        }
      ]
    },
    {
      "cell_type": "markdown",
      "metadata": {
        "id": "JVsEmNGyLf3S"
      },
      "source": [
        "#Data Preprocessing\n",
        "\n"
      ]
    },
    {
      "cell_type": "code",
      "metadata": {
        "id": "xGQixIqFLqa3"
      },
      "source": [
        "#transfering the dataset into different variables\n",
        "data = db_data['data']\n",
        "target = db_data['target']\n",
        "features = db_data['feature_names']"
      ],
      "execution_count": 7,
      "outputs": []
    },
    {
      "cell_type": "code",
      "metadata": {
        "id": "k5hhouttMXaa"
      },
      "source": [
        "#Computes the mean and std to be used for later scaling. https://scikit-learn.org/stable/modules/generated/sklearn.preprocessing.StandardScaler.html\n",
        "data_ss = StandardScaler().fit_transform(data)"
      ],
      "execution_count": 10,
      "outputs": []
    },
    {
      "cell_type": "code",
      "metadata": {
        "id": "NQ8w18cFNAs_"
      },
      "source": [
        "#sets up the data into a pandas dataframe\n",
        "Xdf = pd.DataFrame(data_ss, columns=features)\n",
        "ys = pd.Series(target)"
      ],
      "execution_count": 13,
      "outputs": []
    },
    {
      "cell_type": "code",
      "metadata": {
        "colab": {
          "base_uri": "https://localhost:8080/"
        },
        "id": "Dzm_7hyPNLB1",
        "outputId": "5bc0b689-5e63-424a-8a23-8600c325cacd"
      },
      "source": [
        "#check the columns\n",
        "Xdf.columns"
      ],
      "execution_count": 14,
      "outputs": [
        {
          "output_type": "execute_result",
          "data": {
            "text/plain": [
              "Index(['age', 'sex', 'bmi', 'bp', 's1', 's2', 's3', 's4', 's5', 's6'], dtype='object')"
            ]
          },
          "metadata": {
            "tags": []
          },
          "execution_count": 14
        }
      ]
    },
    {
      "cell_type": "markdown",
      "metadata": {
        "id": "RdauaK3iNfjH"
      },
      "source": [
        "#Exploratory Data Analysis\n"
      ]
    },
    {
      "cell_type": "markdown",
      "metadata": {
        "id": "zAjd1uesNk4g"
      },
      "source": [
        "For this dataset exercise, I will be focusing on the BMI of a patient. Based on my other diabetes notebook, it was the only feature that had somewhat of a correlation with the progression of diabetes one year after the baseline. "
      ]
    },
    {
      "cell_type": "code",
      "metadata": {
        "colab": {
          "base_uri": "https://localhost:8080/",
          "height": 296
        },
        "id": "LnzVpBPhOcu0",
        "outputId": "3b3ee4c8-baef-4ebd-de95-9b1828dab539"
      },
      "source": [
        "#plot a histogram to check general trend in bmi scores\n",
        "Xdf.bmi.hist()\n",
        "plt.xlabel('z-score of BMI')\n",
        "plt.ylabel('percentage of people')"
      ],
      "execution_count": 21,
      "outputs": [
        {
          "output_type": "execute_result",
          "data": {
            "text/plain": [
              "Text(0, 0.5, 'percentage of people')"
            ]
          },
          "metadata": {
            "tags": []
          },
          "execution_count": 21
        },
        {
          "output_type": "display_data",
          "data": {
            "image/png": "[encoded data removed]",
            "text/plain": [
              "<Figure size 432x288 with 1 Axes>"
            ]
          },
          "metadata": {
            "tags": [],
            "needs_background": "light"
          }
        }
      ]
    },
    {
      "cell_type": "markdown",
      "metadata": {
        "id": "sXaAnUu8PUx4"
      },
      "source": [
        "There is a slight skewness to the right of the median. This implies that the mean of the data will be larger than median. https://www.dummies.com/education/math/statistics/how-to-identify-skew-and-symmetry-in-a-statistical-histogram/"
      ]
    },
    {
      "cell_type": "code",
      "metadata": {
        "colab": {
          "base_uri": "https://localhost:8080/",
          "height": 204
        },
        "id": "5wcPnoKNP8_7",
        "outputId": "69313ace-af92-4647-af2d-d3e9d53cf28c"
      },
      "source": [
        "#To create a correlation table, I must include my y-output with my pandas dataset. \n",
        "Xdf['target'] = ys\n",
        "Xdf.head()"
      ],
      "execution_count": 18,
      "outputs": [
        {
          "output_type": "execute_result",
          "data": {
            "text/html": [
              "<div>\n",
              "<style scoped>\n",
              "    .dataframe tbody tr th:only-of-type {\n",
              "        vertical-align: middle;\n",
              "    }\n",
              "\n",
              "    .dataframe tbody tr th {\n",
              "        vertical-align: top;\n",
              "    }\n",
              "\n",
              "    .dataframe thead th {\n",
              "        text-align: right;\n",
              "    }\n",
              "</style>\n",
              "<table border=\"1\" class=\"dataframe\">\n",
              "  <thead>\n",
              "    <tr style=\"text-align: right;\">\n",
              "      <th></th>\n",
              "      <th>age</th>\n",
              "      <th>sex</th>\n",
              "      <th>bmi</th>\n",
              "      <th>bp</th>\n",
              "      <th>s1</th>\n",
              "      <th>s2</th>\n",
              "      <th>s3</th>\n",
              "      <th>s4</th>\n",
              "      <th>s5</th>\n",
              "      <th>s6</th>\n",
              "      <th>target</th>\n",
              "    </tr>\n",
              "  </thead>\n",
              "  <tbody>\n",
              "    <tr>\n",
              "      <th>0</th>\n",
              "      <td>0.800500</td>\n",
              "      <td>1.065488</td>\n",
              "      <td>1.297088</td>\n",
              "      <td>0.459840</td>\n",
              "      <td>-0.929746</td>\n",
              "      <td>-0.732065</td>\n",
              "      <td>-0.912451</td>\n",
              "      <td>-0.054499</td>\n",
              "      <td>0.418551</td>\n",
              "      <td>-0.370989</td>\n",
              "      <td>151.0</td>\n",
              "    </tr>\n",
              "    <tr>\n",
              "      <th>1</th>\n",
              "      <td>-0.039567</td>\n",
              "      <td>-0.938537</td>\n",
              "      <td>-1.082180</td>\n",
              "      <td>-0.553511</td>\n",
              "      <td>-0.177624</td>\n",
              "      <td>-0.402886</td>\n",
              "      <td>1.564414</td>\n",
              "      <td>-0.830301</td>\n",
              "      <td>-1.436551</td>\n",
              "      <td>-1.938479</td>\n",
              "      <td>75.0</td>\n",
              "    </tr>\n",
              "    <tr>\n",
              "      <th>2</th>\n",
              "      <td>1.793307</td>\n",
              "      <td>1.065488</td>\n",
              "      <td>0.934533</td>\n",
              "      <td>-0.119218</td>\n",
              "      <td>-0.958674</td>\n",
              "      <td>-0.718897</td>\n",
              "      <td>-0.680245</td>\n",
              "      <td>-0.054499</td>\n",
              "      <td>0.060207</td>\n",
              "      <td>-0.545154</td>\n",
              "      <td>141.0</td>\n",
              "    </tr>\n",
              "    <tr>\n",
              "      <th>3</th>\n",
              "      <td>-1.872441</td>\n",
              "      <td>-0.938537</td>\n",
              "      <td>-0.243771</td>\n",
              "      <td>-0.770658</td>\n",
              "      <td>0.256292</td>\n",
              "      <td>0.525397</td>\n",
              "      <td>-0.757647</td>\n",
              "      <td>0.721302</td>\n",
              "      <td>0.477072</td>\n",
              "      <td>-0.196823</td>\n",
              "      <td>206.0</td>\n",
              "    </tr>\n",
              "    <tr>\n",
              "      <th>4</th>\n",
              "      <td>0.113172</td>\n",
              "      <td>-0.938537</td>\n",
              "      <td>-0.764944</td>\n",
              "      <td>0.459840</td>\n",
              "      <td>0.082726</td>\n",
              "      <td>0.327890</td>\n",
              "      <td>0.171178</td>\n",
              "      <td>-0.054499</td>\n",
              "      <td>-0.672582</td>\n",
              "      <td>-0.980568</td>\n",
              "      <td>135.0</td>\n",
              "    </tr>\n",
              "  </tbody>\n",
              "</table>\n",
              "</div>"
            ],
            "text/plain": [
              "        age       sex       bmi        bp  ...        s4        s5        s6  target\n",
              "0  0.800500  1.065488  1.297088  0.459840  ... -0.054499  0.418551 -0.370989   151.0\n",
              "1 -0.039567 -0.938537 -1.082180 -0.553511  ... -0.830301 -1.436551 -1.938479    75.0\n",
              "2  1.793307  1.065488  0.934533 -0.119218  ... -0.054499  0.060207 -0.545154   141.0\n",
              "3 -1.872441 -0.938537 -0.243771 -0.770658  ...  0.721302  0.477072 -0.196823   206.0\n",
              "4  0.113172 -0.938537 -0.764944  0.459840  ... -0.054499 -0.672582 -0.980568   135.0\n",
              "\n",
              "[5 rows x 11 columns]"
            ]
          },
          "metadata": {
            "tags": []
          },
          "execution_count": 18
        }
      ]
    },
    {
      "cell_type": "code",
      "metadata": {
        "colab": {
          "base_uri": "https://localhost:8080/",
          "height": 111
        },
        "id": "18vxztYLXZi3",
        "outputId": "db48ad3f-a295-4f23-d631-1955e17c86a4"
      },
      "source": [
        "#Create the correlation table\n",
        "Xdf[['bmi', 'target']].corr()"
      ],
      "execution_count": 19,
      "outputs": [
        {
          "output_type": "execute_result",
          "data": {
            "text/html": [
              "<div>\n",
              "<style scoped>\n",
              "    .dataframe tbody tr th:only-of-type {\n",
              "        vertical-align: middle;\n",
              "    }\n",
              "\n",
              "    .dataframe tbody tr th {\n",
              "        vertical-align: top;\n",
              "    }\n",
              "\n",
              "    .dataframe thead th {\n",
              "        text-align: right;\n",
              "    }\n",
              "</style>\n",
              "<table border=\"1\" class=\"dataframe\">\n",
              "  <thead>\n",
              "    <tr style=\"text-align: right;\">\n",
              "      <th></th>\n",
              "      <th>bmi</th>\n",
              "      <th>target</th>\n",
              "    </tr>\n",
              "  </thead>\n",
              "  <tbody>\n",
              "    <tr>\n",
              "      <th>bmi</th>\n",
              "      <td>1.00000</td>\n",
              "      <td>0.58645</td>\n",
              "    </tr>\n",
              "    <tr>\n",
              "      <th>target</th>\n",
              "      <td>0.58645</td>\n",
              "      <td>1.00000</td>\n",
              "    </tr>\n",
              "  </tbody>\n",
              "</table>\n",
              "</div>"
            ],
            "text/plain": [
              "            bmi   target\n",
              "bmi     1.00000  0.58645\n",
              "target  0.58645  1.00000"
            ]
          },
          "metadata": {
            "tags": []
          },
          "execution_count": 19
        }
      ]
    },
    {
      "cell_type": "markdown",
      "metadata": {
        "id": "am3Rghz0Xrqn"
      },
      "source": [
        "As you can see, this is not the strongest correlation, rather it is a moderate one. https://www.westga.edu/academics/research/vrc/assets/docs/scatterplots_and_correlation_notes.pdf"
      ]
    },
    {
      "cell_type": "code",
      "metadata": {
        "colab": {
          "base_uri": "https://localhost:8080/",
          "height": 566
        },
        "id": "OCQi4GGmYIjJ",
        "outputId": "d2f85108-b618-45b5-d5ac-e9adfdd8224e"
      },
      "source": [
        "#Create a scatter plot to visualize the relationship between bmi and target\n",
        "sns.pairplot(Xdf, x_vars='bmi', y_vars='target', size=7, aspect=0.7)"
      ],
      "execution_count": 20,
      "outputs": [
        {
          "output_type": "stream",
          "text": [
            "/usr/local/lib/python3.7/dist-packages/seaborn/axisgrid.py:1969: UserWarning: The `size` parameter has been renamed to `height`; please update your code.\n",
            "  warnings.warn(msg, UserWarning)\n"
          ],
          "name": "stderr"
        },
        {
          "output_type": "execute_result",
          "data": {
            "text/plain": [
              "<seaborn.axisgrid.PairGrid at 0x7f76fa1c6b90>"
            ]
          },
          "metadata": {
            "tags": []
          },
          "execution_count": 20
        },
        {
          "output_type": "display_data",
          "data": {
            "image/png": "[encoded data removed]",
            "text/plain": [
              "<Figure size 352.8x504 with 1 Axes>"
            ]
          },
          "metadata": {
            "tags": [],
            "needs_background": "light"
          }
        }
      ]
    },
    {
      "cell_type": "markdown",
      "metadata": {
        "id": "VFSqgItfcFil"
      },
      "source": [
        "Based on the output, I wonder if normalizing the values for BMI instead of using the actual values affects the value of correlation and outlook of the scatterplot. "
      ]
    },
    {
      "cell_type": "markdown",
      "metadata": {
        "id": "e6AvnrQfdsuz"
      },
      "source": [
        "#Model Building"
      ]
    },
    {
      "cell_type": "markdown",
      "metadata": {
        "id": "_8bn8vaWezrX"
      },
      "source": [
        "Most of these steps were taken from this useful webpage, https://www.ritchieng.com/machine-learning-evaluate-linear-regression-model/"
      ]
    },
    {
      "cell_type": "code",
      "metadata": {
        "colab": {
          "base_uri": "https://localhost:8080/"
        },
        "id": "-MiubO-ZdwlS",
        "outputId": "28463012-b399-43a4-b50d-39a28f677cbd"
      },
      "source": [
        "#create a fitted model\n",
        "lml = smf.ols(formula='target ~ bmi', data=Xdf).fit()\n",
        "\n",
        "#print the coefficients\n",
        "lml.params"
      ],
      "execution_count": 22,
      "outputs": [
        {
          "output_type": "execute_result",
          "data": {
            "text/plain": [
              "Intercept    152.133484\n",
              "bmi           45.160030\n",
              "dtype: float64"
            ]
          },
          "metadata": {
            "tags": []
          },
          "execution_count": 22
        }
      ]
    },
    {
      "cell_type": "code",
      "metadata": {
        "colab": {
          "base_uri": "https://localhost:8080/",
          "height": 1000
        },
        "id": "Q7PTEekke7Ww",
        "outputId": "d3900e5c-9b77-42d3-e99b-3540921b1ca2"
      },
      "source": [
        "#create X and Y\n",
        "#the bmi will be the independent variable while the target is the dependent variable\n",
        "X = Xdf['bmi']\n",
        "y = ys\n",
        "\n",
        "#instantiate and fit\n",
        "lm2 = LinearRegression()\n",
        "lm2.fit(X, y)\n",
        "\n",
        "#print the coefficients\n",
        "print(lm2.intercept_)\n",
        "print(lm2.coef_)"
      ],
      "execution_count": 27,
      "outputs": [
        {
          "output_type": "error",
          "ename": "ValueError",
          "evalue": "ignored",
          "traceback": [
            "\u001b[0;31m---------------------------------------------------------------------------\u001b[0m",
            "\u001b[0;31mValueError\u001b[0m                                Traceback (most recent call last)",
            "\u001b[0;32m<ipython-input-27-2c6ce1c01aa5>\u001b[0m in \u001b[0;36m<module>\u001b[0;34m()\u001b[0m\n\u001b[1;32m      6\u001b[0m \u001b[0;31m#instantiate and fit\u001b[0m\u001b[0;34m\u001b[0m\u001b[0;34m\u001b[0m\u001b[0;34m\u001b[0m\u001b[0m\n\u001b[1;32m      7\u001b[0m \u001b[0mlm2\u001b[0m \u001b[0;34m=\u001b[0m \u001b[0mLinearRegression\u001b[0m\u001b[0;34m(\u001b[0m\u001b[0;34m)\u001b[0m\u001b[0;34m\u001b[0m\u001b[0;34m\u001b[0m\u001b[0m\n\u001b[0;32m----> 8\u001b[0;31m \u001b[0mlm2\u001b[0m\u001b[0;34m.\u001b[0m\u001b[0mfit\u001b[0m\u001b[0;34m(\u001b[0m\u001b[0mX\u001b[0m\u001b[0;34m,\u001b[0m \u001b[0my\u001b[0m\u001b[0;34m)\u001b[0m\u001b[0;34m\u001b[0m\u001b[0;34m\u001b[0m\u001b[0m\n\u001b[0m\u001b[1;32m      9\u001b[0m \u001b[0;34m\u001b[0m\u001b[0m\n\u001b[1;32m     10\u001b[0m \u001b[0;31m#print the coefficients\u001b[0m\u001b[0;34m\u001b[0m\u001b[0;34m\u001b[0m\u001b[0;34m\u001b[0m\u001b[0m\n",
            "\u001b[0;32m/usr/local/lib/python3.7/dist-packages/sklearn/linear_model/_base.py\u001b[0m in \u001b[0;36mfit\u001b[0;34m(self, X, y, sample_weight)\u001b[0m\n\u001b[1;32m    490\u001b[0m         \u001b[0mn_jobs_\u001b[0m \u001b[0;34m=\u001b[0m \u001b[0mself\u001b[0m\u001b[0;34m.\u001b[0m\u001b[0mn_jobs\u001b[0m\u001b[0;34m\u001b[0m\u001b[0;34m\u001b[0m\u001b[0m\n\u001b[1;32m    491\u001b[0m         X, y = check_X_y(X, y, accept_sparse=['csr', 'csc', 'coo'],\n\u001b[0;32m--> 492\u001b[0;31m                          y_numeric=True, multi_output=True)\n\u001b[0m\u001b[1;32m    493\u001b[0m \u001b[0;34m\u001b[0m\u001b[0m\n\u001b[1;32m    494\u001b[0m         \u001b[0;32mif\u001b[0m \u001b[0msample_weight\u001b[0m \u001b[0;32mis\u001b[0m \u001b[0;32mnot\u001b[0m \u001b[0;32mNone\u001b[0m\u001b[0;34m:\u001b[0m\u001b[0;34m\u001b[0m\u001b[0;34m\u001b[0m\u001b[0m\n",
            "\u001b[0;32m/usr/local/lib/python3.7/dist-packages/sklearn/utils/validation.py\u001b[0m in \u001b[0;36mcheck_X_y\u001b[0;34m(X, y, accept_sparse, accept_large_sparse, dtype, order, copy, force_all_finite, ensure_2d, allow_nd, multi_output, ensure_min_samples, ensure_min_features, y_numeric, warn_on_dtype, estimator)\u001b[0m\n\u001b[1;32m    753\u001b[0m                     \u001b[0mensure_min_features\u001b[0m\u001b[0;34m=\u001b[0m\u001b[0mensure_min_features\u001b[0m\u001b[0;34m,\u001b[0m\u001b[0;34m\u001b[0m\u001b[0;34m\u001b[0m\u001b[0m\n\u001b[1;32m    754\u001b[0m                     \u001b[0mwarn_on_dtype\u001b[0m\u001b[0;34m=\u001b[0m\u001b[0mwarn_on_dtype\u001b[0m\u001b[0;34m,\u001b[0m\u001b[0;34m\u001b[0m\u001b[0;34m\u001b[0m\u001b[0m\n\u001b[0;32m--> 755\u001b[0;31m                     estimator=estimator)\n\u001b[0m\u001b[1;32m    756\u001b[0m     \u001b[0;32mif\u001b[0m \u001b[0mmulti_output\u001b[0m\u001b[0;34m:\u001b[0m\u001b[0;34m\u001b[0m\u001b[0;34m\u001b[0m\u001b[0m\n\u001b[1;32m    757\u001b[0m         y = check_array(y, 'csr', force_all_finite=True, ensure_2d=False,\n",
            "\u001b[0;32m/usr/local/lib/python3.7/dist-packages/sklearn/utils/validation.py\u001b[0m in \u001b[0;36mcheck_array\u001b[0;34m(array, accept_sparse, accept_large_sparse, dtype, order, copy, force_all_finite, ensure_2d, allow_nd, ensure_min_samples, ensure_min_features, warn_on_dtype, estimator)\u001b[0m\n\u001b[1;32m    554\u001b[0m                     \u001b[0;34m\"Reshape your data either using array.reshape(-1, 1) if \"\u001b[0m\u001b[0;34m\u001b[0m\u001b[0;34m\u001b[0m\u001b[0m\n\u001b[1;32m    555\u001b[0m                     \u001b[0;34m\"your data has a single feature or array.reshape(1, -1) \"\u001b[0m\u001b[0;34m\u001b[0m\u001b[0;34m\u001b[0m\u001b[0m\n\u001b[0;32m--> 556\u001b[0;31m                     \"if it contains a single sample.\".format(array))\n\u001b[0m\u001b[1;32m    557\u001b[0m \u001b[0;34m\u001b[0m\u001b[0m\n\u001b[1;32m    558\u001b[0m         \u001b[0;31m# in the future np.flexible dtypes will be handled like object dtypes\u001b[0m\u001b[0;34m\u001b[0m\u001b[0;34m\u001b[0m\u001b[0;34m\u001b[0m\u001b[0m\n",
            "\u001b[0;31mValueError\u001b[0m: Expected 2D array, got 1D array instead:\narray=[ 1.29708846 -1.08218016  0.93453324 -0.24377122 -0.76494435 -0.85558315\n -0.99154136 -0.03983391  1.29708846  0.82123474 -1.7619712   0.36804071\n -0.60632644 -0.03983391 -0.53834734 -0.37972943  0.88921384  0.25474221\n -0.22111152 -0.37972943 -1.19547867 -0.47036823 -0.08515331  1.27442876\n  0.75325563 -0.26643092 -1.62601299  1.25176906 -0.44770853 -0.13047271\n  0.93453324 -1.37675628  2.63401083 -1.05952046 -1.33143688 -0.65164584\n  0.48133922  0.23208251  1.50102577  0.30006161 -0.17579212 -1.42207568\n -0.22111152 -0.49302793  1.43304667 -0.74228465 -0.24377122 -1.53537419\n -0.87824285  0.30006161 -0.15313242  0.34538101 -0.19845182 -0.33441002\n  0.52665862 -1.03686076  0.86655414 -1.33143688 -1.35409658 -0.53834734\n -0.08515331  0.0961243  -0.15313242 -0.78760405 -0.53834734 -0.51568763\n -0.37972943 -0.31175032 -0.62898614 -0.96888166 -1.46739509  0.70793623\n -0.08515331 -0.42504883  0.0508049  -0.65164584  0.59463772 -0.76494435\n -1.21813837 -0.78760405  0.25474221 -0.47036823 -0.74228465  0.2094228\n -0.83292345  1.50102577 -1.58069359 -0.13047271 -0.85558315 -1.01420106\n -0.53834734  1.09315115  0.0961243  -1.35409658 -0.35706973 -1.21813837\n  0.2094228   1.86358099 -0.10781301 -1.35409658  0.36804071 -0.94622196\n  0.59463772  0.86655414  1.36506757 -0.67430554 -1.60335329  1.04783175\n  0.95719294 -0.19845182 -0.67430554  0.0961243   0.43601982  0.30006161\n  2.31677502  0.02814519  1.22910936 -0.44770853 -0.22111152 -0.99154136\n  0.0961243   0.36804071  1.70496308  0.73059593  0.50399892 -0.17579212\n -1.28611748 -0.03983391 -1.30877718  0.34538101  2.0221989  -1.46739509\n -0.44770853 -1.12749957  0.91187354  1.18378996 -1.7166518   1.04783175\n  2.33943472  1.29708846  0.30006161  1.00251235  0.25474221  0.118784\n  0.97985265  2.70198994  1.25176906  1.9542198   0.32272131 -0.10781301\n  1.47836607 -0.08515331 -0.01717421 -0.92356226  0.43601982  1.27442876\n -0.22111152 -0.69696524 -1.37675628  0.91187354 -1.30877718  1.34240786\n  0.63995713  1.52368547 -0.40238913 -1.39941598 -1.26345777  1.45570637\n  1.25176906 -0.56100704 -0.42504883 -0.96888166  1.50102577 -1.6713324\n  0.2094228  -0.81026375  0.41336012  0.57197802 -0.17579212 -0.33441002\n  0.0961243  -0.90090256  0.118784   -0.74228465  0.50399892 -0.37972943\n  0.88921384 -1.15015927 -0.06249361 -1.39941598 -0.26643092 -0.87824285\n -0.65164584 -0.10781301 -1.24079807  0.52665862 -0.96888166  0.0734646\n  1.13847055 -0.94622196 -1.21813837 -1.17281897  0.02814519  0.63995713\n  0.1414437   0.97985265  0.54931832  0.95719294  0.84389444 -0.37972943\n  0.30006161  0.77591533  0.0734646  -1.49005479 -0.69696524  1.9768795\n  0.75325563  0.66261683 -1.37675628 -0.87824285 -0.83292345 -0.81026375\n -0.53834734 -0.49302793 -1.39941598  0.68527653 -0.96888166 -0.62898614\n -0.26643092 -0.33441002  1.50102577 -0.65164584  0.00548549  0.77591533\n  0.82123474 -0.31175032  0.1414437  -1.44473538 -0.19845182  0.41336012\n  1.56900488 -0.17579212 -0.49302793 -0.96888166  1.13847055 -0.74228465\n -0.67430554 -1.7166518   1.00251235  1.27442876  1.18378996  2.0675183\n  1.25176906  0.70793623  1.18378996 -1.37675628  3.38178097 -1.17281897\n -0.51568763 -0.76494435 -0.17579212 -0.87824285  2.67933024 -1.62601299\n  0.59463772 -0.53834734 -1.30877718 -0.01717421  1.86358099 -0.67430554\n  0.63995713  0.1867631   0.1414437  -0.42504883 -0.51568763 -0.24377122\n  0.54931832 -1.24079807 -0.76494435 -0.51568763  0.39070041 -1.89792941\n -0.10781301 -1.10483987 -0.47036823 -0.42504883 -1.15015927 -0.13047271\n -0.35706973  1.16113026  1.61432428  0.39070041 -0.47036823  1.9542198\n -0.65164584  0.82123474 -1.28611748 -0.17579212 -0.78760405 -0.28909062\n  1.54634518 -0.51568763  0.70793623  0.73059593 -0.81026375 -0.83292345\n -0.03983391 -0.65164584 -0.96888166  0.02814519  1.36506757  0.84389444\n -0.49302793  1.11581085  0.84389444 -0.42504883  0.30006161 -0.71962495\n  0.1414437   0.0961243   0.63995713  1.09315115  1.29708846 -0.15313242\n  0.118784    1.13847055 -0.17579212  2.40741382  1.41038697 -1.17281897\n  0.63995713 -0.53834734  2.20347651 -0.13047271 -0.99154136 -1.01420106\n  1.79560189 -0.26643092 -0.69696524 -0.15313242 -0.28909062  1.25176906\n  0.45867952  0.39070041 -0.24377122 -0.06249361  0.36804071 -0.62898614\n -0.42504883 -1.21813837  1.27442876 -0.85558315 -1.51271449 -1.17281897\n  0.95719294 -0.19845182 -0.69696524  1.04783175 -1.7846309   0.118784\n  0.43601982 -0.15313242  2.20347651 -0.51568763 -0.13047271 -0.81026375\n  2.88326755  3.58571828  0.0508049   0.79857504 -1.21813837 -0.19845182\n -0.49302793 -0.22111152 -0.71962495 -0.06249361  1.43304667  0.2094228\n  0.0508049  -0.81026375  0.54931832 -1.87526971  1.27442876 -0.60632644\n -0.62898614 -0.40238913 -0.85558315  0.32272131 -0.51568763  0.02814519\n  1.45570637 -1.46739509 -0.62898614 -0.96888166  0.39070041  0.02814519\n -0.65164584 -0.08515331  0.32272131  0.48133922  0.95719294 -0.94622196\n -0.69696524  2.0448586   1.13847055  2.58869143 -1.6939921   1.9542198\n -1.05952046 -0.24377122 -0.58366674  1.22910936  1.79560189 -0.01717421\n  0.1414437   0.1867631   1.68230338  1.50102577 -0.51568763 -1.15015927\n -0.76494435  0.34538101  1.63698398 -0.83292345  0.23208251 -0.85558315\n -0.71962495  0.118784    1.86358099 -0.69696524 -1.19547867 -0.65164584\n  1.16113026 -1.26345777  0.02814519 -0.49302793 -1.55803389  0.41336012\n -0.33441002 -0.33441002  0.82123474 -1.53537419].\nReshape your data either using array.reshape(-1, 1) if your data has a single feature or array.reshape(1, -1) if it contains a single sample."
          ]
        }
      ]
    },
    {
      "cell_type": "code",
      "metadata": {
        "colab": {
          "base_uri": "https://localhost:8080/",
          "height": 341
        },
        "id": "3KeFN-2agMx2",
        "outputId": "d4b9e01e-464c-43b0-afca-99d6a4b716b5"
      },
      "source": [
        "np.reshape(ys, (-1, 1))"
      ],
      "execution_count": 30,
      "outputs": [
        {
          "output_type": "error",
          "ename": "Exception",
          "evalue": "ignored",
          "traceback": [
            "\u001b[0;31m---------------------------------------------------------------------------\u001b[0m",
            "\u001b[0;31mException\u001b[0m                                 Traceback (most recent call last)",
            "\u001b[0;32m<ipython-input-30-2ecc13ac8238>\u001b[0m in \u001b[0;36m<module>\u001b[0;34m()\u001b[0m\n\u001b[0;32m----> 1\u001b[0;31m \u001b[0mnp\u001b[0m\u001b[0;34m.\u001b[0m\u001b[0mreshape\u001b[0m\u001b[0;34m(\u001b[0m\u001b[0mys\u001b[0m\u001b[0;34m,\u001b[0m \u001b[0;34m(\u001b[0m\u001b[0;34m-\u001b[0m\u001b[0;36m1\u001b[0m\u001b[0;34m,\u001b[0m \u001b[0;36m1\u001b[0m\u001b[0;34m)\u001b[0m\u001b[0;34m)\u001b[0m\u001b[0;34m\u001b[0m\u001b[0;34m\u001b[0m\u001b[0m\n\u001b[0m",
            "\u001b[0;32m<__array_function__ internals>\u001b[0m in \u001b[0;36mreshape\u001b[0;34m(*args, **kwargs)\u001b[0m\n",
            "\u001b[0;32m/usr/local/lib/python3.7/dist-packages/numpy/core/fromnumeric.py\u001b[0m in \u001b[0;36mreshape\u001b[0;34m(a, newshape, order)\u001b[0m\n\u001b[1;32m    297\u001b[0m            [5, 6]])\n\u001b[1;32m    298\u001b[0m     \"\"\"\n\u001b[0;32m--> 299\u001b[0;31m     \u001b[0;32mreturn\u001b[0m \u001b[0m_wrapfunc\u001b[0m\u001b[0;34m(\u001b[0m\u001b[0ma\u001b[0m\u001b[0;34m,\u001b[0m \u001b[0;34m'reshape'\u001b[0m\u001b[0;34m,\u001b[0m \u001b[0mnewshape\u001b[0m\u001b[0;34m,\u001b[0m \u001b[0morder\u001b[0m\u001b[0;34m=\u001b[0m\u001b[0morder\u001b[0m\u001b[0;34m)\u001b[0m\u001b[0;34m\u001b[0m\u001b[0;34m\u001b[0m\u001b[0m\n\u001b[0m\u001b[1;32m    300\u001b[0m \u001b[0;34m\u001b[0m\u001b[0m\n\u001b[1;32m    301\u001b[0m \u001b[0;34m\u001b[0m\u001b[0m\n",
            "\u001b[0;32m/usr/local/lib/python3.7/dist-packages/numpy/core/fromnumeric.py\u001b[0m in \u001b[0;36m_wrapfunc\u001b[0;34m(obj, method, *args, **kwds)\u001b[0m\n\u001b[1;32m     53\u001b[0m     \u001b[0mbound\u001b[0m \u001b[0;34m=\u001b[0m \u001b[0mgetattr\u001b[0m\u001b[0;34m(\u001b[0m\u001b[0mobj\u001b[0m\u001b[0;34m,\u001b[0m \u001b[0mmethod\u001b[0m\u001b[0;34m,\u001b[0m \u001b[0;32mNone\u001b[0m\u001b[0;34m)\u001b[0m\u001b[0;34m\u001b[0m\u001b[0;34m\u001b[0m\u001b[0m\n\u001b[1;32m     54\u001b[0m     \u001b[0;32mif\u001b[0m \u001b[0mbound\u001b[0m \u001b[0;32mis\u001b[0m \u001b[0;32mNone\u001b[0m\u001b[0;34m:\u001b[0m\u001b[0;34m\u001b[0m\u001b[0;34m\u001b[0m\u001b[0m\n\u001b[0;32m---> 55\u001b[0;31m         \u001b[0;32mreturn\u001b[0m \u001b[0m_wrapit\u001b[0m\u001b[0;34m(\u001b[0m\u001b[0mobj\u001b[0m\u001b[0;34m,\u001b[0m \u001b[0mmethod\u001b[0m\u001b[0;34m,\u001b[0m \u001b[0;34m*\u001b[0m\u001b[0margs\u001b[0m\u001b[0;34m,\u001b[0m \u001b[0;34m**\u001b[0m\u001b[0mkwds\u001b[0m\u001b[0;34m)\u001b[0m\u001b[0;34m\u001b[0m\u001b[0;34m\u001b[0m\u001b[0m\n\u001b[0m\u001b[1;32m     56\u001b[0m \u001b[0;34m\u001b[0m\u001b[0m\n\u001b[1;32m     57\u001b[0m     \u001b[0;32mtry\u001b[0m\u001b[0;34m:\u001b[0m\u001b[0;34m\u001b[0m\u001b[0;34m\u001b[0m\u001b[0m\n",
            "\u001b[0;32m/usr/local/lib/python3.7/dist-packages/numpy/core/fromnumeric.py\u001b[0m in \u001b[0;36m_wrapit\u001b[0;34m(obj, method, *args, **kwds)\u001b[0m\n\u001b[1;32m     46\u001b[0m         \u001b[0;32mif\u001b[0m \u001b[0;32mnot\u001b[0m \u001b[0misinstance\u001b[0m\u001b[0;34m(\u001b[0m\u001b[0mresult\u001b[0m\u001b[0;34m,\u001b[0m \u001b[0mmu\u001b[0m\u001b[0;34m.\u001b[0m\u001b[0mndarray\u001b[0m\u001b[0;34m)\u001b[0m\u001b[0;34m:\u001b[0m\u001b[0;34m\u001b[0m\u001b[0;34m\u001b[0m\u001b[0m\n\u001b[1;32m     47\u001b[0m             \u001b[0mresult\u001b[0m \u001b[0;34m=\u001b[0m \u001b[0masarray\u001b[0m\u001b[0;34m(\u001b[0m\u001b[0mresult\u001b[0m\u001b[0;34m)\u001b[0m\u001b[0;34m\u001b[0m\u001b[0;34m\u001b[0m\u001b[0m\n\u001b[0;32m---> 48\u001b[0;31m         \u001b[0mresult\u001b[0m \u001b[0;34m=\u001b[0m \u001b[0mwrap\u001b[0m\u001b[0;34m(\u001b[0m\u001b[0mresult\u001b[0m\u001b[0;34m)\u001b[0m\u001b[0;34m\u001b[0m\u001b[0;34m\u001b[0m\u001b[0m\n\u001b[0m\u001b[1;32m     49\u001b[0m     \u001b[0;32mreturn\u001b[0m \u001b[0mresult\u001b[0m\u001b[0;34m\u001b[0m\u001b[0;34m\u001b[0m\u001b[0m\n\u001b[1;32m     50\u001b[0m \u001b[0;34m\u001b[0m\u001b[0m\n",
            "\u001b[0;32m/usr/local/lib/python3.7/dist-packages/pandas/core/generic.py\u001b[0m in \u001b[0;36m__array_wrap__\u001b[0;34m(self, result, context)\u001b[0m\n\u001b[1;32m   1788\u001b[0m             \u001b[0;32mreturn\u001b[0m \u001b[0mresult\u001b[0m\u001b[0;34m\u001b[0m\u001b[0;34m\u001b[0m\u001b[0m\n\u001b[1;32m   1789\u001b[0m         \u001b[0md\u001b[0m \u001b[0;34m=\u001b[0m \u001b[0mself\u001b[0m\u001b[0;34m.\u001b[0m\u001b[0m_construct_axes_dict\u001b[0m\u001b[0;34m(\u001b[0m\u001b[0mself\u001b[0m\u001b[0;34m.\u001b[0m\u001b[0m_AXIS_ORDERS\u001b[0m\u001b[0;34m,\u001b[0m \u001b[0mcopy\u001b[0m\u001b[0;34m=\u001b[0m\u001b[0;32mFalse\u001b[0m\u001b[0;34m)\u001b[0m\u001b[0;34m\u001b[0m\u001b[0;34m\u001b[0m\u001b[0m\n\u001b[0;32m-> 1790\u001b[0;31m         return self._constructor(result, **d).__finalize__(\n\u001b[0m\u001b[1;32m   1791\u001b[0m             \u001b[0mself\u001b[0m\u001b[0;34m,\u001b[0m \u001b[0mmethod\u001b[0m\u001b[0;34m=\u001b[0m\u001b[0;34m\"__array_wrap__\"\u001b[0m\u001b[0;34m\u001b[0m\u001b[0;34m\u001b[0m\u001b[0m\n\u001b[1;32m   1792\u001b[0m         )\n",
            "\u001b[0;32m/usr/local/lib/python3.7/dist-packages/pandas/core/series.py\u001b[0m in \u001b[0;36m__init__\u001b[0;34m(self, data, index, dtype, name, copy, fastpath)\u001b[0m\n\u001b[1;32m    325\u001b[0m                     \u001b[0mdata\u001b[0m \u001b[0;34m=\u001b[0m \u001b[0mdata\u001b[0m\u001b[0;34m.\u001b[0m\u001b[0mcopy\u001b[0m\u001b[0;34m(\u001b[0m\u001b[0;34m)\u001b[0m\u001b[0;34m\u001b[0m\u001b[0;34m\u001b[0m\u001b[0m\n\u001b[1;32m    326\u001b[0m             \u001b[0;32melse\u001b[0m\u001b[0;34m:\u001b[0m\u001b[0;34m\u001b[0m\u001b[0;34m\u001b[0m\u001b[0m\n\u001b[0;32m--> 327\u001b[0;31m                 \u001b[0mdata\u001b[0m \u001b[0;34m=\u001b[0m \u001b[0msanitize_array\u001b[0m\u001b[0;34m(\u001b[0m\u001b[0mdata\u001b[0m\u001b[0;34m,\u001b[0m \u001b[0mindex\u001b[0m\u001b[0;34m,\u001b[0m \u001b[0mdtype\u001b[0m\u001b[0;34m,\u001b[0m \u001b[0mcopy\u001b[0m\u001b[0;34m,\u001b[0m \u001b[0mraise_cast_failure\u001b[0m\u001b[0;34m=\u001b[0m\u001b[0;32mTrue\u001b[0m\u001b[0;34m)\u001b[0m\u001b[0;34m\u001b[0m\u001b[0;34m\u001b[0m\u001b[0m\n\u001b[0m\u001b[1;32m    328\u001b[0m \u001b[0;34m\u001b[0m\u001b[0m\n\u001b[1;32m    329\u001b[0m                 \u001b[0mdata\u001b[0m \u001b[0;34m=\u001b[0m \u001b[0mSingleBlockManager\u001b[0m\u001b[0;34m.\u001b[0m\u001b[0mfrom_array\u001b[0m\u001b[0;34m(\u001b[0m\u001b[0mdata\u001b[0m\u001b[0;34m,\u001b[0m \u001b[0mindex\u001b[0m\u001b[0;34m)\u001b[0m\u001b[0;34m\u001b[0m\u001b[0;34m\u001b[0m\u001b[0m\n",
            "\u001b[0;32m/usr/local/lib/python3.7/dist-packages/pandas/core/construction.py\u001b[0m in \u001b[0;36msanitize_array\u001b[0;34m(data, index, dtype, copy, raise_cast_failure)\u001b[0m\n\u001b[1;32m    494\u001b[0m     \u001b[0;32melif\u001b[0m \u001b[0msubarr\u001b[0m\u001b[0;34m.\u001b[0m\u001b[0mndim\u001b[0m \u001b[0;34m>\u001b[0m \u001b[0;36m1\u001b[0m\u001b[0;34m:\u001b[0m\u001b[0;34m\u001b[0m\u001b[0;34m\u001b[0m\u001b[0m\n\u001b[1;32m    495\u001b[0m         \u001b[0;32mif\u001b[0m \u001b[0misinstance\u001b[0m\u001b[0;34m(\u001b[0m\u001b[0mdata\u001b[0m\u001b[0;34m,\u001b[0m \u001b[0mnp\u001b[0m\u001b[0;34m.\u001b[0m\u001b[0mndarray\u001b[0m\u001b[0;34m)\u001b[0m\u001b[0;34m:\u001b[0m\u001b[0;34m\u001b[0m\u001b[0;34m\u001b[0m\u001b[0m\n\u001b[0;32m--> 496\u001b[0;31m             \u001b[0;32mraise\u001b[0m \u001b[0mException\u001b[0m\u001b[0;34m(\u001b[0m\u001b[0;34m\"Data must be 1-dimensional\"\u001b[0m\u001b[0;34m)\u001b[0m\u001b[0;34m\u001b[0m\u001b[0;34m\u001b[0m\u001b[0m\n\u001b[0m\u001b[1;32m    497\u001b[0m         \u001b[0;32melse\u001b[0m\u001b[0;34m:\u001b[0m\u001b[0;34m\u001b[0m\u001b[0;34m\u001b[0m\u001b[0m\n\u001b[1;32m    498\u001b[0m             \u001b[0msubarr\u001b[0m \u001b[0;34m=\u001b[0m \u001b[0mcom\u001b[0m\u001b[0;34m.\u001b[0m\u001b[0masarray_tuplesafe\u001b[0m\u001b[0;34m(\u001b[0m\u001b[0mdata\u001b[0m\u001b[0;34m,\u001b[0m \u001b[0mdtype\u001b[0m\u001b[0;34m=\u001b[0m\u001b[0mdtype\u001b[0m\u001b[0;34m)\u001b[0m\u001b[0;34m\u001b[0m\u001b[0;34m\u001b[0m\u001b[0m\n",
            "\u001b[0;31mException\u001b[0m: Data must be 1-dimensional"
          ]
        }
      ]
    }
  ]
}