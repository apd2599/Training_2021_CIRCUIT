{
  "nbformat": 4,
  "nbformat_minor": 0,
  "metadata": {
    "colab": {
      "name": "BMI_Diabetes_Corr.ipynb",
      "provenance": [],
      "authorship_tag": "ABX9TyMYpkEZeGdQac/EWic+o2wC",
      "include_colab_link": true
    },
    "kernelspec": {
      "name": "python3",
      "display_name": "Python 3"
    },
    "language_info": {
      "name": "python"
    }
  },
  "cells": [
    {
      "cell_type": "markdown",
      "metadata": {
        "id": "view-in-github",
        "colab_type": "text"
      },
      "source": [
        "<a href=\"https://colab.research.google.com/github/apd2599/Training_2021_CIRCUIT/blob/main/Scikit-Learn_Dataset/BMI_Diabetes_Corr.ipynb\" target=\"_parent\"><img src=\"https://colab.research.google.com/assets/colab-badge.svg\" alt=\"Open In Colab\"/></a>"
      ]
    },
    {
      "cell_type": "code",
      "metadata": {
        "id": "2v3VrtQyK8uX",
        "colab": {
          "base_uri": "https://localhost:8080/"
        },
        "outputId": "516eeea8-2645-4476-8e64-da74266aa95b"
      },
      "source": [
        "import numpy as np\n",
        "import pandas as pd\n",
        "import graphviz\n",
        "import matplotlib.pyplot as plt\n",
        "import statsmodels.formula.api as smf\n",
        "import seaborn as sns\n",
        "from sklearn import random_projection\n",
        "from sklearn.preprocessing import StandardScaler\n",
        "from sklearn import datasets\n",
        "from sklearn.svm import SVC\n",
        "from sklearn.linear_model import LinearRegression\n",
        "from sklearn.model_selection import train_test_split\n",
        "from sklearn.ensemble import RandomForestClassifier\n",
        "from sklearn.metrics import accuracy_score, precision_score, recall_score, mean_squared_error\n",
        "from sklearn import tree"
      ],
      "execution_count": null,
      "outputs": [
        {
          "output_type": "stream",
          "text": [
            "/usr/local/lib/python3.7/dist-packages/statsmodels/tools/_testing.py:19: FutureWarning: pandas.util.testing is deprecated. Use the functions in the public API at pandas.testing instead.\n",
            "  import pandas.util.testing as tm\n"
          ],
          "name": "stderr"
        }
      ]
    },
    {
      "cell_type": "code",
      "metadata": {
        "id": "RnVh-47jLHe3"
      },
      "source": [
        "#loading the dataset\n",
        "db_data = datasets.load_diabetes()"
      ],
      "execution_count": null,
      "outputs": []
    },
    {
      "cell_type": "code",
      "metadata": {
        "colab": {
          "base_uri": "https://localhost:8080/"
        },
        "id": "MX4H4EpsLK3Y",
        "outputId": "f491a5f3-5e28-484d-fa6f-082ed5c33554"
      },
      "source": [
        "#check for the description of the dataset, this description gives details on the specific features that are measured\n",
        "\n",
        "print(db_data['DESCR'])"
      ],
      "execution_count": null,
      "outputs": [
        {
          "output_type": "stream",
          "text": [
            ".. _diabetes_dataset:\n",
            "\n",
            "Diabetes dataset\n",
            "----------------\n",
            "\n",
            "Ten baseline variables, age, sex, body mass index, average blood\n",
            "pressure, and six blood serum measurements were obtained for each of n =\n",
            "442 diabetes patients, as well as the response of interest, a\n",
            "quantitative measure of disease progression one year after baseline.\n",
            "\n",
            "**Data Set Characteristics:**\n",
            "\n",
            "  :Number of Instances: 442\n",
            "\n",
            "  :Number of Attributes: First 10 columns are numeric predictive values\n",
            "\n",
            "  :Target: Column 11 is a quantitative measure of disease progression one year after baseline\n",
            "\n",
            "  :Attribute Information:\n",
            "      - Age\n",
            "      - Sex\n",
            "      - Body mass index\n",
            "      - Average blood pressure\n",
            "      - S1\n",
            "      - S2\n",
            "      - S3\n",
            "      - S4\n",
            "      - S5\n",
            "      - S6\n",
            "\n",
            "Note: Each of these 10 feature variables have been mean centered and scaled by the standard deviation times `n_samples` (i.e. the sum of squares of each column totals 1).\n",
            "\n",
            "Source URL:\n",
            "https://www4.stat.ncsu.edu/~boos/var.select/diabetes.html\n",
            "\n",
            "For more information see:\n",
            "Bradley Efron, Trevor Hastie, Iain Johnstone and Robert Tibshirani (2004) \"Least Angle Regression,\" Annals of Statistics (with discussion), 407-499.\n",
            "(https://web.stanford.edu/~hastie/Papers/LARS/LeastAngle_2002.pdf)\n"
          ],
          "name": "stdout"
        }
      ]
    },
    {
      "cell_type": "markdown",
      "metadata": {
        "id": "JVsEmNGyLf3S"
      },
      "source": [
        "#Data Preprocessing\n",
        "\n"
      ]
    },
    {
      "cell_type": "code",
      "metadata": {
        "id": "xGQixIqFLqa3"
      },
      "source": [
        "#transfering the dataset into different variables\n",
        "data = db_data['data']\n",
        "target = db_data['target']\n",
        "features = db_data['feature_names']"
      ],
      "execution_count": null,
      "outputs": []
    },
    {
      "cell_type": "code",
      "metadata": {
        "id": "k5hhouttMXaa"
      },
      "source": [
        "#Computes the mean and std to be used for later scaling. https://scikit-learn.org/stable/modules/generated/sklearn.preprocessing.StandardScaler.html\n",
        "data_ss = StandardScaler().fit_transform(data)"
      ],
      "execution_count": null,
      "outputs": []
    },
    {
      "cell_type": "code",
      "metadata": {
        "id": "NQ8w18cFNAs_"
      },
      "source": [
        "#sets up the data into a pandas dataframe\n",
        "Xdf = pd.DataFrame(data_ss, columns=features)\n",
        "ys = pd.Series(target)"
      ],
      "execution_count": null,
      "outputs": []
    },
    {
      "cell_type": "code",
      "metadata": {
        "colab": {
          "base_uri": "https://localhost:8080/"
        },
        "id": "Dzm_7hyPNLB1",
        "outputId": "52accd93-133c-4235-ac1a-03fd13107a48"
      },
      "source": [
        "#check the columns\n",
        "Xdf.columns"
      ],
      "execution_count": null,
      "outputs": [
        {
          "output_type": "execute_result",
          "data": {
            "text/plain": [
              "Index(['age', 'sex', 'bmi', 'bp', 's1', 's2', 's3', 's4', 's5', 's6'], dtype='object')"
            ]
          },
          "metadata": {
            "tags": []
          },
          "execution_count": 7
        }
      ]
    },
    {
      "cell_type": "markdown",
      "metadata": {
        "id": "RdauaK3iNfjH"
      },
      "source": [
        "#Exploratory Data Analysis\n"
      ]
    },
    {
      "cell_type": "markdown",
      "metadata": {
        "id": "zAjd1uesNk4g"
      },
      "source": [
        "For this dataset exercise, I will be focusing on the BMI of a patient. Based on my other diabetes notebook, it was the only feature that had somewhat of a correlation with the progression of diabetes one year after the baseline. "
      ]
    },
    {
      "cell_type": "code",
      "metadata": {
        "colab": {
          "base_uri": "https://localhost:8080/",
          "height": 296
        },
        "id": "LnzVpBPhOcu0",
        "outputId": "514957b9-c606-433e-d2b6-4814a5ce05cb"
      },
      "source": [
        "#plot a histogram to check general trend in bmi scores\n",
        "Xdf.bmi.hist()\n",
        "plt.xlabel('z-score of BMI')\n",
        "plt.ylabel('percentage of people')"
      ],
      "execution_count": null,
      "outputs": [
        {
          "output_type": "execute_result",
          "data": {
            "text/plain": [
              "Text(0, 0.5, 'percentage of people')"
            ]
          },
          "metadata": {
            "tags": []
          },
          "execution_count": 8
        },
        {
          "output_type": "display_data",
          "data": {
            "image/png": "[encoded data removed]",
            "text/plain": [
              "<Figure size 432x288 with 1 Axes>"
            ]
          },
          "metadata": {
            "tags": [],
            "needs_background": "light"
          }
        }
      ]
    },
    {
      "cell_type": "markdown",
      "metadata": {
        "id": "sXaAnUu8PUx4"
      },
      "source": [
        "There is a slight skewness to the right of the median. This implies that the mean of the data will be larger than median. https://www.dummies.com/education/math/statistics/how-to-identify-skew-and-symmetry-in-a-statistical-histogram/"
      ]
    },
    {
      "cell_type": "code",
      "metadata": {
        "colab": {
          "base_uri": "https://localhost:8080/",
          "height": 204
        },
        "id": "5wcPnoKNP8_7",
        "outputId": "4190ce13-3769-405c-e218-b1a71522785e"
      },
      "source": [
        "#To create a correlation table, I must include my y-output with my pandas dataset. \n",
        "Xdf['target'] = ys\n",
        "Xdf.head()"
      ],
      "execution_count": null,
      "outputs": [
        {
          "output_type": "execute_result",
          "data": {
            "text/html": [
              "<div>\n",
              "<style scoped>\n",
              "    .dataframe tbody tr th:only-of-type {\n",
              "        vertical-align: middle;\n",
              "    }\n",
              "\n",
              "    .dataframe tbody tr th {\n",
              "        vertical-align: top;\n",
              "    }\n",
              "\n",
              "    .dataframe thead th {\n",
              "        text-align: right;\n",
              "    }\n",
              "</style>\n",
              "<table border=\"1\" class=\"dataframe\">\n",
              "  <thead>\n",
              "    <tr style=\"text-align: right;\">\n",
              "      <th></th>\n",
              "      <th>age</th>\n",
              "      <th>sex</th>\n",
              "      <th>bmi</th>\n",
              "      <th>bp</th>\n",
              "      <th>s1</th>\n",
              "      <th>s2</th>\n",
              "      <th>s3</th>\n",
              "      <th>s4</th>\n",
              "      <th>s5</th>\n",
              "      <th>s6</th>\n",
              "      <th>target</th>\n",
              "    </tr>\n",
              "  </thead>\n",
              "  <tbody>\n",
              "    <tr>\n",
              "      <th>0</th>\n",
              "      <td>0.800500</td>\n",
              "      <td>1.065488</td>\n",
              "      <td>1.297088</td>\n",
              "      <td>0.459840</td>\n",
              "      <td>-0.929746</td>\n",
              "      <td>-0.732065</td>\n",
              "      <td>-0.912451</td>\n",
              "      <td>-0.054499</td>\n",
              "      <td>0.418551</td>\n",
              "      <td>-0.370989</td>\n",
              "      <td>151.0</td>\n",
              "    </tr>\n",
              "    <tr>\n",
              "      <th>1</th>\n",
              "      <td>-0.039567</td>\n",
              "      <td>-0.938537</td>\n",
              "      <td>-1.082180</td>\n",
              "      <td>-0.553511</td>\n",
              "      <td>-0.177624</td>\n",
              "      <td>-0.402886</td>\n",
              "      <td>1.564414</td>\n",
              "      <td>-0.830301</td>\n",
              "      <td>-1.436551</td>\n",
              "      <td>-1.938479</td>\n",
              "      <td>75.0</td>\n",
              "    </tr>\n",
              "    <tr>\n",
              "      <th>2</th>\n",
              "      <td>1.793307</td>\n",
              "      <td>1.065488</td>\n",
              "      <td>0.934533</td>\n",
              "      <td>-0.119218</td>\n",
              "      <td>-0.958674</td>\n",
              "      <td>-0.718897</td>\n",
              "      <td>-0.680245</td>\n",
              "      <td>-0.054499</td>\n",
              "      <td>0.060207</td>\n",
              "      <td>-0.545154</td>\n",
              "      <td>141.0</td>\n",
              "    </tr>\n",
              "    <tr>\n",
              "      <th>3</th>\n",
              "      <td>-1.872441</td>\n",
              "      <td>-0.938537</td>\n",
              "      <td>-0.243771</td>\n",
              "      <td>-0.770658</td>\n",
              "      <td>0.256292</td>\n",
              "      <td>0.525397</td>\n",
              "      <td>-0.757647</td>\n",
              "      <td>0.721302</td>\n",
              "      <td>0.477072</td>\n",
              "      <td>-0.196823</td>\n",
              "      <td>206.0</td>\n",
              "    </tr>\n",
              "    <tr>\n",
              "      <th>4</th>\n",
              "      <td>0.113172</td>\n",
              "      <td>-0.938537</td>\n",
              "      <td>-0.764944</td>\n",
              "      <td>0.459840</td>\n",
              "      <td>0.082726</td>\n",
              "      <td>0.327890</td>\n",
              "      <td>0.171178</td>\n",
              "      <td>-0.054499</td>\n",
              "      <td>-0.672582</td>\n",
              "      <td>-0.980568</td>\n",
              "      <td>135.0</td>\n",
              "    </tr>\n",
              "  </tbody>\n",
              "</table>\n",
              "</div>"
            ],
            "text/plain": [
              "        age       sex       bmi        bp  ...        s4        s5        s6  target\n",
              "0  0.800500  1.065488  1.297088  0.459840  ... -0.054499  0.418551 -0.370989   151.0\n",
              "1 -0.039567 -0.938537 -1.082180 -0.553511  ... -0.830301 -1.436551 -1.938479    75.0\n",
              "2  1.793307  1.065488  0.934533 -0.119218  ... -0.054499  0.060207 -0.545154   141.0\n",
              "3 -1.872441 -0.938537 -0.243771 -0.770658  ...  0.721302  0.477072 -0.196823   206.0\n",
              "4  0.113172 -0.938537 -0.764944  0.459840  ... -0.054499 -0.672582 -0.980568   135.0\n",
              "\n",
              "[5 rows x 11 columns]"
            ]
          },
          "metadata": {
            "tags": []
          },
          "execution_count": 9
        }
      ]
    },
    {
      "cell_type": "code",
      "metadata": {
        "colab": {
          "base_uri": "https://localhost:8080/",
          "height": 111
        },
        "id": "18vxztYLXZi3",
        "outputId": "7b2f2d20-c7be-46a9-a628-34579f6e30a5"
      },
      "source": [
        "#Create the correlation table\n",
        "Xdf[['bmi', 'target']].corr()"
      ],
      "execution_count": null,
      "outputs": [
        {
          "output_type": "execute_result",
          "data": {
            "text/html": [
              "<div>\n",
              "<style scoped>\n",
              "    .dataframe tbody tr th:only-of-type {\n",
              "        vertical-align: middle;\n",
              "    }\n",
              "\n",
              "    .dataframe tbody tr th {\n",
              "        vertical-align: top;\n",
              "    }\n",
              "\n",
              "    .dataframe thead th {\n",
              "        text-align: right;\n",
              "    }\n",
              "</style>\n",
              "<table border=\"1\" class=\"dataframe\">\n",
              "  <thead>\n",
              "    <tr style=\"text-align: right;\">\n",
              "      <th></th>\n",
              "      <th>bmi</th>\n",
              "      <th>target</th>\n",
              "    </tr>\n",
              "  </thead>\n",
              "  <tbody>\n",
              "    <tr>\n",
              "      <th>bmi</th>\n",
              "      <td>1.00000</td>\n",
              "      <td>0.58645</td>\n",
              "    </tr>\n",
              "    <tr>\n",
              "      <th>target</th>\n",
              "      <td>0.58645</td>\n",
              "      <td>1.00000</td>\n",
              "    </tr>\n",
              "  </tbody>\n",
              "</table>\n",
              "</div>"
            ],
            "text/plain": [
              "            bmi   target\n",
              "bmi     1.00000  0.58645\n",
              "target  0.58645  1.00000"
            ]
          },
          "metadata": {
            "tags": []
          },
          "execution_count": 10
        }
      ]
    },
    {
      "cell_type": "markdown",
      "metadata": {
        "id": "am3Rghz0Xrqn"
      },
      "source": [
        "As you can see, this is not the strongest correlation, rather it is a moderate one. https://www.westga.edu/academics/research/vrc/assets/docs/scatterplots_and_correlation_notes.pdf"
      ]
    },
    {
      "cell_type": "code",
      "metadata": {
        "colab": {
          "base_uri": "https://localhost:8080/",
          "height": 586
        },
        "id": "OCQi4GGmYIjJ",
        "outputId": "8b6151f5-ad0d-49c7-a7ab-d7d3a3a6870c"
      },
      "source": [
        "#Create a scatter plot to visualize the relationship between bmi and target\n",
        "sns.pairplot(Xdf, x_vars='bmi', y_vars='target', size=7, aspect=0.7)"
      ],
      "execution_count": null,
      "outputs": [
        {
          "output_type": "stream",
          "text": [
            "/usr/local/lib/python3.7/dist-packages/seaborn/axisgrid.py:1969: UserWarning: The `size` parameter has been renamed to `height`; please update your code.\n",
            "  warnings.warn(msg, UserWarning)\n"
          ],
          "name": "stderr"
        },
        {
          "output_type": "execute_result",
          "data": {
            "text/plain": [
              "<seaborn.axisgrid.PairGrid at 0x7fe6a7a14b10>"
            ]
          },
          "metadata": {
            "tags": []
          },
          "execution_count": 11
        },
        {
          "output_type": "display_data",
          "data": {
            "image/png": "[encoded data removed]",
            "text/plain": [
              "<Figure size 352.8x504 with 1 Axes>"
            ]
          },
          "metadata": {
            "tags": [],
            "needs_background": "light"
          }
        }
      ]
    },
    {
      "cell_type": "markdown",
      "metadata": {
        "id": "VFSqgItfcFil"
      },
      "source": [
        "Based on the output, I wonder if normalizing the values for BMI instead of using the actual values affects the value of correlation and outlook of the scatterplot. "
      ]
    },
    {
      "cell_type": "markdown",
      "metadata": {
        "id": "e6AvnrQfdsuz"
      },
      "source": [
        "#Model Building"
      ]
    },
    {
      "cell_type": "markdown",
      "metadata": {
        "id": "_8bn8vaWezrX"
      },
      "source": [
        "Most of these steps were taken from this useful webpage, https://www.ritchieng.com/machine-learning-evaluate-linear-regression-model/"
      ]
    },
    {
      "cell_type": "code",
      "metadata": {
        "colab": {
          "base_uri": "https://localhost:8080/"
        },
        "id": "-MiubO-ZdwlS",
        "outputId": "6237edff-1d64-4e0b-8f43-1136466b2e60"
      },
      "source": [
        "#create a fitted model\n",
        "lml = smf.ols(formula='target ~ bmi', data=Xdf).fit()\n",
        "\n",
        "#print the coefficients\n",
        "lml.params"
      ],
      "execution_count": null,
      "outputs": [
        {
          "output_type": "execute_result",
          "data": {
            "text/plain": [
              "Intercept    152.133484\n",
              "bmi           45.160030\n",
              "dtype: float64"
            ]
          },
          "metadata": {
            "tags": []
          },
          "execution_count": 12
        }
      ]
    },
    {
      "cell_type": "code",
      "metadata": {
        "colab": {
          "base_uri": "https://localhost:8080/"
        },
        "id": "Q7PTEekke7Ww",
        "outputId": "47568541-4b67-48c7-872c-7a98396213dd"
      },
      "source": [
        "#create X and Y\n",
        "#the bmi will be the independent variable while the target is the dependent variable\n",
        "X = np.array(Xdf['bmi'])\n",
        "y = np.array(ys)\n",
        "\n",
        "#instantiate and fit\n",
        "lm2 = LinearRegression()\n",
        "lm2.fit(X.reshape(-1, 1), y)\n",
        "\n",
        "#print the coefficients\n",
        "print(lm2.intercept_)\n",
        "print(lm2.coef_)"
      ],
      "execution_count": null,
      "outputs": [
        {
          "output_type": "stream",
          "text": [
            "152.13348416289594\n",
            "[45.16003002]\n"
          ],
          "name": "stdout"
        }
      ]
    },
    {
      "cell_type": "markdown",
      "metadata": {
        "id": "8M2klGUxODMJ"
      },
      "source": [
        "An increase in BMI is a increase in 45.16 unit increase in diabetes progression in one year.\n",
        "\n",
        "These values represent associations not causations. https://www.ritchieng.com/machine-learning-evaluate-linear-regression-model/\n"
      ]
    },
    {
      "cell_type": "code",
      "metadata": {
        "colab": {
          "base_uri": "https://localhost:8080/",
          "height": 586
        },
        "id": "ntbzsJlYObzn",
        "outputId": "c30f7bc4-cd3c-469b-911c-a84b0624a29a"
      },
      "source": [
        "sns.pairplot(Xdf, x_vars='bmi', y_vars='target', size=7, aspect=0.7, kind='reg')"
      ],
      "execution_count": null,
      "outputs": [
        {
          "output_type": "stream",
          "text": [
            "/usr/local/lib/python3.7/dist-packages/seaborn/axisgrid.py:1969: UserWarning: The `size` parameter has been renamed to `height`; please update your code.\n",
            "  warnings.warn(msg, UserWarning)\n"
          ],
          "name": "stderr"
        },
        {
          "output_type": "execute_result",
          "data": {
            "text/plain": [
              "<seaborn.axisgrid.PairGrid at 0x7fe69b3b7390>"
            ]
          },
          "metadata": {
            "tags": []
          },
          "execution_count": 31
        },
        {
          "output_type": "display_data",
          "data": {
            "image/png": "[encoded data removed]",
            "text/plain": [
              "<Figure size 352.8x504 with 1 Axes>"
            ]
          },
          "metadata": {
            "tags": [],
            "needs_background": "light"
          }
        }
      ]
    },
    {
      "cell_type": "code",
      "metadata": {
        "colab": {
          "base_uri": "https://localhost:8080/",
          "height": 111
        },
        "id": "c8BQ7K98PiJG",
        "outputId": "42a0bb85-b30f-4ed5-c21f-8731532ef55f"
      },
      "source": [
        "lml.conf_int()"
      ],
      "execution_count": null,
      "outputs": [
        {
          "output_type": "execute_result",
          "data": {
            "text/html": [
              "<div>\n",
              "<style scoped>\n",
              "    .dataframe tbody tr th:only-of-type {\n",
              "        vertical-align: middle;\n",
              "    }\n",
              "\n",
              "    .dataframe tbody tr th {\n",
              "        vertical-align: top;\n",
              "    }\n",
              "\n",
              "    .dataframe thead th {\n",
              "        text-align: right;\n",
              "    }\n",
              "</style>\n",
              "<table border=\"1\" class=\"dataframe\">\n",
              "  <thead>\n",
              "    <tr style=\"text-align: right;\">\n",
              "      <th></th>\n",
              "      <th>0</th>\n",
              "      <th>1</th>\n",
              "    </tr>\n",
              "  </thead>\n",
              "  <tbody>\n",
              "    <tr>\n",
              "      <th>Intercept</th>\n",
              "      <td>146.289375</td>\n",
              "      <td>157.977593</td>\n",
              "    </tr>\n",
              "    <tr>\n",
              "      <th>bmi</th>\n",
              "      <td>39.315921</td>\n",
              "      <td>51.004139</td>\n",
              "    </tr>\n",
              "  </tbody>\n",
              "</table>\n",
              "</div>"
            ],
            "text/plain": [
              "                    0           1\n",
              "Intercept  146.289375  157.977593\n",
              "bmi         39.315921   51.004139"
            ]
          },
          "metadata": {
            "tags": []
          },
          "execution_count": 32
        }
      ]
    },
    {
      "cell_type": "code",
      "metadata": {
        "id": "I7B52tctYDJv",
        "colab": {
          "base_uri": "https://localhost:8080/"
        },
        "outputId": "f177ffe9-632c-4a5f-d468-e7a8d07f324c"
      },
      "source": [
        "lml.pvalues"
      ],
      "execution_count": null,
      "outputs": [
        {
          "output_type": "execute_result",
          "data": {
            "text/plain": [
              "Intercept    2.452874e-187\n",
              "bmi           3.466006e-42\n",
              "dtype: float64"
            ]
          },
          "metadata": {
            "tags": []
          },
          "execution_count": 33
        }
      ]
    }
  ]
}