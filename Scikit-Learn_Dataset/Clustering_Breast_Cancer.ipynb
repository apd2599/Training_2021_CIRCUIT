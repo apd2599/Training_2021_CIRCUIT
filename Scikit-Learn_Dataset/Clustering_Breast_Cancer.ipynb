{
 "cells": [
  {
   "cell_type": "code",
   "execution_count": 1,
   "id": "52c2a97c",
   "metadata": {},
   "outputs": [],
   "source": [
    "#Import libraries\n",
    "import numpy as np\n",
    "import pandas as pd\n",
    "import matplotlib.pyplot as plt\n",
    "from sklearn import datasets\n",
    "from sklearn.cluster import KMeans\n",
    "from sklearn.preprocessing import StandardScaler\n",
    "from sklearn.decomposition import PCA"
   ]
  },
  {
   "cell_type": "code",
   "execution_count": 2,
   "id": "99f24bd9",
   "metadata": {},
   "outputs": [],
   "source": [
    "#import the dataset\n",
    "data = datasets.load_breast_cancer()"
   ]
  },
  {
   "cell_type": "code",
   "execution_count": 3,
   "id": "7b4c8adb",
   "metadata": {},
   "outputs": [],
   "source": [
    "#print(df['DESCR'])"
   ]
  },
  {
   "cell_type": "code",
   "execution_count": 4,
   "id": "19c57ccc",
   "metadata": {},
   "outputs": [],
   "source": [
    "data2 = datasets.load_breast_cancer(return_X_y=True)"
   ]
  },
  {
   "cell_type": "code",
   "execution_count": 5,
   "id": "211a17c5",
   "metadata": {},
   "outputs": [
    {
     "name": "stdout",
     "output_type": "stream",
     "text": [
      "(array([[1.799e+01, 1.038e+01, 1.228e+02, ..., 2.654e-01, 4.601e-01,\n",
      "        1.189e-01],\n",
      "       [2.057e+01, 1.777e+01, 1.329e+02, ..., 1.860e-01, 2.750e-01,\n",
      "        8.902e-02],\n",
      "       [1.969e+01, 2.125e+01, 1.300e+02, ..., 2.430e-01, 3.613e-01,\n",
      "        8.758e-02],\n",
      "       ...,\n",
      "       [1.660e+01, 2.808e+01, 1.083e+02, ..., 1.418e-01, 2.218e-01,\n",
      "        7.820e-02],\n",
      "       [2.060e+01, 2.933e+01, 1.401e+02, ..., 2.650e-01, 4.087e-01,\n",
      "        1.240e-01],\n",
      "       [7.760e+00, 2.454e+01, 4.792e+01, ..., 0.000e+00, 2.871e-01,\n",
      "        7.039e-02]]), array([0, 0, 0, 0, 0, 0, 0, 0, 0, 0, 0, 0, 0, 0, 0, 0, 0, 0, 0, 1, 1, 1,\n",
      "       0, 0, 0, 0, 0, 0, 0, 0, 0, 0, 0, 0, 0, 0, 0, 1, 0, 0, 0, 0, 0, 0,\n",
      "       0, 0, 1, 0, 1, 1, 1, 1, 1, 0, 0, 1, 0, 0, 1, 1, 1, 1, 0, 1, 0, 0,\n",
      "       1, 1, 1, 1, 0, 1, 0, 0, 1, 0, 1, 0, 0, 1, 1, 1, 0, 0, 1, 0, 0, 0,\n",
      "       1, 1, 1, 0, 1, 1, 0, 0, 1, 1, 1, 0, 0, 1, 1, 1, 1, 0, 1, 1, 0, 1,\n",
      "       1, 1, 1, 1, 1, 1, 1, 0, 0, 0, 1, 0, 0, 1, 1, 1, 0, 0, 1, 0, 1, 0,\n",
      "       0, 1, 0, 0, 1, 1, 0, 1, 1, 0, 1, 1, 1, 1, 0, 1, 1, 1, 1, 1, 1, 1,\n",
      "       1, 1, 0, 1, 1, 1, 1, 0, 0, 1, 0, 1, 1, 0, 0, 1, 1, 0, 0, 1, 1, 1,\n",
      "       1, 0, 1, 1, 0, 0, 0, 1, 0, 1, 0, 1, 1, 1, 0, 1, 1, 0, 0, 1, 0, 0,\n",
      "       0, 0, 1, 0, 0, 0, 1, 0, 1, 0, 1, 1, 0, 1, 0, 0, 0, 0, 1, 1, 0, 0,\n",
      "       1, 1, 1, 0, 1, 1, 1, 1, 1, 0, 0, 1, 1, 0, 1, 1, 0, 0, 1, 0, 1, 1,\n",
      "       1, 1, 0, 1, 1, 1, 1, 1, 0, 1, 0, 0, 0, 0, 0, 0, 0, 0, 0, 0, 0, 0,\n",
      "       0, 0, 1, 1, 1, 1, 1, 1, 0, 1, 0, 1, 1, 0, 1, 1, 0, 1, 0, 0, 1, 1,\n",
      "       1, 1, 1, 1, 1, 1, 1, 1, 1, 1, 1, 0, 1, 1, 0, 1, 0, 1, 1, 1, 1, 1,\n",
      "       1, 1, 1, 1, 1, 1, 1, 1, 1, 0, 1, 1, 1, 0, 1, 0, 1, 1, 1, 1, 0, 0,\n",
      "       0, 1, 1, 1, 1, 0, 1, 0, 1, 0, 1, 1, 1, 0, 1, 1, 1, 1, 1, 1, 1, 0,\n",
      "       0, 0, 1, 1, 1, 1, 1, 1, 1, 1, 1, 1, 1, 0, 0, 1, 0, 0, 0, 1, 0, 0,\n",
      "       1, 1, 1, 1, 1, 0, 1, 1, 1, 1, 1, 0, 1, 1, 1, 0, 1, 1, 0, 0, 1, 1,\n",
      "       1, 1, 1, 1, 0, 1, 1, 1, 1, 1, 1, 1, 0, 1, 1, 1, 1, 1, 0, 1, 1, 0,\n",
      "       1, 1, 1, 1, 1, 1, 1, 1, 1, 1, 1, 1, 0, 1, 0, 0, 1, 0, 1, 1, 1, 1,\n",
      "       1, 0, 1, 1, 0, 1, 0, 1, 1, 0, 1, 0, 1, 1, 1, 1, 1, 1, 1, 1, 0, 0,\n",
      "       1, 1, 1, 1, 1, 1, 0, 1, 1, 1, 1, 1, 1, 1, 1, 1, 1, 0, 1, 1, 1, 1,\n",
      "       1, 1, 1, 0, 1, 0, 1, 1, 0, 1, 1, 1, 1, 1, 0, 0, 1, 0, 1, 0, 1, 1,\n",
      "       1, 1, 1, 0, 1, 1, 0, 1, 0, 1, 0, 0, 1, 1, 1, 0, 1, 1, 1, 1, 1, 1,\n",
      "       1, 1, 1, 1, 1, 0, 1, 0, 0, 1, 1, 1, 1, 1, 1, 1, 1, 1, 1, 1, 1, 1,\n",
      "       1, 1, 1, 1, 1, 1, 1, 1, 1, 1, 1, 1, 0, 0, 0, 0, 0, 0, 1]))\n"
     ]
    }
   ],
   "source": [
    "print(data2)"
   ]
  },
  {
   "cell_type": "code",
   "execution_count": 6,
   "id": "bae0ea73",
   "metadata": {},
   "outputs": [],
   "source": [
    "data_ss = StandardScaler().fit_transform(data.data)\n",
    "df = pd.DataFrame(data_ss, columns=data.feature_names)\n",
    "y = pd.Series(data.target)"
   ]
  },
  {
   "cell_type": "code",
   "execution_count": 7,
   "id": "1091d5fa",
   "metadata": {},
   "outputs": [
    {
     "data": {
      "text/plain": [
       "Index(['mean radius', 'mean texture', 'mean perimeter', 'mean area',\n",
       "       'mean smoothness', 'mean compactness', 'mean concavity',\n",
       "       'mean concave points', 'mean symmetry', 'mean fractal dimension',\n",
       "       'radius error', 'texture error', 'perimeter error', 'area error',\n",
       "       'smoothness error', 'compactness error', 'concavity error',\n",
       "       'concave points error', 'symmetry error', 'fractal dimension error',\n",
       "       'worst radius', 'worst texture', 'worst perimeter', 'worst area',\n",
       "       'worst smoothness', 'worst compactness', 'worst concavity',\n",
       "       'worst concave points', 'worst symmetry', 'worst fractal dimension'],\n",
       "      dtype='object')"
      ]
     },
     "execution_count": 7,
     "metadata": {},
     "output_type": "execute_result"
    }
   ],
   "source": [
    "df.columns"
   ]
  },
  {
   "cell_type": "code",
   "execution_count": 8,
   "id": "7606f228",
   "metadata": {},
   "outputs": [
    {
     "data": {
      "text/html": [
       "<div>\n",
       "<style scoped>\n",
       "    .dataframe tbody tr th:only-of-type {\n",
       "        vertical-align: middle;\n",
       "    }\n",
       "\n",
       "    .dataframe tbody tr th {\n",
       "        vertical-align: top;\n",
       "    }\n",
       "\n",
       "    .dataframe thead th {\n",
       "        text-align: right;\n",
       "    }\n",
       "</style>\n",
       "<table border=\"1\" class=\"dataframe\">\n",
       "  <thead>\n",
       "    <tr style=\"text-align: right;\">\n",
       "      <th></th>\n",
       "      <th>mean radius</th>\n",
       "      <th>mean texture</th>\n",
       "      <th>mean perimeter</th>\n",
       "      <th>mean area</th>\n",
       "      <th>mean smoothness</th>\n",
       "      <th>mean compactness</th>\n",
       "      <th>mean concavity</th>\n",
       "      <th>mean concave points</th>\n",
       "      <th>mean symmetry</th>\n",
       "      <th>mean fractal dimension</th>\n",
       "      <th>...</th>\n",
       "      <th>worst radius</th>\n",
       "      <th>worst texture</th>\n",
       "      <th>worst perimeter</th>\n",
       "      <th>worst area</th>\n",
       "      <th>worst smoothness</th>\n",
       "      <th>worst compactness</th>\n",
       "      <th>worst concavity</th>\n",
       "      <th>worst concave points</th>\n",
       "      <th>worst symmetry</th>\n",
       "      <th>worst fractal dimension</th>\n",
       "    </tr>\n",
       "  </thead>\n",
       "  <tbody>\n",
       "    <tr>\n",
       "      <th>0</th>\n",
       "      <td>1.097064</td>\n",
       "      <td>-2.073335</td>\n",
       "      <td>1.269934</td>\n",
       "      <td>0.984375</td>\n",
       "      <td>1.568466</td>\n",
       "      <td>3.283515</td>\n",
       "      <td>2.652874</td>\n",
       "      <td>2.532475</td>\n",
       "      <td>2.217515</td>\n",
       "      <td>2.255747</td>\n",
       "      <td>...</td>\n",
       "      <td>1.886690</td>\n",
       "      <td>-1.359293</td>\n",
       "      <td>2.303601</td>\n",
       "      <td>2.001237</td>\n",
       "      <td>1.307686</td>\n",
       "      <td>2.616665</td>\n",
       "      <td>2.109526</td>\n",
       "      <td>2.296076</td>\n",
       "      <td>2.750622</td>\n",
       "      <td>1.937015</td>\n",
       "    </tr>\n",
       "    <tr>\n",
       "      <th>1</th>\n",
       "      <td>1.829821</td>\n",
       "      <td>-0.353632</td>\n",
       "      <td>1.685955</td>\n",
       "      <td>1.908708</td>\n",
       "      <td>-0.826962</td>\n",
       "      <td>-0.487072</td>\n",
       "      <td>-0.023846</td>\n",
       "      <td>0.548144</td>\n",
       "      <td>0.001392</td>\n",
       "      <td>-0.868652</td>\n",
       "      <td>...</td>\n",
       "      <td>1.805927</td>\n",
       "      <td>-0.369203</td>\n",
       "      <td>1.535126</td>\n",
       "      <td>1.890489</td>\n",
       "      <td>-0.375612</td>\n",
       "      <td>-0.430444</td>\n",
       "      <td>-0.146749</td>\n",
       "      <td>1.087084</td>\n",
       "      <td>-0.243890</td>\n",
       "      <td>0.281190</td>\n",
       "    </tr>\n",
       "    <tr>\n",
       "      <th>2</th>\n",
       "      <td>1.579888</td>\n",
       "      <td>0.456187</td>\n",
       "      <td>1.566503</td>\n",
       "      <td>1.558884</td>\n",
       "      <td>0.942210</td>\n",
       "      <td>1.052926</td>\n",
       "      <td>1.363478</td>\n",
       "      <td>2.037231</td>\n",
       "      <td>0.939685</td>\n",
       "      <td>-0.398008</td>\n",
       "      <td>...</td>\n",
       "      <td>1.511870</td>\n",
       "      <td>-0.023974</td>\n",
       "      <td>1.347475</td>\n",
       "      <td>1.456285</td>\n",
       "      <td>0.527407</td>\n",
       "      <td>1.082932</td>\n",
       "      <td>0.854974</td>\n",
       "      <td>1.955000</td>\n",
       "      <td>1.152255</td>\n",
       "      <td>0.201391</td>\n",
       "    </tr>\n",
       "    <tr>\n",
       "      <th>3</th>\n",
       "      <td>-0.768909</td>\n",
       "      <td>0.253732</td>\n",
       "      <td>-0.592687</td>\n",
       "      <td>-0.764464</td>\n",
       "      <td>3.283553</td>\n",
       "      <td>3.402909</td>\n",
       "      <td>1.915897</td>\n",
       "      <td>1.451707</td>\n",
       "      <td>2.867383</td>\n",
       "      <td>4.910919</td>\n",
       "      <td>...</td>\n",
       "      <td>-0.281464</td>\n",
       "      <td>0.133984</td>\n",
       "      <td>-0.249939</td>\n",
       "      <td>-0.550021</td>\n",
       "      <td>3.394275</td>\n",
       "      <td>3.893397</td>\n",
       "      <td>1.989588</td>\n",
       "      <td>2.175786</td>\n",
       "      <td>6.046041</td>\n",
       "      <td>4.935010</td>\n",
       "    </tr>\n",
       "    <tr>\n",
       "      <th>4</th>\n",
       "      <td>1.750297</td>\n",
       "      <td>-1.151816</td>\n",
       "      <td>1.776573</td>\n",
       "      <td>1.826229</td>\n",
       "      <td>0.280372</td>\n",
       "      <td>0.539340</td>\n",
       "      <td>1.371011</td>\n",
       "      <td>1.428493</td>\n",
       "      <td>-0.009560</td>\n",
       "      <td>-0.562450</td>\n",
       "      <td>...</td>\n",
       "      <td>1.298575</td>\n",
       "      <td>-1.466770</td>\n",
       "      <td>1.338539</td>\n",
       "      <td>1.220724</td>\n",
       "      <td>0.220556</td>\n",
       "      <td>-0.313395</td>\n",
       "      <td>0.613179</td>\n",
       "      <td>0.729259</td>\n",
       "      <td>-0.868353</td>\n",
       "      <td>-0.397100</td>\n",
       "    </tr>\n",
       "    <tr>\n",
       "      <th>5</th>\n",
       "      <td>-0.476375</td>\n",
       "      <td>-0.835335</td>\n",
       "      <td>-0.387148</td>\n",
       "      <td>-0.505650</td>\n",
       "      <td>2.237421</td>\n",
       "      <td>1.244335</td>\n",
       "      <td>0.866302</td>\n",
       "      <td>0.824656</td>\n",
       "      <td>1.005402</td>\n",
       "      <td>1.890005</td>\n",
       "      <td>...</td>\n",
       "      <td>-0.165498</td>\n",
       "      <td>-0.313836</td>\n",
       "      <td>-0.115009</td>\n",
       "      <td>-0.244320</td>\n",
       "      <td>2.048513</td>\n",
       "      <td>1.721616</td>\n",
       "      <td>1.263243</td>\n",
       "      <td>0.905888</td>\n",
       "      <td>1.754069</td>\n",
       "      <td>2.241802</td>\n",
       "    </tr>\n",
       "    <tr>\n",
       "      <th>6</th>\n",
       "      <td>1.170908</td>\n",
       "      <td>0.160649</td>\n",
       "      <td>1.138125</td>\n",
       "      <td>1.095295</td>\n",
       "      <td>-0.123136</td>\n",
       "      <td>0.088295</td>\n",
       "      <td>0.300072</td>\n",
       "      <td>0.646935</td>\n",
       "      <td>-0.064325</td>\n",
       "      <td>-0.762332</td>\n",
       "      <td>...</td>\n",
       "      <td>1.368983</td>\n",
       "      <td>0.322883</td>\n",
       "      <td>1.368325</td>\n",
       "      <td>1.275220</td>\n",
       "      <td>0.518640</td>\n",
       "      <td>0.021215</td>\n",
       "      <td>0.509552</td>\n",
       "      <td>1.196716</td>\n",
       "      <td>0.262476</td>\n",
       "      <td>-0.014730</td>\n",
       "    </tr>\n",
       "    <tr>\n",
       "      <th>7</th>\n",
       "      <td>-0.118517</td>\n",
       "      <td>0.358450</td>\n",
       "      <td>-0.072867</td>\n",
       "      <td>-0.218965</td>\n",
       "      <td>1.604049</td>\n",
       "      <td>1.140102</td>\n",
       "      <td>0.061026</td>\n",
       "      <td>0.281950</td>\n",
       "      <td>1.403355</td>\n",
       "      <td>1.660353</td>\n",
       "      <td>...</td>\n",
       "      <td>0.163763</td>\n",
       "      <td>0.401048</td>\n",
       "      <td>0.099449</td>\n",
       "      <td>0.028859</td>\n",
       "      <td>1.447961</td>\n",
       "      <td>0.724786</td>\n",
       "      <td>-0.021054</td>\n",
       "      <td>0.624196</td>\n",
       "      <td>0.477640</td>\n",
       "      <td>1.726435</td>\n",
       "    </tr>\n",
       "    <tr>\n",
       "      <th>8</th>\n",
       "      <td>-0.320167</td>\n",
       "      <td>0.588830</td>\n",
       "      <td>-0.184080</td>\n",
       "      <td>-0.384207</td>\n",
       "      <td>2.201839</td>\n",
       "      <td>1.684010</td>\n",
       "      <td>1.219096</td>\n",
       "      <td>1.150692</td>\n",
       "      <td>1.965600</td>\n",
       "      <td>1.572462</td>\n",
       "      <td>...</td>\n",
       "      <td>-0.161357</td>\n",
       "      <td>0.822813</td>\n",
       "      <td>-0.031609</td>\n",
       "      <td>-0.248363</td>\n",
       "      <td>1.662757</td>\n",
       "      <td>1.818310</td>\n",
       "      <td>1.280035</td>\n",
       "      <td>1.391616</td>\n",
       "      <td>2.389857</td>\n",
       "      <td>1.288650</td>\n",
       "    </tr>\n",
       "    <tr>\n",
       "      <th>9</th>\n",
       "      <td>-0.473535</td>\n",
       "      <td>1.105439</td>\n",
       "      <td>-0.329482</td>\n",
       "      <td>-0.509063</td>\n",
       "      <td>1.582699</td>\n",
       "      <td>2.563358</td>\n",
       "      <td>1.738872</td>\n",
       "      <td>0.941760</td>\n",
       "      <td>0.797298</td>\n",
       "      <td>2.783096</td>\n",
       "      <td>...</td>\n",
       "      <td>-0.244190</td>\n",
       "      <td>2.443109</td>\n",
       "      <td>-0.286278</td>\n",
       "      <td>-0.297409</td>\n",
       "      <td>2.320295</td>\n",
       "      <td>5.112877</td>\n",
       "      <td>3.995433</td>\n",
       "      <td>1.620015</td>\n",
       "      <td>2.370444</td>\n",
       "      <td>6.846856</td>\n",
       "    </tr>\n",
       "  </tbody>\n",
       "</table>\n",
       "<p>10 rows × 30 columns</p>\n",
       "</div>"
      ],
      "text/plain": [
       "   mean radius  mean texture  mean perimeter  mean area  mean smoothness  \\\n",
       "0     1.097064     -2.073335        1.269934   0.984375         1.568466   \n",
       "1     1.829821     -0.353632        1.685955   1.908708        -0.826962   \n",
       "2     1.579888      0.456187        1.566503   1.558884         0.942210   \n",
       "3    -0.768909      0.253732       -0.592687  -0.764464         3.283553   \n",
       "4     1.750297     -1.151816        1.776573   1.826229         0.280372   \n",
       "5    -0.476375     -0.835335       -0.387148  -0.505650         2.237421   \n",
       "6     1.170908      0.160649        1.138125   1.095295        -0.123136   \n",
       "7    -0.118517      0.358450       -0.072867  -0.218965         1.604049   \n",
       "8    -0.320167      0.588830       -0.184080  -0.384207         2.201839   \n",
       "9    -0.473535      1.105439       -0.329482  -0.509063         1.582699   \n",
       "\n",
       "   mean compactness  mean concavity  mean concave points  mean symmetry  \\\n",
       "0          3.283515        2.652874             2.532475       2.217515   \n",
       "1         -0.487072       -0.023846             0.548144       0.001392   \n",
       "2          1.052926        1.363478             2.037231       0.939685   \n",
       "3          3.402909        1.915897             1.451707       2.867383   \n",
       "4          0.539340        1.371011             1.428493      -0.009560   \n",
       "5          1.244335        0.866302             0.824656       1.005402   \n",
       "6          0.088295        0.300072             0.646935      -0.064325   \n",
       "7          1.140102        0.061026             0.281950       1.403355   \n",
       "8          1.684010        1.219096             1.150692       1.965600   \n",
       "9          2.563358        1.738872             0.941760       0.797298   \n",
       "\n",
       "   mean fractal dimension  ...  worst radius  worst texture  worst perimeter  \\\n",
       "0                2.255747  ...      1.886690      -1.359293         2.303601   \n",
       "1               -0.868652  ...      1.805927      -0.369203         1.535126   \n",
       "2               -0.398008  ...      1.511870      -0.023974         1.347475   \n",
       "3                4.910919  ...     -0.281464       0.133984        -0.249939   \n",
       "4               -0.562450  ...      1.298575      -1.466770         1.338539   \n",
       "5                1.890005  ...     -0.165498      -0.313836        -0.115009   \n",
       "6               -0.762332  ...      1.368983       0.322883         1.368325   \n",
       "7                1.660353  ...      0.163763       0.401048         0.099449   \n",
       "8                1.572462  ...     -0.161357       0.822813        -0.031609   \n",
       "9                2.783096  ...     -0.244190       2.443109        -0.286278   \n",
       "\n",
       "   worst area  worst smoothness  worst compactness  worst concavity  \\\n",
       "0    2.001237          1.307686           2.616665         2.109526   \n",
       "1    1.890489         -0.375612          -0.430444        -0.146749   \n",
       "2    1.456285          0.527407           1.082932         0.854974   \n",
       "3   -0.550021          3.394275           3.893397         1.989588   \n",
       "4    1.220724          0.220556          -0.313395         0.613179   \n",
       "5   -0.244320          2.048513           1.721616         1.263243   \n",
       "6    1.275220          0.518640           0.021215         0.509552   \n",
       "7    0.028859          1.447961           0.724786        -0.021054   \n",
       "8   -0.248363          1.662757           1.818310         1.280035   \n",
       "9   -0.297409          2.320295           5.112877         3.995433   \n",
       "\n",
       "   worst concave points  worst symmetry  worst fractal dimension  \n",
       "0              2.296076        2.750622                 1.937015  \n",
       "1              1.087084       -0.243890                 0.281190  \n",
       "2              1.955000        1.152255                 0.201391  \n",
       "3              2.175786        6.046041                 4.935010  \n",
       "4              0.729259       -0.868353                -0.397100  \n",
       "5              0.905888        1.754069                 2.241802  \n",
       "6              1.196716        0.262476                -0.014730  \n",
       "7              0.624196        0.477640                 1.726435  \n",
       "8              1.391616        2.389857                 1.288650  \n",
       "9              1.620015        2.370444                 6.846856  \n",
       "\n",
       "[10 rows x 30 columns]"
      ]
     },
     "execution_count": 8,
     "metadata": {},
     "output_type": "execute_result"
    }
   ],
   "source": [
    "df.head(10)"
   ]
  },
  {
   "cell_type": "code",
   "execution_count": 9,
   "id": "403c819f",
   "metadata": {},
   "outputs": [],
   "source": [
    "x = df.iloc[:, [0,1,2,3]].values"
   ]
  },
  {
   "cell_type": "code",
   "execution_count": 10,
   "id": "a1d86201",
   "metadata": {},
   "outputs": [
    {
     "name": "stdout",
     "output_type": "stream",
     "text": [
      "[0 2 2 3 2 0 2 1 1 1 1 0 2 1 1 1 0 2 2 0 0 3 0 2 2 2 1 2 1 2 2 3 2 2 0 2 1\n",
      " 0 1 1 1 3 2 0 1 2 3 0 3 1 1 0 3 2 1 3 2 1 0 3 3 3 1 3 1 1 3 3 3 0 2 3 2 0\n",
      " 3 0 0 2 2 0 3 0 4 2 3 2 1 2 1 0 1 1 0 0 0 2 3 3 3 0 1 3 3 3 3 0 3 3 4 3 3\n",
      " 1 0 3 3 1 3 0 1 2 3 2 4 0 0 0 1 2 0 2 3 0 2 0 2 1 3 3 0 3 3 0 3 0 3 3 3 0\n",
      " 0 0 1 3 3 3 0 3 2 2 3 3 3 2 2 1 4 0 3 2 2 0 0 0 0 3 3 3 3 2 1 0 4 2 0 3 1\n",
      " 3 2 3 3 3 1 1 3 1 1 0 1 2 2 0 3 2 4 1 3 0 3 2 1 0 2 3 4 2 1 0 3 3 2 2 0 0\n",
      " 3 0 0 0 3 0 1 1 2 1 1 2 3 1 4 2 1 1 0 3 3 1 2 3 0 0 1 3 2 3 2 2 2 0 2 0 1\n",
      " 1 2 2 2 0 2 2 3 1 0 3 0 3 4 3 2 3 3 2 0 0 2 3 2 0 0 3 3 0 3 3 0 0 0 3 0 0\n",
      " 3 3 0 3 2 3 2 3 3 1 0 3 0 0 3 0 0 3 3 3 3 2 3 3 3 2 0 2 3 0 0 3 2 2 0 0 3\n",
      " 3 3 2 0 2 3 4 0 3 3 2 3 3 3 0 3 3 3 0 4 1 3 3 0 0 3 3 3 1 0 0 0 2 2 3 4 4\n",
      " 2 0 2 2 0 0 3 1 0 3 3 3 1 3 0 1 3 0 3 2 3 3 0 4 3 0 0 0 3 3 2 3 0 0 3 3 0\n",
      " 1 2 3 3 3 3 1 1 3 3 1 0 3 3 0 3 0 3 3 3 3 3 0 1 3 2 2 0 0 0 0 0 0 3 2 0 3\n",
      " 2 1 2 0 0 2 1 2 1 0 0 1 1 1 1 1 2 4 1 3 0 0 1 3 2 3 3 1 0 1 3 0 0 0 3 2 3\n",
      " 0 0 0 0 0 0 2 3 2 1 0 2 0 1 0 0 3 2 2 0 1 0 4 3 3 3 3 0 1 3 0 1 0 0 3 2 2\n",
      " 0 0 3 4 3 0 3 3 0 0 0 3 3 3 0 2 3 2 1 1 3 3 3 1 1 1 1 1 3 3 3 1 3 1 1 3 1\n",
      " 1 3 1 1 1 1 1 1 2 4 2 1 2 3]\n"
     ]
    },
    {
     "data": {
      "text/plain": [
       "array([[-0.02451546, -0.65060546, -0.03995747, -0.12472723],\n",
       "       [-0.18479233,  1.19245274, -0.17380706, -0.24579986],\n",
       "       [ 1.3208359 ,  0.57117396,  1.31346682,  1.27174669],\n",
       "       [-0.92048889, -0.50980864, -0.91277045, -0.81816381],\n",
       "       [ 2.77022317,  0.61830596,  2.80495515,  3.21320332]])"
      ]
     },
     "execution_count": 10,
     "metadata": {},
     "output_type": "execute_result"
    }
   ],
   "source": [
    "kmeans5 = KMeans(n_clusters=5)\n",
    "y_kmeans5 = kmeans5.fit_predict(x)\n",
    "print(y_kmeans5)\n",
    "\n",
    "kmeans5.cluster_centers_"
   ]
  },
  {
   "cell_type": "markdown",
   "id": "72ae1275",
   "metadata": {},
   "source": [
    "# Elbow Method"
   ]
  },
  {
   "cell_type": "markdown",
   "id": "267e2994",
   "metadata": {},
   "source": [
    "Got the implementation from this website: https://heartbeat.fritz.ai/k-means-clustering-using-sklearn-and-python-4a054d67b187"
   ]
  },
  {
   "cell_type": "code",
   "execution_count": 11,
   "id": "046f5b57",
   "metadata": {},
   "outputs": [
    {
     "data": {
      "image/png": "[encoded data removed]",
      "text/plain": [
       "<Figure size 432x288 with 1 Axes>"
      ]
     },
     "metadata": {
      "needs_background": "light"
     },
     "output_type": "display_data"
    }
   ],
   "source": [
    "Error = []\n",
    "for i in range(1, 11):\n",
    "    kmeans = KMeans(n_clusters=1).fit(x)\n",
    "    kmeans.fit(x)\n",
    "    Error.append(kmeans.inertia_)\n",
    "plt.plot(range(1, 11), Error)\n",
    "plt.title('Elbow Method')\n",
    "plt.xlabel('No of clusters')\n",
    "plt.ylabel('Error')\n",
    "plt.show()"
   ]
  },
  {
   "cell_type": "markdown",
   "id": "5b1271b1",
   "metadata": {},
   "source": [
    "This obviously shows that the number of clusters chosen was not right. There needs to be a graph that shows a steep decline to determine the right number of clusters"
   ]
  },
  {
   "cell_type": "markdown",
   "id": "04b12799",
   "metadata": {},
   "source": [
    "## Second Approach with all features"
   ]
  },
  {
   "cell_type": "code",
   "execution_count": 12,
   "id": "88c7f5d4",
   "metadata": {},
   "outputs": [
    {
     "name": "stdout",
     "output_type": "stream",
     "text": [
      "[0 4 4 2 4 2 4 2 2 2 1 4 0 4 2 2 4 2 4 1 1 3 2 4 4 0 2 4 2 4 0 2 4 4 2 4 2\n",
      " 1 1 2 1 3 0 2 1 4 3 2 1 1 1 1 1 4 1 1 4 2 1 3 3 3 2 3 2 2 3 1 2 1 4 3 2 1\n",
      " 1 4 3 0 0 1 3 2 0 4 1 4 3 4 3 3 1 1 1 1 4 4 1 3 1 3 1 3 1 3 3 2 3 1 0 3 3\n",
      " 3 2 3 3 1 3 2 2 4 1 4 0 1 1 1 1 4 3 4 3 4 4 1 4 1 1 1 4 3 1 4 3 1 1 3 2 3\n",
      " 1 1 3 2 2 1 3 1 4 1 1 1 3 4 4 3 4 1 1 4 4 1 1 1 2 3 1 1 2 2 1 1 0 0 4 1 1\n",
      " 3 4 1 1 1 2 1 1 2 2 1 2 4 4 2 3 4 0 2 3 1 3 4 2 1 4 1 0 3 2 2 3 3 4 4 1 1\n",
      " 3 4 1 1 1 1 1 2 4 1 1 4 3 1 0 4 1 4 1 1 2 1 4 3 1 2 3 1 0 1 0 4 4 3 0 2 0\n",
      " 2 4 1 4 1 4 0 3 1 1 3 1 1 0 3 4 3 1 4 1 1 4 1 4 2 1 1 3 1 3 1 2 1 3 1 1 1\n",
      " 1 1 1 3 0 1 0 3 1 1 1 1 1 1 1 1 1 1 3 1 1 4 2 1 3 4 1 0 1 1 1 1 4 4 4 3 3\n",
      " 1 1 4 1 4 3 0 1 3 3 4 3 3 1 1 1 3 1 2 0 4 1 3 3 1 3 3 1 1 1 1 1 4 0 1 4 0\n",
      " 2 1 4 4 1 1 2 1 1 2 3 1 1 3 1 1 1 1 3 4 1 3 2 0 3 1 1 1 1 1 2 1 1 1 1 3 1\n",
      " 1 4 1 1 1 1 1 1 3 3 0 1 1 3 2 3 1 3 1 3 1 1 1 2 3 4 4 1 2 1 1 1 1 3 4 1 3\n",
      " 4 3 4 1 1 4 3 4 1 1 1 1 3 1 1 1 4 0 1 1 1 2 1 3 0 3 3 1 1 1 3 1 1 1 3 2 1\n",
      " 1 1 1 1 2 1 4 3 1 1 1 4 1 1 1 3 1 4 4 1 2 3 0 2 2 3 3 1 2 3 1 2 1 1 3 4 4\n",
      " 3 3 3 0 1 3 3 3 1 1 3 1 3 1 1 4 3 4 3 3 3 3 3 2 1 1 1 1 1 3 1 3 1 3 1 3 1\n",
      " 3 3 3 1 3 3 1 2 0 0 4 4 0 1]\n"
     ]
    },
    {
     "data": {
      "text/plain": [
       "array([[ 2.03323618,  0.79637901,  2.11978771,  2.21216632,  0.89097132,\n",
       "         1.97017715,  2.16770918,  2.29850288,  1.08730134,  0.44048573,\n",
       "         2.43894161,  0.26088418,  2.54672924,  2.46878691,  0.12037227,\n",
       "         1.22710599,  0.97198692,  1.27870725,  0.56054421,  0.63374026,\n",
       "         2.11722285,  0.58968264,  2.22382288,  2.26915289,  0.49707771,\n",
       "         1.36061575,  1.4620422 ,  1.80705543,  0.6582635 ,  0.63796301],\n",
       "       [-0.3330611 , -0.28216236, -0.36771659, -0.36904821, -0.64517329,\n",
       "        -0.7025113 , -0.66479859, -0.64693769, -0.56173523, -0.49979188,\n",
       "        -0.49284806, -0.24720226, -0.50311181, -0.41082435, -0.46626049,\n",
       "        -0.59038247, -0.48028795, -0.60112935, -0.30670229, -0.50083571,\n",
       "        -0.40134799, -0.29010185, -0.43168504, -0.42140647, -0.62508384,\n",
       "        -0.58959286, -0.60202362, -0.62499615, -0.40335565, -0.55666947],\n",
       "       [-0.13134205,  0.26609881, -0.04434557, -0.19104801,  0.93452457,\n",
       "         1.27322296,  1.0413161 ,  0.64943344,  0.93733778,  1.39449167,\n",
       "        -0.07739404,  0.01427008,  0.01335065, -0.15974107,  0.15572287,\n",
       "         1.16455459,  1.034428  ,  0.72603054,  0.33712767,  1.09232897,\n",
       "        -0.01109751,  0.48379582,  0.09101068, -0.09761737,  1.09960356,\n",
       "         1.53894438,  1.41553715,  0.96420348,  1.1375332 ,  1.77166173],\n",
       "       [-0.84273935, -0.20914946, -0.82358295, -0.75590191,  0.35527203,\n",
       "        -0.19624833, -0.4484368 , -0.51425674,  0.16428285,  0.55952126,\n",
       "        -0.30837399,  0.44536513, -0.29397691, -0.40078347,  0.92644726,\n",
       "         0.09664359, -0.0377965 ,  0.03089363,  0.37488099,  0.30673465,\n",
       "        -0.81937045, -0.25723183, -0.79930216, -0.71876257,  0.2411906 ,\n",
       "        -0.3519344 , -0.48340348, -0.57326408, -0.20855734,  0.03899626],\n",
       "       [ 1.22929162,  0.47185267,  1.19455562,  1.18126304,  0.12422605,\n",
       "         0.32073807,  0.6444216 ,  0.91796072,  0.08698252, -0.6587886 ,\n",
       "         0.74234048, -0.0721002 ,  0.64258165,  0.70652102, -0.19853367,\n",
       "         0.02772786,  0.11979582,  0.4358251 , -0.18134686, -0.18611009,\n",
       "         1.24932376,  0.4752006 ,  1.18417512,  1.17378798,  0.25265127,\n",
       "         0.28273398,  0.53327774,  0.90001848,  0.19476237, -0.19479189]])"
      ]
     },
     "execution_count": 12,
     "metadata": {},
     "output_type": "execute_result"
    }
   ],
   "source": [
    "kmeans5_2 = KMeans(n_clusters=5)\n",
    "y_kmeans5_2 = kmeans5.fit_predict(df)\n",
    "print(y_kmeans5_2)\n",
    "\n",
    "kmeans5.cluster_centers_"
   ]
  },
  {
   "cell_type": "code",
   "execution_count": 13,
   "id": "40d7fbd9",
   "metadata": {},
   "outputs": [
    {
     "data": {
      "image/png": "[encoded data removed]",
      "text/plain": [
       "<Figure size 432x288 with 1 Axes>"
      ]
     },
     "metadata": {
      "needs_background": "light"
     },
     "output_type": "display_data"
    }
   ],
   "source": [
    "Error = []\n",
    "for i in range(1, 11):\n",
    "    kmeans = KMeans(n_clusters=1).fit(x)\n",
    "    kmeans.fit(x)\n",
    "    Error.append(kmeans.inertia_)\n",
    "plt.plot(range(1, 11), Error)\n",
    "plt.title('Elbow Method')\n",
    "plt.xlabel('No of clusters')\n",
    "plt.ylabel('Error')\n",
    "plt.show()"
   ]
  },
  {
   "cell_type": "markdown",
   "id": "50f42a73",
   "metadata": {},
   "source": [
    "Same error. Time to choose a different value for cluster"
   ]
  },
  {
   "cell_type": "markdown",
   "id": "e776a6bd",
   "metadata": {},
   "source": [
    "## Third approach with 3 cluster"
   ]
  },
  {
   "cell_type": "code",
   "execution_count": 14,
   "id": "55baa001",
   "metadata": {},
   "outputs": [
    {
     "name": "stdout",
     "output_type": "stream",
     "text": [
      "[0 0 0 2 0 2 0 2 2 2 1 2 0 1 2 2 1 2 0 1 1 1 2 0 0 0 2 0 2 0 0 2 0 0 2 2 2\n",
      " 1 1 2 1 2 0 2 1 0 1 2 1 1 1 1 1 0 1 1 0 2 1 1 1 1 2 1 2 2 1 1 2 1 0 2 2 1\n",
      " 1 0 1 0 0 1 1 2 0 0 1 0 1 0 1 2 1 1 1 1 2 0 1 1 1 2 1 1 1 1 1 2 1 1 0 1 1\n",
      " 2 2 1 1 1 1 2 2 1 1 0 0 1 1 1 1 0 2 0 1 1 1 1 0 1 1 1 0 1 1 1 1 1 1 2 2 1\n",
      " 1 1 1 2 2 1 1 1 0 1 1 1 1 0 0 1 0 1 1 1 0 1 1 1 2 1 1 1 2 2 1 1 0 0 1 1 1\n",
      " 1 1 1 1 1 2 1 1 2 2 1 2 0 0 2 1 0 0 2 1 1 1 1 2 1 0 1 0 2 2 2 2 1 0 0 1 1\n",
      " 1 2 1 1 1 1 1 2 2 1 1 0 1 1 0 0 1 0 1 1 2 1 0 1 1 2 1 1 0 1 0 1 0 1 0 2 0\n",
      " 2 0 1 0 1 0 0 1 1 1 2 1 1 0 1 1 1 1 1 1 1 0 1 0 2 1 1 1 1 2 1 2 1 1 1 1 1\n",
      " 1 1 1 1 0 1 0 1 1 1 1 1 1 1 1 1 1 1 1 1 1 0 2 1 1 0 1 0 1 1 1 1 2 2 2 1 1\n",
      " 1 1 0 1 0 1 0 1 1 1 0 1 1 1 1 1 1 1 2 0 2 1 1 2 1 1 1 1 1 1 1 1 0 0 1 0 0\n",
      " 2 1 0 0 1 1 2 1 1 2 1 1 1 2 1 1 1 1 2 0 1 1 2 0 1 1 1 1 1 1 2 1 1 1 1 1 1\n",
      " 1 0 1 1 1 1 1 1 1 1 0 1 1 1 2 1 1 1 1 1 1 1 1 2 1 0 0 1 2 1 1 1 1 2 0 1 1\n",
      " 1 1 0 1 1 0 1 0 1 1 1 1 1 1 1 1 0 0 1 1 1 2 1 1 0 2 1 1 1 1 1 1 1 1 1 2 1\n",
      " 1 1 1 1 2 1 0 1 1 1 1 0 1 1 1 2 1 0 0 1 2 1 0 2 2 1 2 1 2 1 1 2 1 1 1 0 0\n",
      " 1 1 2 0 1 1 1 1 1 1 1 1 1 1 1 0 1 0 1 2 1 2 1 2 1 1 1 1 1 1 1 1 1 1 1 1 1\n",
      " 1 1 1 1 1 1 1 2 0 0 0 1 0 1]\n"
     ]
    }
   ],
   "source": [
    "kmeans3 = KMeans(n_clusters=3)\n",
    "y_kmeans3 = kmeans3.fit_predict(df)\n",
    "print(y_kmeans3)\n",
    "\n"
   ]
  },
  {
   "cell_type": "code",
   "execution_count": 15,
   "id": "f6e9a1b7",
   "metadata": {},
   "outputs": [
    {
     "data": {
      "image/png": "[encoded data removed]",
      "text/plain": [
       "<Figure size 432x288 with 1 Axes>"
      ]
     },
     "metadata": {
      "needs_background": "light"
     },
     "output_type": "display_data"
    }
   ],
   "source": [
    "Error = []\n",
    "for i in range(1, 11):\n",
    "    kmeans = KMeans(n_clusters=i).fit(x)\n",
    "    kmeans.fit(x)\n",
    "    Error.append(kmeans.inertia_)\n",
    "plt.plot(range(1, 11), Error)\n",
    "plt.title('Elbow Method')\n",
    "plt.xlabel('No of clusters')\n",
    "plt.ylabel('Error')\n",
    "plt.show()"
   ]
  },
  {
   "cell_type": "markdown",
   "id": "d99d9043",
   "metadata": {},
   "source": [
    "The previous datasets were wrong for a personal error in keeping cluster at 1 and not changing iteratively\n"
   ]
  },
  {
   "cell_type": "markdown",
   "id": "79e4d39b",
   "metadata": {},
   "source": [
    "It looks like there is the elbow steep at 3 clusters meaning that we chose correctly"
   ]
  },
  {
   "cell_type": "markdown",
   "id": "b9076f6c",
   "metadata": {},
   "source": [
    "# Visualizing the Clustering"
   ]
  },
  {
   "cell_type": "code",
   "execution_count": 16,
   "id": "1c19e7ac",
   "metadata": {},
   "outputs": [
    {
     "data": {
      "text/plain": [
       "<matplotlib.collections.PathCollection at 0x1a16a6aad0>"
      ]
     },
     "execution_count": 16,
     "metadata": {},
     "output_type": "execute_result"
    },
    {
     "data": {
      "image/png": "[encoded data removed]",
      "text/plain": [
       "<Figure size 432x288 with 1 Axes>"
      ]
     },
     "metadata": {
      "needs_background": "light"
     },
     "output_type": "display_data"
    }
   ],
   "source": [
    "plt.scatter(df.iloc[:, 0], df.iloc[:, 1], c=y_kmeans3, cmap='rainbow')"
   ]
  },
  {
   "cell_type": "markdown",
   "id": "fef6ea45",
   "metadata": {},
   "source": [
    "It appears that the purple and red cluster interchange many points so it might be better to have two clusters."
   ]
  },
  {
   "cell_type": "markdown",
   "id": "271b03e6",
   "metadata": {},
   "source": [
    "# Attempt with two clusters"
   ]
  },
  {
   "cell_type": "code",
   "execution_count": 17,
   "id": "7ec1d550",
   "metadata": {},
   "outputs": [
    {
     "name": "stdout",
     "output_type": "stream",
     "text": [
      "[0 0 0 0 0 0 0 0 0 0 1 0 0 1 0 0 1 0 0 1 1 1 0 0 0 0 0 0 0 0 0 0 0 0 0 0 0\n",
      " 1 1 1 1 1 0 0 1 0 1 0 1 1 1 1 1 0 1 1 0 0 1 1 1 1 0 1 0 0 1 1 0 1 0 1 0 1\n",
      " 1 0 1 0 0 1 1 0 0 0 1 0 1 0 1 0 1 1 1 1 0 0 1 1 1 1 1 1 1 1 1 0 1 1 0 1 1\n",
      " 1 0 1 1 1 1 0 0 1 1 0 0 1 1 1 1 0 0 0 1 0 0 1 0 1 1 1 0 1 1 0 1 1 1 1 0 1\n",
      " 1 1 1 1 0 1 1 1 0 1 1 1 1 0 0 1 0 1 1 0 0 1 1 1 0 1 1 1 0 0 1 1 0 0 1 1 1\n",
      " 1 1 1 1 1 0 1 1 0 0 1 0 0 0 0 1 0 0 0 1 1 1 1 1 1 0 1 0 0 0 0 1 1 0 0 1 1\n",
      " 1 0 1 1 1 1 1 0 0 1 1 0 1 1 0 0 1 0 1 1 0 1 0 1 1 0 1 1 0 1 0 0 0 1 0 0 0\n",
      " 0 0 1 0 1 0 0 1 1 1 1 1 1 0 1 1 1 1 1 1 1 0 1 0 0 1 1 1 1 1 1 0 1 1 1 1 1\n",
      " 1 1 1 1 0 1 0 1 1 1 1 1 1 1 1 1 1 1 1 1 1 0 0 1 1 0 1 0 1 1 1 1 0 0 0 1 1\n",
      " 1 1 0 1 0 1 0 1 1 1 0 1 1 1 1 1 1 1 0 0 0 1 1 1 1 1 1 1 1 1 1 1 0 0 1 0 0\n",
      " 0 1 0 0 1 1 0 1 1 0 1 1 1 1 1 1 1 1 1 0 1 1 0 0 1 1 1 1 1 1 0 1 1 1 1 1 1\n",
      " 1 0 1 1 1 1 1 1 1 1 0 1 1 1 0 1 1 1 1 1 1 1 1 0 1 0 0 1 1 1 1 1 1 1 0 1 1\n",
      " 1 1 0 1 1 0 1 0 1 1 1 1 1 1 1 1 0 0 1 1 1 0 1 1 0 1 1 1 1 1 1 1 1 1 1 0 1\n",
      " 1 1 1 1 0 1 0 1 1 1 1 0 1 1 1 1 1 0 0 1 0 1 0 0 0 1 1 1 0 1 1 0 1 1 1 0 0\n",
      " 1 1 1 0 1 1 1 1 1 1 1 1 1 1 1 0 1 0 1 1 1 1 1 0 1 1 1 1 1 1 1 1 1 1 1 1 1\n",
      " 1 1 1 1 1 1 1 0 0 0 0 0 0 1]\n"
     ]
    }
   ],
   "source": [
    "kmeans2 = KMeans(n_clusters=2)\n",
    "y_kmeans2 = kmeans2.fit_predict(df)\n",
    "print(y_kmeans2)"
   ]
  },
  {
   "cell_type": "code",
   "execution_count": 18,
   "id": "52cd2a8f",
   "metadata": {},
   "outputs": [
    {
     "data": {
      "text/plain": [
       "<matplotlib.collections.PathCollection at 0x1a16ae26d0>"
      ]
     },
     "execution_count": 18,
     "metadata": {},
     "output_type": "execute_result"
    },
    {
     "data": {
      "image/png": "[encoded data removed]",
      "text/plain": [
       "<Figure size 432x288 with 1 Axes>"
      ]
     },
     "metadata": {
      "needs_background": "light"
     },
     "output_type": "display_data"
    }
   ],
   "source": [
    "plt.scatter(df.iloc[:, 0], df.iloc[:, 1], c=y_kmeans2, cmap='rainbow')"
   ]
  },
  {
   "cell_type": "code",
   "execution_count": 19,
   "id": "121424d7",
   "metadata": {},
   "outputs": [
    {
     "data": {
      "text/plain": [
       "<matplotlib.collections.PathCollection at 0x1a16b6ed90>"
      ]
     },
     "execution_count": 19,
     "metadata": {},
     "output_type": "execute_result"
    },
    {
     "data": {
      "image/png": "[encoded data removed]",
      "text/plain": [
       "<Figure size 432x288 with 1 Axes>"
      ]
     },
     "metadata": {
      "needs_background": "light"
     },
     "output_type": "display_data"
    }
   ],
   "source": [
    "plt.scatter(df.iloc[:, 0], df.iloc[:, 1], c=data.target, cmap='rainbow')"
   ]
  },
  {
   "cell_type": "code",
   "execution_count": 20,
   "id": "2d09e14b",
   "metadata": {},
   "outputs": [],
   "source": [
    "pca = PCA()"
   ]
  },
  {
   "cell_type": "code",
   "execution_count": null,
   "id": "7029ac2a",
   "metadata": {},
   "outputs": [],
   "source": [
    "pca_data = pca.fit_transform(df)"
   ]
  },
  {
   "cell_type": "code",
   "execution_count": null,
   "id": "9b6fe615",
   "metadata": {},
   "outputs": [],
   "source": []
  }
 ],
 "metadata": {
  "kernelspec": {
   "display_name": "Python 3",
   "language": "python",
   "name": "python3"
  },
  "language_info": {
   "codemirror_mode": {
    "name": "ipython",
    "version": 3
   },
   "file_extension": ".py",
   "mimetype": "text/x-python",
   "name": "python",
   "nbconvert_exporter": "python",
   "pygments_lexer": "ipython3",
   "version": "3.7.6"
  }
 },
 "nbformat": 4,
 "nbformat_minor": 5
}
