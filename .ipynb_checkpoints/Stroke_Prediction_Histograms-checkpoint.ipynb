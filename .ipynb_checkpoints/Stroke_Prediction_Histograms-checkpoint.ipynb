{
 "cells": [
  {
   "cell_type": "code",
   "execution_count": null,
   "id": "c8cad258",
   "metadata": {},
   "outputs": [],
   "source": [
    "import pandas as pd\n",
    "import numpy as np\n",
    "import random as rnd\n",
    "import matplotlib.pyplot as plt\n",
    "from sklearn.linear_model import LinearRegression"
   ]
  },
  {
   "cell_type": "code",
   "execution_count": null,
   "id": "fea2407f",
   "metadata": {},
   "outputs": [],
   "source": [
    "file_path = 'healthcare-dataset-stroke-data.csv'\n",
    "data = pd.read_csv(file_path)"
   ]
  },
  {
   "cell_type": "code",
   "execution_count": null,
   "id": "45913ba4",
   "metadata": {},
   "outputs": [],
   "source": [
    "shuffled_data = data.sample(frac=1)"
   ]
  },
  {
   "cell_type": "code",
   "execution_count": null,
   "id": "0e1f0b96",
   "metadata": {},
   "outputs": [],
   "source": [
    "print(shuffled_data)"
   ]
  },
  {
   "cell_type": "code",
   "execution_count": null,
   "id": "da55fa1f",
   "metadata": {},
   "outputs": [],
   "source": [
    "split = int(len(shuffled_data)*.7)\n",
    "train_df = shuffled_data[:split]\n",
    "test_df = shuffled_data[split:]"
   ]
  },
  {
   "cell_type": "code",
   "execution_count": null,
   "id": "62d321f2",
   "metadata": {},
   "outputs": [],
   "source": [
    "train_df.head()"
   ]
  },
  {
   "cell_type": "code",
   "execution_count": null,
   "id": "915b35b1",
   "metadata": {},
   "outputs": [],
   "source": [
    "test_df.head()"
   ]
  },
  {
   "cell_type": "code",
   "execution_count": null,
   "id": "298a080a",
   "metadata": {},
   "outputs": [],
   "source": [
    "#def X_and_y_from_df(df, y_column, X_columns = []):\n",
    "#    X = {}\n",
    "#    for feature in X_columns:\n",
    "#        X[feature] = df[feature].tolist()\n",
    "#    y = df[y_column].tolist()\n",
    "#    return X, y"
   ]
  },
  {
   "cell_type": "code",
   "execution_count": null,
   "id": "8901a282",
   "metadata": {},
   "outputs": [],
   "source": [
    "#X_train, y_train = X_and_y_from_df(train_df, 'age', ['stroke'])\n",
    "#X_test, y_test = X_and_y_from_df(test_df, 'age', ['stroke'])"
   ]
  },
  {
   "cell_type": "code",
   "execution_count": null,
   "id": "e4b79141",
   "metadata": {},
   "outputs": [],
   "source": [
    "#X_train_arr = np.array(X_train['stroke'])\n",
    "#X_train_arr = X_train_arr.reshape(X_train_arr.shape[0], 1)\n",
    "#X_test_arr = np.array(X_test['stroke'])\n",
    "#X_test_arr = X_test_arr.reshape(X_test_arr.shape[0], 1)"
   ]
  },
  {
   "cell_type": "code",
   "execution_count": null,
   "id": "d30e4461",
   "metadata": {},
   "outputs": [],
   "source": [
    "#model = LinearRegression()\n",
    "#model.fit(X_train_arr, y_train)"
   ]
  },
  {
   "cell_type": "code",
   "execution_count": null,
   "id": "03b66e43",
   "metadata": {},
   "outputs": [],
   "source": []
  }
 ],
 "metadata": {
  "kernelspec": {
   "display_name": "Python 3",
   "language": "python",
   "name": "python3"
  },
  "language_info": {
   "codemirror_mode": {
    "name": "ipython",
    "version": 3
   },
   "file_extension": ".py",
   "mimetype": "text/x-python",
   "name": "python",
   "nbconvert_exporter": "python",
   "pygments_lexer": "ipython3",
   "version": "3.7.6"
  }
 },
 "nbformat": 4,
 "nbformat_minor": 5
}
